{
 "cells": [
  {
   "cell_type": "markdown",
   "metadata": {
    "tags": []
   },
   "source": [
    "# Kats 206 - Backtesting with Kats"
   ]
  },
  {
   "cell_type": "markdown",
   "metadata": {},
   "source": [
    "We begin by loading the `air_passengers` data set into a `TimeSeriesData` object.  This code is essentially the same as the code in our introduction to the `TimeSeriesData` object in the Kats 101 Tutorial."
   ]
  },
  {
   "cell_type": "code",
   "execution_count": 18,
   "metadata": {},
   "outputs": [],
   "source": [
    "import pandas as pd\n",
    "from kats.consts import TimeSeriesData\n",
    "from kats.models.prophet import ProphetModel, ProphetParams\n",
    "\n",
    "air_passengers_df = pd.read_csv(\"https://raw.githubusercontent.com/facebookresearch/Kats/main/kats/data/air_passengers.csv\")\n",
    "\n",
    "# Note: If the column holding the time values is not called time, you will want to specify the name of this column.\n",
    "air_passengers_df.columns = [\"time\", \"value\"]\n",
    "air_passengers_ts = TimeSeriesData(air_passengers_df)"
   ]
  },
  {
   "cell_type": "markdown",
   "metadata": {},
   "source": [
    "# 1. Simple Backtesting\n",
    "\n",
    "Kats provides a backtesting module that makes it easy to to compare an evaluate different forecasting models.  While our hyperparameter tuning module allows you to compare different sets of parameters for a single base forecasting model, backtesting allows you to compare different types of base models (with pre-specified parameters).  \n",
    "\n",
    "Our backtesting module allows you to look at multiple error metrics in a single function call.  Here are the error metrics that are currently supported:\n",
    "* Mean Absolute Error (MAE)\n",
    "* Mean Absolute Percentage Error (MAPE)\n",
    "* Symmetric Mean Absolute Percentage Error (SMAPE)\n",
    "* Mean Squared Error (MSE)\n",
    "* Mean Absolute Scaled Error (MASE)\n",
    "* Root Mean Squared Error (RMSE)\n",
    "\n",
    "Our example below shows how you can use the `BackTesterSimple` class to compare errors between an additive and multiplicative Prophet model using the `air_passengers` data set."
   ]
  },
  {
   "cell_type": "code",
   "execution_count": 2,
   "metadata": {},
   "outputs": [],
   "source": [
    "from kats.utils.backtesters import BackTesterSimple"
   ]
  },
  {
   "cell_type": "markdown",
   "metadata": {},
   "source": [
    "Here, we define a backtester to look at each of the supported error metrics.  We specify in the `BackTesterSimple` definition that we are using a 75/25 training-test split to train and evaluate the metrics for this model"
   ]
  },
  {
   "cell_type": "code",
   "execution_count": null,
   "metadata": {
    "scrolled": true,
    "tags": []
   },
   "outputs": [],
   "source": [
    "params = ProphetParams()\n",
    "ALL_ERRORS = ['mape', 'smape', 'mae', 'mase', 'mse', 'rmse']\n",
    "\n",
    "backtester = BackTesterSimple(\n",
    "    error_methods=ALL_ERRORS,\n",
    "    data=air_passengers_ts,\n",
    "    params=params,\n",
    "    train_percentage=75,\n",
    "    test_percentage=25, \n",
    "    model_class=ProphetModel)\n",
    "\n",
    "\n",
    "backtester.run_backtest()"
   ]
  },
  {
   "cell_type": "markdown",
   "metadata": {},
   "source": [
    "After we run the backtester, the `errors` attribute will be a dictionary mapping each error type name to a its corresponding value"
   ]
  },
  {
   "cell_type": "code",
   "execution_count": 4,
   "metadata": {},
   "outputs": [
    {
     "data": {
      "text/plain": [
       "{'mape': 0.0987220885319523,\n",
       " 'smape': 0.09425996205740349,\n",
       " 'mae': 39.98767197068843,\n",
       " 'mase': 1.9681144898176919,\n",
       " 'mse': 2021.2020419795579,\n",
       " 'rmse': 44.95778066118876}"
      ]
     },
     "execution_count": 4,
     "metadata": {},
     "output_type": "execute_result"
    }
   ],
   "source": [
    "backtester.errors"
   ]
  },
  {
   "cell_type": "markdown",
   "metadata": {},
   "source": [
    "## 1.1 Comparing two Simple Backtests"
   ]
  },
  {
   "cell_type": "markdown",
   "metadata": {},
   "source": [
    "First, we store the previous backtest results in a nested dict."
   ]
  },
  {
   "cell_type": "code",
   "execution_count": 5,
   "metadata": {},
   "outputs": [],
   "source": [
    "backtester_errors = {}\n",
    "backtester_errors['prophet_additive'] = {}\n",
    "for error, value in backtester.errors.items():\n",
    "    backtester_errors['prophet_additive'][error] = value"
   ]
  },
  {
   "cell_type": "markdown",
   "metadata": {},
   "source": [
    "Now we run another backteseter to caluculate the same error metrics for a multiplicative Prophet model."
   ]
  },
  {
   "cell_type": "code",
   "execution_count": null,
   "metadata": {
    "scrolled": true,
    "tags": []
   },
   "outputs": [],
   "source": [
    "params_prophet = ProphetParams(seasonality_mode='multiplicative') # additive mode gives worse results\n",
    "\n",
    "backtester_prophet = BackTesterSimple(\n",
    "    error_methods=ALL_ERRORS,\n",
    "    data=air_passengers_ts,\n",
    "    params=params_prophet,\n",
    "    train_percentage=75,\n",
    "    test_percentage=25, \n",
    "    model_class=ProphetModel)\n",
    "\n",
    "backtester_prophet.run_backtest()\n",
    "\n",
    "backtester_errors['prophet_multiplicative'] = {}\n",
    "for error, value in backtester_prophet.errors.items():\n",
    "    backtester_errors['prophet_multiplicative'][error] = value"
   ]
  },
  {
   "cell_type": "markdown",
   "metadata": {},
   "source": [
    "Here we can compare the error metrics for the two models."
   ]
  },
  {
   "cell_type": "code",
   "execution_count": 7,
   "metadata": {},
   "outputs": [
    {
     "data": {
      "text/html": [
       "<div>\n",
       "<style scoped>\n",
       "    .dataframe tbody tr th:only-of-type {\n",
       "        vertical-align: middle;\n",
       "    }\n",
       "\n",
       "    .dataframe tbody tr th {\n",
       "        vertical-align: top;\n",
       "    }\n",
       "\n",
       "    .dataframe thead th {\n",
       "        text-align: right;\n",
       "    }\n",
       "</style>\n",
       "<table border=\"1\" class=\"dataframe\">\n",
       "  <thead>\n",
       "    <tr style=\"text-align: right;\">\n",
       "      <th></th>\n",
       "      <th>prophet_additive</th>\n",
       "      <th>prophet_multiplicative</th>\n",
       "    </tr>\n",
       "  </thead>\n",
       "  <tbody>\n",
       "    <tr>\n",
       "      <th>mape</th>\n",
       "      <td>0.098722</td>\n",
       "      <td>0.074719</td>\n",
       "    </tr>\n",
       "    <tr>\n",
       "      <th>smape</th>\n",
       "      <td>0.094260</td>\n",
       "      <td>0.071171</td>\n",
       "    </tr>\n",
       "    <tr>\n",
       "      <th>mae</th>\n",
       "      <td>39.987672</td>\n",
       "      <td>29.818648</td>\n",
       "    </tr>\n",
       "    <tr>\n",
       "      <th>mase</th>\n",
       "      <td>1.968114</td>\n",
       "      <td>1.467615</td>\n",
       "    </tr>\n",
       "    <tr>\n",
       "      <th>mse</th>\n",
       "      <td>2021.202042</td>\n",
       "      <td>1142.139138</td>\n",
       "    </tr>\n",
       "    <tr>\n",
       "      <th>rmse</th>\n",
       "      <td>44.957781</td>\n",
       "      <td>33.795549</td>\n",
       "    </tr>\n",
       "  </tbody>\n",
       "</table>\n",
       "</div>"
      ],
      "text/plain": [
       "       prophet_additive  prophet_multiplicative\n",
       "mape           0.098722                0.074719\n",
       "smape          0.094260                0.071171\n",
       "mae           39.987672               29.818648\n",
       "mase           1.968114                1.467615\n",
       "mse         2021.202042             1142.139138\n",
       "rmse          44.957781               33.795549"
      ]
     },
     "execution_count": 7,
     "metadata": {},
     "output_type": "execute_result"
    }
   ],
   "source": [
    "pd.DataFrame.from_dict(backtester_errors)"
   ]
  },
  {
   "cell_type": "markdown",
   "metadata": {},
   "source": [
    "# 2. Time Series CrossValidation \n",
    "CrossValidation is a utility function to help make using the different non-simple BackTesters simpler.\n",
    "It essentially wraps the RollingOrigin Backtester to make it a little more accessible to data scientists new to timeseries."
   ]
  },
  {
   "cell_type": "code",
   "execution_count": 8,
   "metadata": {},
   "outputs": [],
   "source": [
    "from kats.utils.backtesters import CrossValidation"
   ]
  },
  {
   "cell_type": "code",
   "execution_count": null,
   "metadata": {
    "scrolled": true,
    "tags": []
   },
   "outputs": [],
   "source": [
    "ts = TimeSeriesData(df=air_passengers_df)\n",
    "params = ProphetParams(seasonality_mode=\"multiplicative\")\n",
    "all_errors = [\"mape\", \"smape\", \"mae\", \"mase\", \"mse\", \"rmse\"]\n",
    "cv = CrossValidation(\n",
    "    error_methods=all_errors,\n",
    "    data=ts,\n",
    "    params=params,\n",
    "    train_percentage=50,\n",
    "    test_percentage=25,\n",
    "    num_folds=3,\n",
    "    model_class=ProphetModel,\n",
    "    constant_train_size=False\n",
    "  )\n",
    "cv.run_cv()"
   ]
  },
  {
   "cell_type": "code",
   "execution_count": 10,
   "metadata": {},
   "outputs": [
    {
     "data": {
      "text/plain": [
       "1.8466151287639943"
      ]
     },
     "execution_count": 10,
     "metadata": {},
     "output_type": "execute_result"
    }
   ],
   "source": [
    "cv.get_error_value(\"mase\")"
   ]
  },
  {
   "cell_type": "markdown",
   "metadata": {},
   "source": [
    "# 3. Rolling Origin Backtester\n",
    "For more information on rolling origin evaluation, see:\n",
    "https://openforecast.org/adam/rollingOrigin.html"
   ]
  },
  {
   "cell_type": "code",
   "execution_count": 11,
   "metadata": {},
   "outputs": [],
   "source": [
    "from kats.utils.backtesters import BackTesterRollingOrigin"
   ]
  },
  {
   "cell_type": "markdown",
   "metadata": {},
   "source": [
    "## 3.1 Rolling Origin with expanding train size"
   ]
  },
  {
   "cell_type": "code",
   "execution_count": null,
   "metadata": {
    "scrolled": true,
    "tags": []
   },
   "outputs": [],
   "source": [
    "params = ProphetParams(seasonality_mode=\"multiplicative\")\n",
    "all_errors = [\"mape\", \"smape\", \"mae\", \"mase\", \"mse\", \"rmse\"]\n",
    "\n",
    "backtester = BackTesterRollingOrigin(\n",
    "    error_methods=all_errors,\n",
    "    data=air_passengers_ts,\n",
    "    params=params,\n",
    "    start_train_percentage=50,\n",
    "    test_percentage=20,\n",
    "    expanding_steps=3,\n",
    "    model_class=ProphetModel,\n",
    "    constant_train_size=False,    \n",
    ")\n",
    "backtester.run_backtest()"
   ]
  },
  {
   "cell_type": "code",
   "execution_count": 13,
   "metadata": {},
   "outputs": [],
   "source": [
    "backtester_errors = {}\n",
    "backtester_errors['prophet_expanding'] = {}\n",
    "for error, value in backtester.errors.items():\n",
    "    backtester_errors['prophet_expanding'][error] = value"
   ]
  },
  {
   "cell_type": "markdown",
   "metadata": {},
   "source": [
    "## 3.2 Rolling Origin with constant train size"
   ]
  },
  {
   "cell_type": "code",
   "execution_count": null,
   "metadata": {
    "scrolled": true,
    "tags": []
   },
   "outputs": [],
   "source": [
    "params = ProphetParams(seasonality_mode=\"multiplicative\")\n",
    "all_errors = [\"mape\", \"smape\", \"mae\", \"mase\", \"mse\", \"rmse\"]\n",
    "\n",
    "backtester = BackTesterRollingOrigin(\n",
    "    error_methods=all_errors,\n",
    "    data=air_passengers_ts,\n",
    "    params=params,\n",
    "    start_train_percentage=50,\n",
    "    test_percentage=20,\n",
    "    expanding_steps=3,\n",
    "    model_class=ProphetModel,\n",
    "    constant_train_size=True,    \n",
    ")\n",
    "backtester.run_backtest()"
   ]
  },
  {
   "cell_type": "code",
   "execution_count": 16,
   "metadata": {},
   "outputs": [],
   "source": [
    "backtester_errors['prophet_constant'] = {}\n",
    "for error, value in backtester.errors.items():\n",
    "    backtester_errors['prophet_constant'][error] = value"
   ]
  },
  {
   "cell_type": "code",
   "execution_count": 17,
   "metadata": {},
   "outputs": [
    {
     "data": {
      "text/html": [
       "<div>\n",
       "<style scoped>\n",
       "    .dataframe tbody tr th:only-of-type {\n",
       "        vertical-align: middle;\n",
       "    }\n",
       "\n",
       "    .dataframe tbody tr th {\n",
       "        vertical-align: top;\n",
       "    }\n",
       "\n",
       "    .dataframe thead th {\n",
       "        text-align: right;\n",
       "    }\n",
       "</style>\n",
       "<table border=\"1\" class=\"dataframe\">\n",
       "  <thead>\n",
       "    <tr style=\"text-align: right;\">\n",
       "      <th></th>\n",
       "      <th>prophet_expanding</th>\n",
       "      <th>prophet_constant</th>\n",
       "    </tr>\n",
       "  </thead>\n",
       "  <tbody>\n",
       "    <tr>\n",
       "      <th>mape</th>\n",
       "      <td>0.074277</td>\n",
       "      <td>0.081833</td>\n",
       "    </tr>\n",
       "    <tr>\n",
       "      <th>smape</th>\n",
       "      <td>0.075449</td>\n",
       "      <td>0.084070</td>\n",
       "    </tr>\n",
       "    <tr>\n",
       "      <th>mae</th>\n",
       "      <td>26.144465</td>\n",
       "      <td>30.195053</td>\n",
       "    </tr>\n",
       "    <tr>\n",
       "      <th>mase</th>\n",
       "      <td>1.494274</td>\n",
       "      <td>1.553073</td>\n",
       "    </tr>\n",
       "    <tr>\n",
       "      <th>mse</th>\n",
       "      <td>1043.690635</td>\n",
       "      <td>1305.484984</td>\n",
       "    </tr>\n",
       "    <tr>\n",
       "      <th>rmse</th>\n",
       "      <td>31.217452</td>\n",
       "      <td>35.951676</td>\n",
       "    </tr>\n",
       "  </tbody>\n",
       "</table>\n",
       "</div>"
      ],
      "text/plain": [
       "       prophet_expanding  prophet_constant\n",
       "mape            0.074277          0.081833\n",
       "smape           0.075449          0.084070\n",
       "mae            26.144465         30.195053\n",
       "mase            1.494274          1.553073\n",
       "mse          1043.690635       1305.484984\n",
       "rmse           31.217452         35.951676"
      ]
     },
     "execution_count": 17,
     "metadata": {},
     "output_type": "execute_result"
    }
   ],
   "source": [
    "pd.DataFrame.from_dict(backtester_errors)"
   ]
  }
 ],
 "metadata": {
  "kernelspec": {
   "display_name": "np-kats-2",
   "language": "python",
   "name": "np-kats-2"
  },
  "language_info": {
   "codemirror_mode": {
    "name": "ipython",
    "version": 3
   },
   "file_extension": ".py",
   "mimetype": "text/x-python",
   "name": "python",
   "nbconvert_exporter": "python",
   "pygments_lexer": "ipython3",
   "version": "3.9.7"
  },
  "metadata": {
   "interpreter": {
    "hash": "5b6e8fba36db23bc4d54e0302cd75fdd75c29d9edcbab68d6cfc74e7e4b30305"
   }
  }
 },
 "nbformat": 4,
 "nbformat_minor": 4
}
