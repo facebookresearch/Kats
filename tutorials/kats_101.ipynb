{
 "metadata": {
  "language_info": {
   "codemirror_mode": {
    "name": "ipython",
    "version": 3
   },
   "file_extension": ".py",
   "mimetype": "text/x-python",
   "name": "python",
   "nbconvert_exporter": "python",
   "pygments_lexer": "ipython3",
   "version": "3.7.6"
  },
  "orig_nbformat": 2,
  "kernelspec": {
   "name": "python376jvsc74a57bd0dca0ade3e726a953b501b15e8e990130d2b7799f14cfd9f4271676035ebe5511",
   "display_name": "Python 3.7.6 64-bit ('base': conda)"
  }
 },
 "nbformat": 4,
 "nbformat_minor": 2,
 "cells": [
  {
   "source": [
    "<h1><center>Kats 101 - Basics</center></h1>\n",
    "\n",
    "Kats stands for kits to analyze time series, a light-weight, easy-to-use, extenable, and generalizable framework to perform time series analysis. Time series analysis is an essential component of data science and engineering works in the industry, such as understanding the key statistics and characteristics, detecting anomalies and change points, to forecasting future trends and extract meaningful features. Kats aims to provide the one-stop shop for time series analysis, including detection, forecasting, feature extraction, multivariate analysis, etc.\n",
    "\n",
    "We provide two types of tutorial notebooks\n",
    "- **Kats 101**, basic data structure and functionalities in Kats (this tutorial)  \n",
    "- **Kats 20x**, advanced topics, such as advanced forecasting techniques (meta-learning, global model, etc.), advanced detection algorithms (Bayesian online change point detection algorithms, etc), and more.\n",
    "\n",
    "This Kats 101 notebook provides basic tutorials of Kats for beginners in time series analysis domain, the table of contents is listed as follows. \n",
    "* 1. Kats Basics\n",
    "    - 1.1 Initiate TimeSeriesData Object\n",
    "* 2. Forecasting with Kats\n",
    "    - 2.1 An example with Prophet model\n",
    "    - 2.2 An example with Theta model\n",
    "* 3. Detection with Kats\n",
    "    - 3.1 What are the algorithms?\n",
    "    - 3.2 An example with outlier detection method\n",
    "    - 3.3 An example with CUSUM algorithm\n",
    "* 4. Feature extraction with Kats\n",
    "    - 4.1 Data prep\n",
    "    - 4.2 Feature extraction with TSFeatures\n",
    "* 5. Useful utilities in Kats\n",
    "    - 5.1 Time series decomposition\n",
    "* 6. Summary"
   ],
   "cell_type": "markdown",
   "metadata": {}
  },
  {
   "cell_type": "code",
   "execution_count": 1,
   "metadata": {},
   "outputs": [
    {
     "output_type": "error",
     "ename": "ModuleNotFoundError",
     "evalue": "No module named 'kats'",
     "traceback": [
      "\u001b[0;31m---------------------------------------------------------------------------\u001b[0m",
      "\u001b[0;31mModuleNotFoundError\u001b[0m                       Traceback (most recent call last)",
      "\u001b[0;32m<ipython-input-1-d3e3d76e7806>\u001b[0m in \u001b[0;36m<module>\u001b[0;34m\u001b[0m\n\u001b[1;32m      4\u001b[0m \u001b[0;32mimport\u001b[0m \u001b[0mmatplotlib\u001b[0m\u001b[0;34m.\u001b[0m\u001b[0mpyplot\u001b[0m \u001b[0;32mas\u001b[0m \u001b[0mplt\u001b[0m\u001b[0;34m\u001b[0m\u001b[0;34m\u001b[0m\u001b[0m\n\u001b[1;32m      5\u001b[0m \u001b[0;34m\u001b[0m\u001b[0m\n\u001b[0;32m----> 6\u001b[0;31m \u001b[0;32mfrom\u001b[0m \u001b[0mkats\u001b[0m\u001b[0;34m.\u001b[0m\u001b[0mconsts\u001b[0m \u001b[0;32mimport\u001b[0m \u001b[0mTimeSeriesData\u001b[0m\u001b[0;34m\u001b[0m\u001b[0;34m\u001b[0m\u001b[0m\n\u001b[0m",
      "\u001b[0;31mModuleNotFoundError\u001b[0m: No module named 'kats'"
     ]
    }
   ],
   "source": [
    "import numpy as np\n",
    "import pandas as pd\n",
    "from datetime import datetime, timedelta\n",
    "import matplotlib.pyplot as plt\n",
    "\n",
    "from kats.consts import TimeSeriesData"
   ]
  },
  {
   "cell_type": "code",
   "execution_count": null,
   "metadata": {},
   "outputs": [],
   "source": []
  }
 ]
}