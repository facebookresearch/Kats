{
 "metadata": {
  "language_info": {
   "codemirror_mode": {
    "name": "ipython",
    "version": 3
   },
   "file_extension": ".py",
   "mimetype": "text/x-python",
   "name": "python",
   "nbconvert_exporter": "python",
   "pygments_lexer": "ipython3",
   "version": "3.8.3"
  },
  "orig_nbformat": 2,
  "kernelspec": {
   "name": "python383jvsc74a57bd05b6e8fba36db23bc4d54e0302cd75fdd75c29d9edcbab68d6cfc74e7e4b30305",
   "display_name": "Python 3.8.3 64-bit"
  },
  "metadata": {
   "interpreter": {
    "hash": "5b6e8fba36db23bc4d54e0302cd75fdd75c29d9edcbab68d6cfc74e7e4b30305"
   }
  }
 },
 "nbformat": 4,
 "nbformat_minor": 2,
 "cells": [
  {
   "source": [
    "<h1><center>Kats 203 Time Series Features</center></h1> \n",
    "\n",
    "Kats, a tool*K*it to *a*nalyze *t*ime *s*eries data, a light-weight, easy-to-use, and generalizable framework to perform Time Series analysis, including feature extraction, detection, forecasting modeling, and more.\n",
    "\n",
    "In this tutorial, we will introduce how to apply tsfeaturs component for extracting meaningful features from time series"
   ],
   "cell_type": "markdown",
   "metadata": {}
  },
  {
   "cell_type": "code",
   "execution_count": 2,
   "metadata": {},
   "outputs": [],
   "source": [
    "import pandas as pd\n",
    "import plotly.express as px\n",
    "from tqdm import tqdm\n",
    "import numpy as np\n",
    "np.random.seed(44)\n",
    "\n",
    "import sys\n",
    "sys.path.append(\"../\")\n",
    "\n",
    "from kats.tsfeatures.tsfeatures import TsFeatures\n",
    "from kats.consts import TimeSeriesData"
   ]
  },
  {
   "source": [
    "## 1. Read data\n",
    "* Kaggle competition: Web Traffic Time Series Forecasting. \n",
    "    * https://www.kaggle.com/c/web-traffic-time-series-forecasting/data\n",
    "    * data represents number of visits of each web page over time, aggregated to daily level"
   ],
   "cell_type": "markdown",
   "metadata": {}
  },
  {
   "source": [
    "# TODO"
   ],
   "cell_type": "markdown",
   "metadata": {}
  },
  {
   "cell_type": "code",
   "execution_count": null,
   "metadata": {},
   "outputs": [],
   "source": []
  }
 ]
}