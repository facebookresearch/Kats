{
 "cells": [
  {
   "cell_type": "markdown",
   "metadata": {},
   "source": [
    "# Kats 205 Forecasting with Global Model"
   ]
  },
  {
   "cell_type": "markdown",
   "metadata": {},
   "source": [
    "This tutorial will introduce how to use the global model in Kats.  The global model is a new and powerful forecasting method that combines exponential smoothing models with recurrent neural networks, resulting in higher accuracy than other approaches. The table of contents for Kats 205 is as follows:\n",
    "\n",
    "1. Overview of global model for forecasting  \n",
    "2. Build Your Own Global Model or Global Ensemble From Scratch  \n",
    "    2.1 Introduction to `GMParam`  \n",
    "    2.2 Forecasting using a single global model with `GMModel`  \n",
    "    2.3 Forecasting using a global model ensemble with `GMEnsemble`  \n",
    "    2.4 Backtesting with `GMBacktester`  \n",
    "3. Using pretrained global model/global ensemble  "
   ]
  },
  {
   "cell_type": "markdown",
   "metadata": {},
   "source": [
    "**Note:** We provide two types of tutorial notebooks\n",
    "- **Kats 101**, basic data structure and functionalities in Kats \n",
    "- **Kats 20x**, advanced topics, including advanced forecasting techniques, advanced detection algorithms, `TsFeatures`, meta-learning, global model etc. "
   ]
  },
  {
   "cell_type": "markdown",
   "metadata": {},
   "source": [
    "## 1. Overview of global model for forecasting\n",
    "\n",
    "The Global Model, henceforth abbreviated as GM, is a powerful forecasting model that was originally proposed by Slawek Smyl and won the Computational Intelligence in Forecasting International Time Series Competition (2016) and the M4 Forecasting competition (2018).  The GM effectively combines exponential smoothing models with LSTM neural networks in a way that results in higher accuracy than a method that only uses pure statistics or machine learning.  \n",
    "\n",
    "Kats has many forecasting models that only use pure statistics, and we discussed many of these approaches in [Kats 201](kats_201_forecasting.ipynb).  We also provide an ML approach to forecasting in our metalearning framework for forecasting, which is covered in [Kats 204](kats_204_metalearning.ipynb).  The GM approach generates more accurate forecasts by combining the advantages of pure statistical and ML approaches.  For more details on how this works, please see the [original paper for the GM](https://www.sciencedirect.com/science/article/pii/S0169207019301153).\n",
    "\n",
    "GM is trained with a large number of time series of the same time granularity.  It generally supports batch processing, meaning it can efficiently generate forecasts for several time series at the same time.  \n",
    "\n",
    "\n",
    "In Kats, we build upon the original model and allow support for two different neural network types when building a GM:\n",
    "1. **Recurrent neural network (RNN)**: This is the default and it's best for short-term forecasting.  \n",
    "2. **Sequence to Sequence (S2S)**: More optimal for medium to long term forecasting. \n",
    "\n"
   ]
  },
  {
   "cell_type": "markdown",
   "metadata": {},
   "source": [
    "## 2. Build Your Own Global Model or Global Ensemble From Scratch\n",
    "\n",
    "The `GMModel` is our basic class to build a single GM.  Kats also supports Global Model Ensembles (GMEs), which are ensembles of independent GMs, with the `GMEnsemble` class.  The `GMParam` is the parameter class for both `GMModel` and `GMEnsemble`.  We also provide the `GMBacktester` class for parameter tunning and backtesting. \n",
    "\n",
    "The examples in this section are designed to display the basic functionality of each of the aforementioned classes.  They are of limited scale and not expected to provide good performance."
   ]
  },
  {
   "cell_type": "markdown",
   "metadata": {},
   "source": [
    "### 2.1 Introduction to `GMParam`\n",
    "\n",
    "All parameters for a GM or a GME are specified using the `GMParam` class.  The `GMParam` class does basic parameter checking when initialized to ensure that the parameters are correctly specified.  Here are some of its key arguments:\n",
    "\n",
    "* **freq**: `str` or `pd.Timedelta`, The time granularity of the model (and the input time series.) For example, `freq='D'` indicates a daily model;\n",
    "* **model_type**: `str`, The name of neural network type - either 'rnn' (recurrent neural network) or 's2s' (sequence to sequence). Default is 'rnn';\n",
    "* **seasonality**: `int`, The integer length of the seasonality period. The default value is 1, indicating a non-seasonal model;\n",
    "* **input_window**: `int`, The length of each input time series.  This should be greater than the `seasonality` argument;\n",
    "* **fcst_window**: `int`,  The number of data points forecast in a single forecast step;\n",
    "* **quantile**: `list[float]`, The float values of the quantiles to forecast.  The first value of this list should always be 0.5, representing the median.  The default value is `[0.5,0.05,0.95,0.99]`;\n",
    "* **nn_structure**: `list[list[int]]`, The structure of the neural network. If not specified, the default value is `[[1,3]]`;\n",
    "* **loss_function**: `list[str]`, The name of loss function - either 'pinball' or 'adjustedpinball';\n",
    "* **gmfeature**: `list[str]` or `str`; A single or a list of feature names.\n",
    "\n",
    "For the definition of other parameters, please see our documentation."
   ]
  },
  {
   "cell_type": "code",
   "execution_count": 1,
   "metadata": {},
   "outputs": [],
   "source": [
    "import numpy as np\n",
    "import pandas as pd\n",
    "import sys\n",
    "import warnings\n",
    "import os\n",
    "import pprint\n",
    "\n",
    "warnings.simplefilter(action='ignore')\n",
    "sys.path.append(\"../\")\n",
    "\n",
    "from kats.models.globalmodel.utils import GMParam"
   ]
  },
  {
   "cell_type": "markdown",
   "metadata": {},
   "source": [
    "Below we initialize a `GMParam` instance that we will use to train a daily model with weekly seasonality. "
   ]
  },
  {
   "cell_type": "code",
   "execution_count": 2,
   "metadata": {},
   "outputs": [],
   "source": [
    "gmparam = GMParam(\n",
    "    input_window = 35, \n",
    "    fcst_window = 31,\n",
    "    seasonality = 7,\n",
    "    freq = 'D',\n",
    "    loss_function = 'adjustedpinball',\n",
    "    nn_structure = [[1,3]],\n",
    "    gmfeature = ['last_date'],\n",
    "    epoch_num = 1, \n",
    "    epoch_size = 2, # use a small num just for demonstration\n",
    "    gmname = \"daily_default\",\n",
    ")"
   ]
  },
  {
   "cell_type": "markdown",
   "metadata": {},
   "source": [
    "### 2.2 Forecasting using a single global model with GMModel\n"
   ]
  },
  {
   "cell_type": "code",
   "execution_count": 3,
   "metadata": {},
   "outputs": [],
   "source": [
    "from kats.models.globalmodel.model import GMModel, load_gmmodel_from_file\n",
    "from kats.models.globalmodel.serialize import global_model_to_json, load_global_model_from_json\n",
    "from kats.consts import TimeSeriesData"
   ]
  },
  {
   "cell_type": "markdown",
   "metadata": {},
   "source": [
    "Now we are ready to train a global model.  A `GMModel` object can be initialized with just one parameter - an instance of the `GMParam` object."
   ]
  },
  {
   "cell_type": "code",
   "execution_count": 4,
   "metadata": {},
   "outputs": [],
   "source": [
    "gm = GMModel(gmparam)"
   ]
  },
  {
   "cell_type": "markdown",
   "metadata": {},
   "source": [
    "To train a `GMModel` object, we need a list or a dictionary of `TimeSeriesData` objects. We will simulate two dictionaries, one for training and one for testing, using the `get_ts` method from our test functions."
   ]
  },
  {
   "cell_type": "code",
   "execution_count": 5,
   "metadata": {},
   "outputs": [],
   "source": [
    "from kats.tests.test_globalmodel import get_ts\n",
    "\n",
    "train_TSs = [get_ts(n*5, '2020-05-06') for n in range(20, 40)]\n",
    "test_TSs = [get_ts(n*2, '2020-05-06') for n in range(40, 45)]"
   ]
  },
  {
   "cell_type": "markdown",
   "metadata": {},
   "source": [
    "It is straightforward to train the GM using the `train` function.  This function also saves basic information about the training process, which we look at below."
   ]
  },
  {
   "cell_type": "code",
   "execution_count": 6,
   "metadata": {},
   "outputs": [
    {
     "name": "stdout",
     "output_type": "stream",
     "text": [
      "{'train_loss_monitor': [0.112794265],\n",
      " 'train_loss_val': [0.40887923538684845],\n",
      " 'valid_fcst_monitor': [],\n",
      " 'valid_loss_monitor': [{'epoch': 0}]}\n"
     ]
    }
   ],
   "source": [
    "# train the model\n",
    "training_info = gm.train(train_TSs)\n",
    "\n",
    "#training_info saves the information of training process\n",
    "pprint.pprint(training_info)"
   ]
  },
  {
   "cell_type": "markdown",
   "metadata": {},
   "source": [
    "Now we can use the trained model to generate forecasts using the `predict` function.  The input of the `predict` function can either be a single `TimeSeriesData` or a list/dictionary of them.  The `predict` function also requires you to specify the number of steps you wish to forecast.  Here, we demonstrate doing batch forecasting on the 5 `TimeSeriesData` objects in `test_TSs` for 3 steps.\n",
    "\n",
    "The input can be a `TimeSeriesData` object or a list/dictionary of TimeSeriesData objects. The returned value is a dictionary of `pd.DataFrame` objects."
   ]
  },
  {
   "cell_type": "code",
   "execution_count": 7,
   "metadata": {},
   "outputs": [],
   "source": [
    "fcsts = gm.predict(test_TSs, steps = 3)"
   ]
  },
  {
   "cell_type": "markdown",
   "metadata": {},
   "source": [
    "This generates a dictionary with 5 keys, one for each time series in `test_TSs`."
   ]
  },
  {
   "cell_type": "code",
   "execution_count": 8,
   "metadata": {},
   "outputs": [
    {
     "data": {
      "text/plain": [
       "dict_keys([0, 1, 2, 3, 4])"
      ]
     },
     "execution_count": 8,
     "metadata": {},
     "output_type": "execute_result"
    }
   ],
   "source": [
    "fcsts.keys()"
   ]
  },
  {
   "cell_type": "markdown",
   "metadata": {},
   "source": [
    "The values in the dictionary are the 3-step forecasts for each time series in `test_TSs`.  Let's look at the forecast for the 3rd time series in the list.  We see a `pd.DataFrame` that gives forecasts for each percentiles 5, 50, 95, and 99 in the 3 days after the time series ends."
   ]
  },
  {
   "cell_type": "code",
   "execution_count": 9,
   "metadata": {},
   "outputs": [
    {
     "data": {
      "text/html": [
       "<div>\n",
       "<style scoped>\n",
       "    .dataframe tbody tr th:only-of-type {\n",
       "        vertical-align: middle;\n",
       "    }\n",
       "\n",
       "    .dataframe tbody tr th {\n",
       "        vertical-align: top;\n",
       "    }\n",
       "\n",
       "    .dataframe thead th {\n",
       "        text-align: right;\n",
       "    }\n",
       "</style>\n",
       "<table border=\"1\" class=\"dataframe\">\n",
       "  <thead>\n",
       "    <tr style=\"text-align: right;\">\n",
       "      <th></th>\n",
       "      <th>fcst_quantile_0.5</th>\n",
       "      <th>fcst_quantile_0.05</th>\n",
       "      <th>fcst_quantile_0.95</th>\n",
       "      <th>fcst_quantile_0.99</th>\n",
       "      <th>time</th>\n",
       "    </tr>\n",
       "  </thead>\n",
       "  <tbody>\n",
       "    <tr>\n",
       "      <th>0</th>\n",
       "      <td>-0.734600</td>\n",
       "      <td>-0.428730</td>\n",
       "      <td>-0.286135</td>\n",
       "      <td>-1.340883</td>\n",
       "      <td>2020-07-31</td>\n",
       "    </tr>\n",
       "    <tr>\n",
       "      <th>1</th>\n",
       "      <td>1.092031</td>\n",
       "      <td>1.828891</td>\n",
       "      <td>0.928108</td>\n",
       "      <td>0.769238</td>\n",
       "      <td>2020-08-01</td>\n",
       "    </tr>\n",
       "    <tr>\n",
       "      <th>2</th>\n",
       "      <td>0.902502</td>\n",
       "      <td>0.978088</td>\n",
       "      <td>-0.026781</td>\n",
       "      <td>0.778905</td>\n",
       "      <td>2020-08-02</td>\n",
       "    </tr>\n",
       "  </tbody>\n",
       "</table>\n",
       "</div>"
      ],
      "text/plain": [
       "   fcst_quantile_0.5  fcst_quantile_0.05  fcst_quantile_0.95  \\\n",
       "0          -0.734600           -0.428730           -0.286135   \n",
       "1           1.092031            1.828891            0.928108   \n",
       "2           0.902502            0.978088           -0.026781   \n",
       "\n",
       "   fcst_quantile_0.99       time  \n",
       "0           -1.340883 2020-07-31  \n",
       "1            0.769238 2020-08-01  \n",
       "2            0.778905 2020-08-02  "
      ]
     },
     "execution_count": 9,
     "metadata": {},
     "output_type": "execute_result"
    }
   ],
   "source": [
    "fcsts[3]"
   ]
  },
  {
   "cell_type": "markdown",
   "metadata": {},
   "source": [
    "We can save the model using the `save_model` function."
   ]
  },
  {
   "cell_type": "code",
   "execution_count": 10,
   "metadata": {},
   "outputs": [],
   "source": [
    "# save model\n",
    "gm.save_model(\"gm_example_1.p\")"
   ]
  },
  {
   "cell_type": "markdown",
   "metadata": {},
   "source": [
    "Let's load the saved model and again use it to repeat the forecast we did above."
   ]
  },
  {
   "cell_type": "code",
   "execution_count": 11,
   "metadata": {},
   "outputs": [
    {
     "data": {
      "text/html": [
       "<div>\n",
       "<style scoped>\n",
       "    .dataframe tbody tr th:only-of-type {\n",
       "        vertical-align: middle;\n",
       "    }\n",
       "\n",
       "    .dataframe tbody tr th {\n",
       "        vertical-align: top;\n",
       "    }\n",
       "\n",
       "    .dataframe thead th {\n",
       "        text-align: right;\n",
       "    }\n",
       "</style>\n",
       "<table border=\"1\" class=\"dataframe\">\n",
       "  <thead>\n",
       "    <tr style=\"text-align: right;\">\n",
       "      <th></th>\n",
       "      <th>fcst_quantile_0.5</th>\n",
       "      <th>fcst_quantile_0.05</th>\n",
       "      <th>fcst_quantile_0.95</th>\n",
       "      <th>fcst_quantile_0.99</th>\n",
       "      <th>time</th>\n",
       "    </tr>\n",
       "  </thead>\n",
       "  <tbody>\n",
       "    <tr>\n",
       "      <th>0</th>\n",
       "      <td>-0.734600</td>\n",
       "      <td>-0.428730</td>\n",
       "      <td>-0.286135</td>\n",
       "      <td>-1.340883</td>\n",
       "      <td>2020-07-31</td>\n",
       "    </tr>\n",
       "    <tr>\n",
       "      <th>1</th>\n",
       "      <td>1.092031</td>\n",
       "      <td>1.828891</td>\n",
       "      <td>0.928108</td>\n",
       "      <td>0.769238</td>\n",
       "      <td>2020-08-01</td>\n",
       "    </tr>\n",
       "    <tr>\n",
       "      <th>2</th>\n",
       "      <td>0.902502</td>\n",
       "      <td>0.978088</td>\n",
       "      <td>-0.026781</td>\n",
       "      <td>0.778905</td>\n",
       "      <td>2020-08-02</td>\n",
       "    </tr>\n",
       "  </tbody>\n",
       "</table>\n",
       "</div>"
      ],
      "text/plain": [
       "   fcst_quantile_0.5  fcst_quantile_0.05  fcst_quantile_0.95  \\\n",
       "0          -0.734600           -0.428730           -0.286135   \n",
       "1           1.092031            1.828891            0.928108   \n",
       "2           0.902502            0.978088           -0.026781   \n",
       "\n",
       "   fcst_quantile_0.99       time  \n",
       "0           -1.340883 2020-07-31  \n",
       "1            0.769238 2020-08-01  \n",
       "2            0.778905 2020-08-02  "
      ]
     },
     "execution_count": 11,
     "metadata": {},
     "output_type": "execute_result"
    }
   ],
   "source": [
    "# load model\n",
    "gm2 = load_gmmodel_from_file(\"gm_example_1.p\")\n",
    "\n",
    "# make prediction \n",
    "fcsts2 = gm2.predict(test_TSs, steps = 3)\n",
    "fcsts2[3]"
   ]
  },
  {
   "cell_type": "markdown",
   "metadata": {},
   "source": [
    "Now let's remove the saved model."
   ]
  },
  {
   "cell_type": "code",
   "execution_count": 12,
   "metadata": {},
   "outputs": [],
   "source": [
    "os.remove(\"gm_example_1.p\")"
   ]
  },
  {
   "cell_type": "markdown",
   "metadata": {},
   "source": [
    "We can also encode GM into a json string using the  `global_model_to_json` function."
   ]
  },
  {
   "cell_type": "code",
   "execution_count": 13,
   "metadata": {},
   "outputs": [],
   "source": [
    "gm_str = global_model_to_json(gm)"
   ]
  },
  {
   "cell_type": "markdown",
   "metadata": {},
   "source": [
    "Let's repeat the same prediction one more time."
   ]
  },
  {
   "cell_type": "code",
   "execution_count": 14,
   "metadata": {},
   "outputs": [
    {
     "data": {
      "text/html": [
       "<div>\n",
       "<style scoped>\n",
       "    .dataframe tbody tr th:only-of-type {\n",
       "        vertical-align: middle;\n",
       "    }\n",
       "\n",
       "    .dataframe tbody tr th {\n",
       "        vertical-align: top;\n",
       "    }\n",
       "\n",
       "    .dataframe thead th {\n",
       "        text-align: right;\n",
       "    }\n",
       "</style>\n",
       "<table border=\"1\" class=\"dataframe\">\n",
       "  <thead>\n",
       "    <tr style=\"text-align: right;\">\n",
       "      <th></th>\n",
       "      <th>fcst_quantile_0.5</th>\n",
       "      <th>fcst_quantile_0.05</th>\n",
       "      <th>fcst_quantile_0.95</th>\n",
       "      <th>fcst_quantile_0.99</th>\n",
       "      <th>time</th>\n",
       "    </tr>\n",
       "  </thead>\n",
       "  <tbody>\n",
       "    <tr>\n",
       "      <th>0</th>\n",
       "      <td>-0.734600</td>\n",
       "      <td>-0.428730</td>\n",
       "      <td>-0.286135</td>\n",
       "      <td>-1.340883</td>\n",
       "      <td>2020-07-31</td>\n",
       "    </tr>\n",
       "    <tr>\n",
       "      <th>1</th>\n",
       "      <td>1.092031</td>\n",
       "      <td>1.828891</td>\n",
       "      <td>0.928108</td>\n",
       "      <td>0.769238</td>\n",
       "      <td>2020-08-01</td>\n",
       "    </tr>\n",
       "    <tr>\n",
       "      <th>2</th>\n",
       "      <td>0.902502</td>\n",
       "      <td>0.978088</td>\n",
       "      <td>-0.026781</td>\n",
       "      <td>0.778905</td>\n",
       "      <td>2020-08-02</td>\n",
       "    </tr>\n",
       "  </tbody>\n",
       "</table>\n",
       "</div>"
      ],
      "text/plain": [
       "   fcst_quantile_0.5  fcst_quantile_0.05  fcst_quantile_0.95  \\\n",
       "0          -0.734600           -0.428730           -0.286135   \n",
       "1           1.092031            1.828891            0.928108   \n",
       "2           0.902502            0.978088           -0.026781   \n",
       "\n",
       "   fcst_quantile_0.99       time  \n",
       "0           -1.340883 2020-07-31  \n",
       "1            0.769238 2020-08-01  \n",
       "2            0.778905 2020-08-02  "
      ]
     },
     "execution_count": 14,
     "metadata": {},
     "output_type": "execute_result"
    }
   ],
   "source": [
    "# load model from json string\n",
    "gm3 = load_global_model_from_json(gm_str)\n",
    "\n",
    "# make prediction \n",
    "fcsts3 = gm3.predict(test_TSs, steps = 3)\n",
    "fcsts3[3]"
   ]
  },
  {
   "cell_type": "markdown",
   "metadata": {},
   "source": [
    "### 2.3 Forecasting using a single global model with GMEnsemble\n",
    "\n",
    "You can also easily build one ensemble of several individual GMs with `GMEnsemble` class. In addition to a `GMParam` object, one also needs to specify how training data set should be splitted and how many independent `GMModel` objects. \n",
    "\n",
    "Here is the list of attributs:\n",
    "* **gmparam**: A GMParam object; This is used for initiating each global model.\n",
    "* **ensemble_type**: String; A string representing how forecasts are combined. Can be 'median' or 'mean'. Default is 'median'.\n",
    "* **splits**: Integer; An positive integer representing the number of sub-datasets to be built. Default is 3.\n",
    "* **overlap**: Boolean; A boolean representing whether or not sub-datasets overlap with each other or not. Default is True. For example, when `splits=3` and `overlap=True`, then each sub-dataset contains 2/3 of training data.\n",
    "* **replicate**: Integer; A positive integer representing the number of global models to be trained on each sub-datasets. Default is 1.\n",
    "* **multi**: Boolean; A boolean representing whether or not to use multi-processing for training and prediction. Default is False.\n",
    "\n",
    "Note that a GMEnsemble object will build `splits*replicate` independent `GMModel` objects, and the final forecasts are aggregated from the forecasts generated from each trained `GMModel` object."
   ]
  },
  {
   "cell_type": "code",
   "execution_count": 15,
   "metadata": {},
   "outputs": [],
   "source": [
    "from kats.models.globalmodel.ensemble import GMEnsemble, load_gmensemble_from_file\n",
    "\n",
    "# Initiate \n",
    "gme = GMEnsemble(gmparam, splits=3, overlap=True, replicate=1, multi=True)\n"
   ]
  },
  {
   "cell_type": "markdown",
   "metadata": {},
   "source": [
    "Now we can train the `GMEnsemble` object. Note that one has the choice of setting aside a test set from the training data to measure the performance of each `GMModel` object throughout the training process."
   ]
  },
  {
   "cell_type": "code",
   "execution_count": 16,
   "metadata": {},
   "outputs": [],
   "source": [
    "gme.train(train_TSs, test_size = 0.1)"
   ]
  },
  {
   "cell_type": "code",
   "execution_count": 17,
   "metadata": {},
   "outputs": [
    {
     "data": {
      "text/plain": [
       "[{'train_loss_monitor': [0.11851728],\n",
       "  'valid_loss_monitor': [{'epoch': 0}],\n",
       "  'valid_fcst_monitor': [],\n",
       "  'train_loss_val': [0.26666390150785446],\n",
       "  'test_info': [      smape     sbias  exceed_0.05  exceed_0.95  exceed_0.99  step  idx  epoch\n",
       "   0  1.341331  0.040348     0.419355     0.387097     0.451613     0   14      0\n",
       "   1  1.462254  0.196207     0.419355     0.451613     0.354839     0    5      0]},\n",
       " {'train_loss_monitor': [0.1094319],\n",
       "  'valid_loss_monitor': [{'epoch': 0}],\n",
       "  'valid_fcst_monitor': [],\n",
       "  'train_loss_val': [0.1915058046579361],\n",
       "  'test_info': [      smape     sbias  exceed_0.05  exceed_0.95  exceed_0.99  step  idx  epoch\n",
       "   0  1.400731  0.037765     0.354839     0.225806     0.290323     0   14      0\n",
       "   1  1.429105  0.290570     0.483871     0.322581     0.290323     0    5      0]},\n",
       " {'train_loss_monitor': [0.10012598],\n",
       "  'valid_loss_monitor': [{'epoch': 0}],\n",
       "  'valid_fcst_monitor': [],\n",
       "  'train_loss_val': [0.3629566431045532],\n",
       "  'test_info': [      smape     sbias  exceed_0.05  exceed_0.95  exceed_0.99  step  idx  epoch\n",
       "   0  1.180617 -0.031143     0.354839     0.483871     0.322581     0   14      0\n",
       "   1  1.326612  0.268376     0.451613     0.290323     0.322581     0    5      0]}]"
      ]
     },
     "execution_count": 17,
     "metadata": {},
     "output_type": "execute_result"
    }
   ],
   "source": [
    "# the information of training process and the evaluation results on the set-aside test set are saved in attribute gm_info.\n",
    "gme.gm_info"
   ]
  },
  {
   "cell_type": "markdown",
   "metadata": {},
   "source": [
    "After training the `GMEnsemble` object, you now can use it to generate forecasts. Similar to the `GMModel` object, the input can be a `TimeSeriesData` object or a list/dictionary of TimeSeriesData objects and the returned value is a dictionary of `pd.DataFrame` objects. "
   ]
  },
  {
   "cell_type": "code",
   "execution_count": 18,
   "metadata": {},
   "outputs": [
    {
     "name": "stdout",
     "output_type": "stream",
     "text": [
      "The generated forecasts is of type <class 'dict'>, and it is {0:    fcst_quantile_0.5  fcst_quantile_0.05  fcst_quantile_0.95  \\\n",
      "0           0.767697            0.404130            0.497639   \n",
      "1           0.037443            0.071744            0.303610   \n",
      "2          -1.401297           -1.378399           -0.707376   \n",
      "\n",
      "   fcst_quantile_0.99       time  \n",
      "0            0.457347 2020-07-25  \n",
      "1            0.077227 2020-07-26  \n",
      "2           -1.142237 2020-07-27  , 1:    fcst_quantile_0.5  fcst_quantile_0.05  fcst_quantile_0.95  \\\n",
      "0           0.313839            0.040294            0.025578   \n",
      "1           0.232108            0.380484            0.459492   \n",
      "2           0.970169            1.245332            2.275410   \n",
      "\n",
      "   fcst_quantile_0.99       time  \n",
      "0           -0.023659 2020-07-27  \n",
      "1            0.217330 2020-07-28  \n",
      "2            1.349539 2020-07-29  , 2:    fcst_quantile_0.5  fcst_quantile_0.05  fcst_quantile_0.95  \\\n",
      "0           0.679296            0.467965            0.468984   \n",
      "1          -0.279722           -0.116939            0.030005   \n",
      "2          -0.477493           -0.401948            0.470322   \n",
      "\n",
      "   fcst_quantile_0.99       time  \n",
      "0            0.415461 2020-07-29  \n",
      "1           -0.147674 2020-07-30  \n",
      "2           -0.227335 2020-07-31  , 3:    fcst_quantile_0.5  fcst_quantile_0.05  fcst_quantile_0.95  \\\n",
      "0          -0.635661           -0.740225           -0.845355   \n",
      "1           1.877550            1.963875            2.236132   \n",
      "2           0.420071            0.718078            1.719562   \n",
      "\n",
      "   fcst_quantile_0.99       time  \n",
      "0           -0.910093 2020-07-31  \n",
      "1            1.968050 2020-08-01  \n",
      "2            0.872755 2020-08-02  , 4:    fcst_quantile_0.5  fcst_quantile_0.05  fcst_quantile_0.95  \\\n",
      "0          -0.308556           -0.430574           -0.569406   \n",
      "1          -0.923922           -0.888947           -0.887725   \n",
      "2           0.045134            0.268152            1.086312   \n",
      "\n",
      "   fcst_quantile_0.99       time  \n",
      "0           -0.580046 2020-08-02  \n",
      "1           -1.018694 2020-08-03  \n",
      "2            0.306689 2020-08-04  }.\n"
     ]
    }
   ],
   "source": [
    "# generate forecasts\n",
    "fcsts=gme.predict(test_TSs, steps = 3)\n",
    "print(f\"The generated forecasts is of type {type(fcsts)}, and it is {fcsts}.\")"
   ]
  },
  {
   "cell_type": "markdown",
   "metadata": {},
   "source": [
    "Similar to the `GMModel` object, you can also easily save/load and serilize the `GMEnsemble` object."
   ]
  },
  {
   "cell_type": "code",
   "execution_count": 19,
   "metadata": {},
   "outputs": [],
   "source": [
    "# save model\n",
    "gme.save_model(\"gme_example_1.p\")\n",
    "\n",
    "# load model\n",
    "gme2 = load_gmensemble_from_file(\"gme_example_1.p\")\n",
    "\n",
    "# remove the saved model\n",
    "os.remove(\"gme_example_1.p\")\n",
    "\n",
    "\n",
    "# encode model into json string\n",
    "gme.gm_info=None # Note that pd.DataFrame is not serilizable\n",
    "gme_str = global_model_to_json(gme)\n",
    "\n",
    "# load model from json string\n",
    "gme3 = load_global_model_from_json(gme_str)"
   ]
  },
  {
   "cell_type": "markdown",
   "metadata": {},
   "source": [
    "### 2.4 Backtesting with `GMBacktester`\n",
    "\n",
    "A `GMBacktester` object helps evaluate the hyper-parameter setting (i.e., the `GMParam` object). Here is a list of some of the attributes:\n",
    "* **data**: A list or a dictionary of `kats.consts.TimeSeriesData` objects for training and validation.\n",
    "* **gmparam**: A `GMParam` object.\n",
    "* **backtest_timestamp**: A list of strings or `pandas.Timestamp` objects representing the backtest timestamps. A backtest timestamp is used to split the time series into the training and testing set.\n",
    "* **splits**: Integer; An positive integer representing the number of sub-datasets to be built. Default is 3.\n",
    "* **overlap**: Boolean; A boolean representing whether or not sub-datasets overlap with each other or not. Default is True. For example, when `splits=3` and `overlap=True`, then each sub-dataset contains 2/3 of training data.\n",
    "* **replicate**: Integer; A positive integer representing the number of global models to be trained on each sub-datasets. Default is 1.\n",
    "\n",
    "For the full list of attributes, please see our documents."
   ]
  },
  {
   "cell_type": "code",
   "execution_count": 20,
   "metadata": {},
   "outputs": [],
   "source": [
    "from kats.models.globalmodel.backtester import GMBackTester\n",
    "\n",
    "# initiate backtester\n",
    "gbm = GMBackTester(train_TSs, gmparam, backtest_timestamp = ['2020-08-10'])"
   ]
  },
  {
   "cell_type": "markdown",
   "metadata": {},
   "source": [
    "Now one can run backtesting."
   ]
  },
  {
   "cell_type": "code",
   "execution_count": 21,
   "metadata": {},
   "outputs": [
    {
     "data": {
      "text/html": [
       "<div>\n",
       "<style scoped>\n",
       "    .dataframe tbody tr th:only-of-type {\n",
       "        vertical-align: middle;\n",
       "    }\n",
       "\n",
       "    .dataframe tbody tr th {\n",
       "        vertical-align: top;\n",
       "    }\n",
       "\n",
       "    .dataframe thead th {\n",
       "        text-align: right;\n",
       "    }\n",
       "</style>\n",
       "<table border=\"1\" class=\"dataframe\">\n",
       "  <thead>\n",
       "    <tr style=\"text-align: right;\">\n",
       "      <th></th>\n",
       "      <th>smape</th>\n",
       "      <th>sbias</th>\n",
       "      <th>exceed_0.05</th>\n",
       "      <th>exceed_0.95</th>\n",
       "      <th>exceed_0.99</th>\n",
       "      <th>model_num</th>\n",
       "      <th>step</th>\n",
       "      <th>idx</th>\n",
       "      <th>type</th>\n",
       "      <th>backtest_ts</th>\n",
       "    </tr>\n",
       "  </thead>\n",
       "  <tbody>\n",
       "    <tr>\n",
       "      <th>0</th>\n",
       "      <td>1.552282</td>\n",
       "      <td>-0.433595</td>\n",
       "      <td>0.290323</td>\n",
       "      <td>0.516129</td>\n",
       "      <td>0.387097</td>\n",
       "      <td>0.0</td>\n",
       "      <td>0</td>\n",
       "      <td>13.0</td>\n",
       "      <td>single</td>\n",
       "      <td>2020-08-10</td>\n",
       "    </tr>\n",
       "    <tr>\n",
       "      <th>1</th>\n",
       "      <td>1.402725</td>\n",
       "      <td>-0.414422</td>\n",
       "      <td>0.354839</td>\n",
       "      <td>0.483871</td>\n",
       "      <td>0.451613</td>\n",
       "      <td>1.0</td>\n",
       "      <td>0</td>\n",
       "      <td>13.0</td>\n",
       "      <td>single</td>\n",
       "      <td>2020-08-10</td>\n",
       "    </tr>\n",
       "    <tr>\n",
       "      <th>2</th>\n",
       "      <td>1.502924</td>\n",
       "      <td>-0.180256</td>\n",
       "      <td>0.322581</td>\n",
       "      <td>0.387097</td>\n",
       "      <td>0.483871</td>\n",
       "      <td>2.0</td>\n",
       "      <td>0</td>\n",
       "      <td>13.0</td>\n",
       "      <td>single</td>\n",
       "      <td>2020-08-10</td>\n",
       "    </tr>\n",
       "    <tr>\n",
       "      <th>3</th>\n",
       "      <td>1.465183</td>\n",
       "      <td>-0.326782</td>\n",
       "      <td>0.322581</td>\n",
       "      <td>0.483871</td>\n",
       "      <td>0.451613</td>\n",
       "      <td>NaN</td>\n",
       "      <td>0</td>\n",
       "      <td>NaN</td>\n",
       "      <td>ensemble</td>\n",
       "      <td>2020-08-10</td>\n",
       "    </tr>\n",
       "    <tr>\n",
       "      <th>4</th>\n",
       "      <td>1.509675</td>\n",
       "      <td>-0.267232</td>\n",
       "      <td>0.677419</td>\n",
       "      <td>0.645161</td>\n",
       "      <td>0.000000</td>\n",
       "      <td>0.0</td>\n",
       "      <td>1</td>\n",
       "      <td>13.0</td>\n",
       "      <td>single</td>\n",
       "      <td>2020-08-10</td>\n",
       "    </tr>\n",
       "    <tr>\n",
       "      <th>5</th>\n",
       "      <td>1.395650</td>\n",
       "      <td>0.206955</td>\n",
       "      <td>0.774194</td>\n",
       "      <td>0.354839</td>\n",
       "      <td>0.290323</td>\n",
       "      <td>1.0</td>\n",
       "      <td>1</td>\n",
       "      <td>13.0</td>\n",
       "      <td>single</td>\n",
       "      <td>2020-08-10</td>\n",
       "    </tr>\n",
       "    <tr>\n",
       "      <th>6</th>\n",
       "      <td>1.165410</td>\n",
       "      <td>0.083440</td>\n",
       "      <td>0.225806</td>\n",
       "      <td>0.129032</td>\n",
       "      <td>0.258065</td>\n",
       "      <td>2.0</td>\n",
       "      <td>1</td>\n",
       "      <td>13.0</td>\n",
       "      <td>single</td>\n",
       "      <td>2020-08-10</td>\n",
       "    </tr>\n",
       "    <tr>\n",
       "      <th>7</th>\n",
       "      <td>1.363542</td>\n",
       "      <td>-0.082123</td>\n",
       "      <td>0.677419</td>\n",
       "      <td>0.387097</td>\n",
       "      <td>0.193548</td>\n",
       "      <td>NaN</td>\n",
       "      <td>1</td>\n",
       "      <td>NaN</td>\n",
       "      <td>ensemble</td>\n",
       "      <td>2020-08-10</td>\n",
       "    </tr>\n",
       "    <tr>\n",
       "      <th>8</th>\n",
       "      <td>1.193258</td>\n",
       "      <td>-0.169224</td>\n",
       "      <td>0.129032</td>\n",
       "      <td>0.161290</td>\n",
       "      <td>0.000000</td>\n",
       "      <td>0.0</td>\n",
       "      <td>2</td>\n",
       "      <td>13.0</td>\n",
       "      <td>single</td>\n",
       "      <td>2020-08-10</td>\n",
       "    </tr>\n",
       "    <tr>\n",
       "      <th>9</th>\n",
       "      <td>1.563056</td>\n",
       "      <td>-0.871619</td>\n",
       "      <td>0.161290</td>\n",
       "      <td>0.096774</td>\n",
       "      <td>0.064516</td>\n",
       "      <td>1.0</td>\n",
       "      <td>2</td>\n",
       "      <td>13.0</td>\n",
       "      <td>single</td>\n",
       "      <td>2020-08-10</td>\n",
       "    </tr>\n",
       "    <tr>\n",
       "      <th>10</th>\n",
       "      <td>1.541526</td>\n",
       "      <td>-0.058474</td>\n",
       "      <td>0.000000</td>\n",
       "      <td>0.000000</td>\n",
       "      <td>0.064516</td>\n",
       "      <td>2.0</td>\n",
       "      <td>2</td>\n",
       "      <td>13.0</td>\n",
       "      <td>single</td>\n",
       "      <td>2020-08-10</td>\n",
       "    </tr>\n",
       "    <tr>\n",
       "      <th>11</th>\n",
       "      <td>1.442467</td>\n",
       "      <td>-0.157533</td>\n",
       "      <td>0.129032</td>\n",
       "      <td>0.096774</td>\n",
       "      <td>0.064516</td>\n",
       "      <td>NaN</td>\n",
       "      <td>2</td>\n",
       "      <td>NaN</td>\n",
       "      <td>ensemble</td>\n",
       "      <td>2020-08-10</td>\n",
       "    </tr>\n",
       "    <tr>\n",
       "      <th>12</th>\n",
       "      <td>1.405557</td>\n",
       "      <td>-0.777188</td>\n",
       "      <td>0.225806</td>\n",
       "      <td>0.580645</td>\n",
       "      <td>0.516129</td>\n",
       "      <td>0.0</td>\n",
       "      <td>0</td>\n",
       "      <td>12.0</td>\n",
       "      <td>single</td>\n",
       "      <td>2020-08-10</td>\n",
       "    </tr>\n",
       "    <tr>\n",
       "      <th>13</th>\n",
       "      <td>1.361103</td>\n",
       "      <td>-0.610229</td>\n",
       "      <td>0.322581</td>\n",
       "      <td>0.516129</td>\n",
       "      <td>0.548387</td>\n",
       "      <td>1.0</td>\n",
       "      <td>0</td>\n",
       "      <td>12.0</td>\n",
       "      <td>single</td>\n",
       "      <td>2020-08-10</td>\n",
       "    </tr>\n",
       "    <tr>\n",
       "      <th>14</th>\n",
       "      <td>1.467852</td>\n",
       "      <td>-0.245254</td>\n",
       "      <td>0.258065</td>\n",
       "      <td>0.483871</td>\n",
       "      <td>0.612903</td>\n",
       "      <td>2.0</td>\n",
       "      <td>0</td>\n",
       "      <td>12.0</td>\n",
       "      <td>single</td>\n",
       "      <td>2020-08-10</td>\n",
       "    </tr>\n",
       "    <tr>\n",
       "      <th>15</th>\n",
       "      <td>1.380113</td>\n",
       "      <td>-0.540811</td>\n",
       "      <td>0.258065</td>\n",
       "      <td>0.548387</td>\n",
       "      <td>0.516129</td>\n",
       "      <td>NaN</td>\n",
       "      <td>0</td>\n",
       "      <td>NaN</td>\n",
       "      <td>ensemble</td>\n",
       "      <td>2020-08-10</td>\n",
       "    </tr>\n",
       "    <tr>\n",
       "      <th>16</th>\n",
       "      <td>1.279815</td>\n",
       "      <td>-0.499482</td>\n",
       "      <td>0.612903</td>\n",
       "      <td>0.387097</td>\n",
       "      <td>0.000000</td>\n",
       "      <td>0.0</td>\n",
       "      <td>1</td>\n",
       "      <td>12.0</td>\n",
       "      <td>single</td>\n",
       "      <td>2020-08-10</td>\n",
       "    </tr>\n",
       "    <tr>\n",
       "      <th>17</th>\n",
       "      <td>1.545820</td>\n",
       "      <td>-0.352128</td>\n",
       "      <td>0.677419</td>\n",
       "      <td>0.129032</td>\n",
       "      <td>0.096774</td>\n",
       "      <td>1.0</td>\n",
       "      <td>1</td>\n",
       "      <td>12.0</td>\n",
       "      <td>single</td>\n",
       "      <td>2020-08-10</td>\n",
       "    </tr>\n",
       "    <tr>\n",
       "      <th>18</th>\n",
       "      <td>1.349852</td>\n",
       "      <td>-0.166198</td>\n",
       "      <td>0.290323</td>\n",
       "      <td>0.032258</td>\n",
       "      <td>0.096774</td>\n",
       "      <td>2.0</td>\n",
       "      <td>1</td>\n",
       "      <td>12.0</td>\n",
       "      <td>single</td>\n",
       "      <td>2020-08-10</td>\n",
       "    </tr>\n",
       "    <tr>\n",
       "      <th>19</th>\n",
       "      <td>1.367795</td>\n",
       "      <td>-0.469763</td>\n",
       "      <td>0.612903</td>\n",
       "      <td>0.129032</td>\n",
       "      <td>0.064516</td>\n",
       "      <td>NaN</td>\n",
       "      <td>1</td>\n",
       "      <td>NaN</td>\n",
       "      <td>ensemble</td>\n",
       "      <td>2020-08-10</td>\n",
       "    </tr>\n",
       "    <tr>\n",
       "      <th>20</th>\n",
       "      <td>0.256988</td>\n",
       "      <td>0.201525</td>\n",
       "      <td>0.064516</td>\n",
       "      <td>0.032258</td>\n",
       "      <td>0.000000</td>\n",
       "      <td>0.0</td>\n",
       "      <td>2</td>\n",
       "      <td>12.0</td>\n",
       "      <td>single</td>\n",
       "      <td>2020-08-10</td>\n",
       "    </tr>\n",
       "    <tr>\n",
       "      <th>21</th>\n",
       "      <td>1.372235</td>\n",
       "      <td>-0.627765</td>\n",
       "      <td>0.064516</td>\n",
       "      <td>0.000000</td>\n",
       "      <td>0.000000</td>\n",
       "      <td>1.0</td>\n",
       "      <td>2</td>\n",
       "      <td>12.0</td>\n",
       "      <td>single</td>\n",
       "      <td>2020-08-10</td>\n",
       "    </tr>\n",
       "    <tr>\n",
       "      <th>22</th>\n",
       "      <td>0.467057</td>\n",
       "      <td>0.467057</td>\n",
       "      <td>0.032258</td>\n",
       "      <td>0.000000</td>\n",
       "      <td>0.000000</td>\n",
       "      <td>2.0</td>\n",
       "      <td>2</td>\n",
       "      <td>12.0</td>\n",
       "      <td>single</td>\n",
       "      <td>2020-08-10</td>\n",
       "    </tr>\n",
       "    <tr>\n",
       "      <th>23</th>\n",
       "      <td>0.392922</td>\n",
       "      <td>0.392922</td>\n",
       "      <td>0.064516</td>\n",
       "      <td>0.000000</td>\n",
       "      <td>0.000000</td>\n",
       "      <td>NaN</td>\n",
       "      <td>2</td>\n",
       "      <td>NaN</td>\n",
       "      <td>ensemble</td>\n",
       "      <td>2020-08-10</td>\n",
       "    </tr>\n",
       "  </tbody>\n",
       "</table>\n",
       "</div>"
      ],
      "text/plain": [
       "       smape     sbias  exceed_0.05  exceed_0.95  exceed_0.99  model_num  \\\n",
       "0   1.552282 -0.433595     0.290323     0.516129     0.387097        0.0   \n",
       "1   1.402725 -0.414422     0.354839     0.483871     0.451613        1.0   \n",
       "2   1.502924 -0.180256     0.322581     0.387097     0.483871        2.0   \n",
       "3   1.465183 -0.326782     0.322581     0.483871     0.451613        NaN   \n",
       "4   1.509675 -0.267232     0.677419     0.645161     0.000000        0.0   \n",
       "5   1.395650  0.206955     0.774194     0.354839     0.290323        1.0   \n",
       "6   1.165410  0.083440     0.225806     0.129032     0.258065        2.0   \n",
       "7   1.363542 -0.082123     0.677419     0.387097     0.193548        NaN   \n",
       "8   1.193258 -0.169224     0.129032     0.161290     0.000000        0.0   \n",
       "9   1.563056 -0.871619     0.161290     0.096774     0.064516        1.0   \n",
       "10  1.541526 -0.058474     0.000000     0.000000     0.064516        2.0   \n",
       "11  1.442467 -0.157533     0.129032     0.096774     0.064516        NaN   \n",
       "12  1.405557 -0.777188     0.225806     0.580645     0.516129        0.0   \n",
       "13  1.361103 -0.610229     0.322581     0.516129     0.548387        1.0   \n",
       "14  1.467852 -0.245254     0.258065     0.483871     0.612903        2.0   \n",
       "15  1.380113 -0.540811     0.258065     0.548387     0.516129        NaN   \n",
       "16  1.279815 -0.499482     0.612903     0.387097     0.000000        0.0   \n",
       "17  1.545820 -0.352128     0.677419     0.129032     0.096774        1.0   \n",
       "18  1.349852 -0.166198     0.290323     0.032258     0.096774        2.0   \n",
       "19  1.367795 -0.469763     0.612903     0.129032     0.064516        NaN   \n",
       "20  0.256988  0.201525     0.064516     0.032258     0.000000        0.0   \n",
       "21  1.372235 -0.627765     0.064516     0.000000     0.000000        1.0   \n",
       "22  0.467057  0.467057     0.032258     0.000000     0.000000        2.0   \n",
       "23  0.392922  0.392922     0.064516     0.000000     0.000000        NaN   \n",
       "\n",
       "    step   idx      type backtest_ts  \n",
       "0      0  13.0    single  2020-08-10  \n",
       "1      0  13.0    single  2020-08-10  \n",
       "2      0  13.0    single  2020-08-10  \n",
       "3      0   NaN  ensemble  2020-08-10  \n",
       "4      1  13.0    single  2020-08-10  \n",
       "5      1  13.0    single  2020-08-10  \n",
       "6      1  13.0    single  2020-08-10  \n",
       "7      1   NaN  ensemble  2020-08-10  \n",
       "8      2  13.0    single  2020-08-10  \n",
       "9      2  13.0    single  2020-08-10  \n",
       "10     2  13.0    single  2020-08-10  \n",
       "11     2   NaN  ensemble  2020-08-10  \n",
       "12     0  12.0    single  2020-08-10  \n",
       "13     0  12.0    single  2020-08-10  \n",
       "14     0  12.0    single  2020-08-10  \n",
       "15     0   NaN  ensemble  2020-08-10  \n",
       "16     1  12.0    single  2020-08-10  \n",
       "17     1  12.0    single  2020-08-10  \n",
       "18     1  12.0    single  2020-08-10  \n",
       "19     1   NaN  ensemble  2020-08-10  \n",
       "20     2  12.0    single  2020-08-10  \n",
       "21     2  12.0    single  2020-08-10  \n",
       "22     2  12.0    single  2020-08-10  \n",
       "23     2   NaN  ensemble  2020-08-10  "
      ]
     },
     "execution_count": 21,
     "metadata": {},
     "output_type": "execute_result"
    }
   ],
   "source": [
    "gbm.run_backtest()"
   ]
  },
  {
   "cell_type": "markdown",
   "metadata": {},
   "source": [
    "## 3. Using pretrained global model/global ensemble\n",
    "\n",
    "In Kats, we provide two pre-trained daily `GMEnsemble` objects (one is S2S-GME and and the other one is RNN-GME). Both of them are trained with M4 dataset. One can use them for forecasting exploration or benchmark."
   ]
  },
  {
   "cell_type": "code",
   "execution_count": 22,
   "metadata": {},
   "outputs": [
    {
     "name": "stderr",
     "output_type": "stream",
     "text": [
      "ERROR:root:Fail to load GMEnsemble from ../kats/models/globalmodel/pretrained_daily_rnn.p with Exception [Errno 2] No such file or directory: '../kats/models/globalmodel/pretrained_daily_rnn.p'.\n"
     ]
    },
    {
     "ename": "ValueError",
     "evalue": "Fail to load GMEnsemble from ../kats/models/globalmodel/pretrained_daily_rnn.p with Exception [Errno 2] No such file or directory: '../kats/models/globalmodel/pretrained_daily_rnn.p'.",
     "output_type": "error",
     "traceback": [
      "\u001b[0;31m---------------------------------------------------------------------------\u001b[0m",
      "\u001b[0;31mFileNotFoundError\u001b[0m                         Traceback (most recent call last)",
      "\u001b[0;32m~/Kats/kats/models/globalmodel/ensemble.py\u001b[0m in \u001b[0;36mload_gmensemble_from_file\u001b[0;34m(file_name)\u001b[0m\n\u001b[1;32m    511\u001b[0m     \u001b[0;32mtry\u001b[0m\u001b[0;34m:\u001b[0m\u001b[0;34m\u001b[0m\u001b[0;34m\u001b[0m\u001b[0m\n\u001b[0;32m--> 512\u001b[0;31m         \u001b[0minfo\u001b[0m \u001b[0;34m=\u001b[0m \u001b[0mjoblib\u001b[0m\u001b[0;34m.\u001b[0m\u001b[0mload\u001b[0m\u001b[0;34m(\u001b[0m\u001b[0mopen\u001b[0m\u001b[0;34m(\u001b[0m\u001b[0mfile_name\u001b[0m\u001b[0;34m,\u001b[0m \u001b[0;34m\"rb\"\u001b[0m\u001b[0;34m)\u001b[0m\u001b[0;34m)\u001b[0m\u001b[0;34m\u001b[0m\u001b[0;34m\u001b[0m\u001b[0m\n\u001b[0m\u001b[1;32m    513\u001b[0m         \u001b[0mgmparam\u001b[0m \u001b[0;34m=\u001b[0m \u001b[0mgmparam_from_string\u001b[0m\u001b[0;34m(\u001b[0m\u001b[0minfo\u001b[0m\u001b[0;34m[\u001b[0m\u001b[0;34m\"gmparam_string\"\u001b[0m\u001b[0;34m]\u001b[0m\u001b[0;34m)\u001b[0m\u001b[0;34m\u001b[0m\u001b[0;34m\u001b[0m\u001b[0m\n",
      "\u001b[0;31mFileNotFoundError\u001b[0m: [Errno 2] No such file or directory: '../kats/models/globalmodel/pretrained_daily_rnn.p'",
      "\nDuring handling of the above exception, another exception occurred:\n",
      "\u001b[0;31mValueError\u001b[0m                                Traceback (most recent call last)",
      "\u001b[0;32m<ipython-input-22-a5485a226491>\u001b[0m in \u001b[0;36m<module>\u001b[0;34m\u001b[0m\n\u001b[0;32m----> 1\u001b[0;31m \u001b[0mgme_rnn\u001b[0m \u001b[0;34m=\u001b[0m \u001b[0mload_gmensemble_from_file\u001b[0m\u001b[0;34m(\u001b[0m\u001b[0;34m\"../kats/models/globalmodel/pretrained_daily_rnn.p\"\u001b[0m\u001b[0;34m)\u001b[0m\u001b[0;34m\u001b[0m\u001b[0;34m\u001b[0m\u001b[0m\n\u001b[0m\u001b[1;32m      2\u001b[0m \u001b[0mgme_rnn\u001b[0m\u001b[0;34m\u001b[0m\u001b[0;34m\u001b[0m\u001b[0m\n",
      "\u001b[0;32m~/Kats/kats/models/globalmodel/ensemble.py\u001b[0m in \u001b[0;36mload_gmensemble_from_file\u001b[0;34m(file_name)\u001b[0m\n\u001b[1;32m    535\u001b[0m         \u001b[0mmsg\u001b[0m \u001b[0;34m=\u001b[0m \u001b[0;34mf\"Fail to load GMEnsemble from {file_name} with Exception {e}.\"\u001b[0m\u001b[0;34m\u001b[0m\u001b[0;34m\u001b[0m\u001b[0m\n\u001b[1;32m    536\u001b[0m         \u001b[0mlogging\u001b[0m\u001b[0;34m.\u001b[0m\u001b[0merror\u001b[0m\u001b[0;34m(\u001b[0m\u001b[0mmsg\u001b[0m\u001b[0;34m)\u001b[0m\u001b[0;34m\u001b[0m\u001b[0;34m\u001b[0m\u001b[0m\n\u001b[0;32m--> 537\u001b[0;31m         \u001b[0;32mraise\u001b[0m \u001b[0mValueError\u001b[0m\u001b[0;34m(\u001b[0m\u001b[0mmsg\u001b[0m\u001b[0;34m)\u001b[0m\u001b[0;34m\u001b[0m\u001b[0;34m\u001b[0m\u001b[0m\n\u001b[0m\u001b[1;32m    538\u001b[0m     \u001b[0;32mreturn\u001b[0m \u001b[0mgmensemble\u001b[0m\u001b[0;34m\u001b[0m\u001b[0;34m\u001b[0m\u001b[0m\n",
      "\u001b[0;31mValueError\u001b[0m: Fail to load GMEnsemble from ../kats/models/globalmodel/pretrained_daily_rnn.p with Exception [Errno 2] No such file or directory: '../kats/models/globalmodel/pretrained_daily_rnn.p'."
     ]
    }
   ],
   "source": [
    "gme_rnn = load_gmensemble_from_file(\"../kats/models/globalmodel/pretrained_daily_rnn.p\")\n",
    "gme_rnn"
   ]
  },
  {
   "cell_type": "markdown",
   "metadata": {},
   "source": [
    "You can use this loaded pre-trained model to generate forecasts."
   ]
  },
  {
   "cell_type": "code",
   "execution_count": null,
   "metadata": {},
   "outputs": [],
   "source": [
    "fcsts = gme_rnn.predict(test_TSs, steps = 3)\n",
    "fcsts"
   ]
  },
  {
   "cell_type": "code",
   "execution_count": null,
   "metadata": {},
   "outputs": [],
   "source": []
  },
  {
   "cell_type": "code",
   "execution_count": null,
   "metadata": {},
   "outputs": [],
   "source": []
  }
 ],
 "metadata": {
  "interpreter": {
   "hash": "5b6e8fba36db23bc4d54e0302cd75fdd75c29d9edcbab68d6cfc74e7e4b30305"
  },
  "kernelspec": {
   "display_name": "Python 3",
   "language": "python",
   "name": "python3"
  },
  "language_info": {
   "codemirror_mode": {
    "name": "ipython",
    "version": 3
   },
   "file_extension": ".py",
   "mimetype": "text/x-python",
   "name": "python",
   "nbconvert_exporter": "python",
   "pygments_lexer": "ipython3",
   "version": "3.8.8"
  }
 },
 "nbformat": 4,
 "nbformat_minor": 2
}
