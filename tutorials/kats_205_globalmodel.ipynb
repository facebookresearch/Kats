{
 "cells": [
  {
   "cell_type": "markdown",
   "metadata": {},
   "source": [
    "# Kats 205 Forecasting with Global Model"
   ]
  },
  {
   "cell_type": "markdown",
   "metadata": {},
   "source": [
    "This tutorial will introduce how to use the global model in Kats.  The global model is a new and powerful forecasting method that combines exponential smoothing models with recurrent neural networks, resulting in higher accuracy than other approaches. The table of contents for Kats 205 is as follows:\n",
    "\n",
    "1. Overview of Global Model for Forecasting  \n",
    "2. Build Your Own Global Model or Global Ensemble From Scratch  \n",
    "    2.1 Introduction to `GMParam`  \n",
    "    2.2 Forecasting using a single global model with `GMModel`  \n",
    "    2.3 Forecasting using a global model ensemble with `GMEnsemble`  \n",
    "    2.4 Backtesting with `GMBacktester`  \n",
    "3. Using Pretrained Global Model or Global Ensemble  "
   ]
  },
  {
   "cell_type": "markdown",
   "metadata": {},
   "source": [
    "**Note:** We provide two types of tutorial notebooks\n",
    "- **Kats 101**, basic data structure and functionalities in Kats \n",
    "- **Kats 20x**, advanced topics, including advanced forecasting techniques, advanced detection algorithms, `TsFeatures`, meta-learning, global model etc. "
   ]
  },
  {
   "cell_type": "markdown",
   "metadata": {},
   "source": [
    "## 1. Overview of Global Model for Forecasting\n",
    "\n",
    "The Global Model, henceforth abbreviated as GM, is a powerful forecasting model that was originally proposed by Slawek Smyl and won the Computational Intelligence in Forecasting International Time Series Competition (2016) and the M4 Forecasting competition (2018).  The GM effectively combines exponential smoothing models with neural networks in a way that results in higher accuracy than a method that only uses pure statistics or machine learning.  \n",
    "\n",
    "Kats has many forecasting models that only use pure statistics, and we discussed many of these approaches in [Kats 201](kats_201_forecasting.ipynb).  We also provide an ML approach to forecasting in our metalearning framework for forecasting, which is covered in [Kats 204](kats_204_metalearning.ipynb).  The GM approach generates more accurate forecasts by combining the advantages of pure statistical and ML approaches.  For more details on how this works, please see the [original paper for the GM](https://www.sciencedirect.com/science/article/pii/S0169207019301153).\n",
    "\n",
    "GM is trained with a large number of time series of the same time granularity.  It generally supports batch processing, meaning it can efficiently generate forecasts for several time series at the same time.  \n",
    "\n",
    "\n",
    "In Kats, we build upon the original model and allow support for two different neural network types when building a GM:\n",
    "1. **Recurrent neural network (RNN)**: This is the default and it's best for short-term forecasting.  \n",
    "2. **Sequence to Sequence (S2S)**: More optimal for medium to long term forecasting. "
   ]
  },
  {
   "cell_type": "markdown",
   "metadata": {},
   "source": [
    "## 2. Build Your Own Global Model or Global Ensemble From Scratch\n",
    "\n",
    "The `GMModel` is our basic class to build a single GM.  Kats also supports Global Model Ensembles (GMEs), which are ensembles of independent GMs, with the `GMEnsemble` class.  The `GMParam` is the parameter class for both `GMModel` and `GMEnsemble`.  We also provide the `GMBacktester` class for parameter tunning and backtesting. \n",
    "\n",
    "The examples in this section are designed to display the basic functionality of each of the aforementioned classes.  They are of limited scale and not expected to provide good performance."
   ]
  },
  {
   "cell_type": "markdown",
   "metadata": {},
   "source": [
    "### 2.1 Introduction to `GMParam`"
   ]
  },
  {
   "cell_type": "markdown",
   "metadata": {},
   "source": [
    "All parameters for a GM or a GME are specified using the `GMParam` class.  The `GMParam` class does basic parameter checking when initialized to ensure that the parameters are correctly specified.  Here are some of its key arguments:\n",
    "\n",
    "* **freq**: `str` or `pd.Timedelta`, The time granularity of the model (and the input time series.) For example, `freq='D'` indicates a daily model;\n",
    "* **model_type**: `str`, The name of neural network type - either 'rnn' (recurrent neural network) or 's2s' (sequence to sequence). Default is 'rnn';\n",
    "* **seasonality**: `int`, The integer length of the seasonality period. The default value is 1, indicating a non-seasonal model;\n",
    "* **input_window**: `int`, This parameter specifies the size into which we segment our input time series to feed them into the neural network.  It should be greater than the `seasonality` argument;\n",
    "* **fcst_window**: `int`,  The number of data points forecast in a single forecast step;\n",
    "* **quantile**: `list[float]`, The float values of the quantiles to forecast.  The first value of this list should always be 0.5, representing the median.  The default value is `[0.5,0.05,0.95,0.99]`;\n",
    "* **nn_structure**: `list[list[int]]`, The structure of the neural network. If not specified, the default value is `[[1,3]]`;\n",
    "* **loss_function**: `list[str]`, The name of loss function - either 'pinball' or 'adjustedpinball';\n",
    "* **gmfeature**: `list[str]` or `str`; A single or a list of feature names.\n",
    "\n",
    "For the definition of other parameters, please see our documentation."
   ]
  },
  {
   "cell_type": "code",
   "execution_count": 1,
   "metadata": {},
   "outputs": [],
   "source": [
    "import numpy as np\n",
    "import pandas as pd\n",
    "import sys\n",
    "import warnings\n",
    "import os\n",
    "import pprint\n",
    "\n",
    "warnings.simplefilter(action='ignore')\n",
    "sys.path.append(\"../\")\n",
    "\n",
    "from kats.models.globalmodel.utils import GMParam"
   ]
  },
  {
   "cell_type": "markdown",
   "metadata": {},
   "source": [
    "Below we initialize a `GMParam` instance that we will use to train a daily model with weekly seasonality. "
   ]
  },
  {
   "cell_type": "code",
   "execution_count": 2,
   "metadata": {},
   "outputs": [],
   "source": [
    "gmparam = GMParam(\n",
    "    input_window = 35, \n",
    "    fcst_window = 31,\n",
    "    seasonality = 7,\n",
    "    freq = 'D',\n",
    "    loss_function = 'adjustedpinball',\n",
    "    nn_structure = [[1,3]],\n",
    "    gmfeature = ['last_date'],\n",
    "    epoch_num = 1, \n",
    "    epoch_size = 2, # use a small num just for demonstration\n",
    "    gmname = \"daily_default\",\n",
    ")"
   ]
  },
  {
   "cell_type": "markdown",
   "metadata": {},
   "source": [
    "### 2.2 Forecasting using a single global model with `GMModel`  "
   ]
  },
  {
   "cell_type": "code",
   "execution_count": 3,
   "metadata": {},
   "outputs": [],
   "source": [
    "from kats.models.globalmodel.model import GMModel, load_gmmodel_from_file\n",
    "from kats.models.globalmodel.serialize import global_model_to_json, load_global_model_from_json\n",
    "from kats.consts import TimeSeriesData"
   ]
  },
  {
   "cell_type": "markdown",
   "metadata": {},
   "source": [
    "Now we are ready to train a global model.  A `GMModel` object can be initialized with just one parameter - an instance of the `GMParam` object."
   ]
  },
  {
   "cell_type": "code",
   "execution_count": 4,
   "metadata": {},
   "outputs": [],
   "source": [
    "gm = GMModel(gmparam)"
   ]
  },
  {
   "cell_type": "markdown",
   "metadata": {},
   "source": [
    "To train a `GMModel` object, we need a list or a dictionary of `TimeSeriesData` objects. We will simulate two dictionaries, one for training and one for testing, using the `get_ts` method from our test functions."
   ]
  },
  {
   "cell_type": "code",
   "execution_count": 5,
   "metadata": {},
   "outputs": [],
   "source": [
    "from kats.tests.test_globalmodel import get_ts\n",
    "\n",
    "train_TSs = [get_ts(n*5, '2020-05-06', has_nans=False) for n in range(20, 40)]\n",
    "test_TSs = [get_ts(n*2, '2020-05-06', has_nans=False) for n in range(40, 45)]"
   ]
  },
  {
   "cell_type": "markdown",
   "metadata": {},
   "source": [
    "It is straightforward to train the GM using the `train` function.  This function also saves basic information about the training process, which we look at below."
   ]
  },
  {
   "cell_type": "code",
   "execution_count": 6,
   "metadata": {},
   "outputs": [
    {
     "name": "stdout",
     "output_type": "stream",
     "text": [
      "{'train_loss_monitor': [0.10751946],\n",
      " 'train_loss_val': [0.2553587183356285],\n",
      " 'valid_fcst_monitor': [],\n",
      " 'valid_loss_monitor': [{'epoch': 0}]}\n"
     ]
    }
   ],
   "source": [
    "# train the model\n",
    "training_info = gm.train(train_TSs)\n",
    "\n",
    "#training_info saves the information of training process\n",
    "pprint.pprint(training_info)"
   ]
  },
  {
   "cell_type": "markdown",
   "metadata": {},
   "source": [
    "Now we can use the trained model to generate forecasts using the `predict` function.  The input of the `predict` function can either be a single `TimeSeriesData` or a list/dictionary of them.  The `predict` function also requires you to specify the number of steps you wish to forecast.  Here, we demonstrate doing batch forecasting on the 5 `TimeSeriesData` objects in `test_TSs` for 3 steps.\n"
   ]
  },
  {
   "cell_type": "code",
   "execution_count": 7,
   "metadata": {},
   "outputs": [],
   "source": [
    "fcsts = gm.predict(test_TSs, steps = 3)"
   ]
  },
  {
   "cell_type": "markdown",
   "metadata": {},
   "source": [
    "This generates a dictionary with 5 keys, one for each time series in `test_TSs`."
   ]
  },
  {
   "cell_type": "code",
   "execution_count": 8,
   "metadata": {},
   "outputs": [
    {
     "data": {
      "text/plain": [
       "dict_keys([0, 1, 2, 3, 4])"
      ]
     },
     "execution_count": 8,
     "metadata": {},
     "output_type": "execute_result"
    }
   ],
   "source": [
    "fcsts.keys()"
   ]
  },
  {
   "cell_type": "markdown",
   "metadata": {},
   "source": [
    "The values in the dictionary are the 3-step forecasts for each time series in `test_TSs`.  Let's look at the forecast for the 3rd time series in the list.  We see a `pd.DataFrame` that gives forecasts for each percentiles 5, 50, 95, and 99 in the 3 days after the time series ends."
   ]
  },
  {
   "cell_type": "code",
   "execution_count": 9,
   "metadata": {},
   "outputs": [
    {
     "data": {
      "text/html": [
       "<div>\n",
       "<style scoped>\n",
       "    .dataframe tbody tr th:only-of-type {\n",
       "        vertical-align: middle;\n",
       "    }\n",
       "\n",
       "    .dataframe tbody tr th {\n",
       "        vertical-align: top;\n",
       "    }\n",
       "\n",
       "    .dataframe thead th {\n",
       "        text-align: right;\n",
       "    }\n",
       "</style>\n",
       "<table border=\"1\" class=\"dataframe\">\n",
       "  <thead>\n",
       "    <tr style=\"text-align: right;\">\n",
       "      <th></th>\n",
       "      <th>fcst_quantile_0.5</th>\n",
       "      <th>fcst_quantile_0.05</th>\n",
       "      <th>fcst_quantile_0.95</th>\n",
       "      <th>fcst_quantile_0.99</th>\n",
       "      <th>time</th>\n",
       "    </tr>\n",
       "  </thead>\n",
       "  <tbody>\n",
       "    <tr>\n",
       "      <th>0</th>\n",
       "      <td>-0.748453</td>\n",
       "      <td>-0.189885</td>\n",
       "      <td>-0.567380</td>\n",
       "      <td>-0.067029</td>\n",
       "      <td>2020-07-31</td>\n",
       "    </tr>\n",
       "    <tr>\n",
       "      <th>1</th>\n",
       "      <td>0.918473</td>\n",
       "      <td>0.573938</td>\n",
       "      <td>0.905266</td>\n",
       "      <td>1.170326</td>\n",
       "      <td>2020-08-01</td>\n",
       "    </tr>\n",
       "    <tr>\n",
       "      <th>2</th>\n",
       "      <td>0.627886</td>\n",
       "      <td>0.869479</td>\n",
       "      <td>0.085866</td>\n",
       "      <td>0.972686</td>\n",
       "      <td>2020-08-02</td>\n",
       "    </tr>\n",
       "  </tbody>\n",
       "</table>\n",
       "</div>"
      ],
      "text/plain": [
       "   fcst_quantile_0.5  fcst_quantile_0.05  fcst_quantile_0.95  \\\n",
       "0          -0.748453           -0.189885           -0.567380   \n",
       "1           0.918473            0.573938            0.905266   \n",
       "2           0.627886            0.869479            0.085866   \n",
       "\n",
       "   fcst_quantile_0.99       time  \n",
       "0           -0.067029 2020-07-31  \n",
       "1            1.170326 2020-08-01  \n",
       "2            0.972686 2020-08-02  "
      ]
     },
     "execution_count": 9,
     "metadata": {},
     "output_type": "execute_result"
    }
   ],
   "source": [
    "fcsts[3]"
   ]
  },
  {
   "cell_type": "markdown",
   "metadata": {},
   "source": [
    "We can save the model using the `save_model` function."
   ]
  },
  {
   "cell_type": "code",
   "execution_count": 10,
   "metadata": {},
   "outputs": [],
   "source": [
    "# save model\n",
    "gm.save_model(\"gm_example_1.p\")"
   ]
  },
  {
   "cell_type": "markdown",
   "metadata": {},
   "source": [
    "Let's load the saved model and again use it to repeat the forecast we did above."
   ]
  },
  {
   "cell_type": "code",
   "execution_count": 11,
   "metadata": {},
   "outputs": [
    {
     "data": {
      "text/html": [
       "<div>\n",
       "<style scoped>\n",
       "    .dataframe tbody tr th:only-of-type {\n",
       "        vertical-align: middle;\n",
       "    }\n",
       "\n",
       "    .dataframe tbody tr th {\n",
       "        vertical-align: top;\n",
       "    }\n",
       "\n",
       "    .dataframe thead th {\n",
       "        text-align: right;\n",
       "    }\n",
       "</style>\n",
       "<table border=\"1\" class=\"dataframe\">\n",
       "  <thead>\n",
       "    <tr style=\"text-align: right;\">\n",
       "      <th></th>\n",
       "      <th>fcst_quantile_0.5</th>\n",
       "      <th>fcst_quantile_0.05</th>\n",
       "      <th>fcst_quantile_0.95</th>\n",
       "      <th>fcst_quantile_0.99</th>\n",
       "      <th>time</th>\n",
       "    </tr>\n",
       "  </thead>\n",
       "  <tbody>\n",
       "    <tr>\n",
       "      <th>0</th>\n",
       "      <td>-0.748453</td>\n",
       "      <td>-0.189885</td>\n",
       "      <td>-0.567380</td>\n",
       "      <td>-0.067029</td>\n",
       "      <td>2020-07-31</td>\n",
       "    </tr>\n",
       "    <tr>\n",
       "      <th>1</th>\n",
       "      <td>0.918473</td>\n",
       "      <td>0.573938</td>\n",
       "      <td>0.905266</td>\n",
       "      <td>1.170326</td>\n",
       "      <td>2020-08-01</td>\n",
       "    </tr>\n",
       "    <tr>\n",
       "      <th>2</th>\n",
       "      <td>0.627886</td>\n",
       "      <td>0.869479</td>\n",
       "      <td>0.085866</td>\n",
       "      <td>0.972686</td>\n",
       "      <td>2020-08-02</td>\n",
       "    </tr>\n",
       "  </tbody>\n",
       "</table>\n",
       "</div>"
      ],
      "text/plain": [
       "   fcst_quantile_0.5  fcst_quantile_0.05  fcst_quantile_0.95  \\\n",
       "0          -0.748453           -0.189885           -0.567380   \n",
       "1           0.918473            0.573938            0.905266   \n",
       "2           0.627886            0.869479            0.085866   \n",
       "\n",
       "   fcst_quantile_0.99       time  \n",
       "0           -0.067029 2020-07-31  \n",
       "1            1.170326 2020-08-01  \n",
       "2            0.972686 2020-08-02  "
      ]
     },
     "execution_count": 11,
     "metadata": {},
     "output_type": "execute_result"
    }
   ],
   "source": [
    "# load model\n",
    "gm2 = load_gmmodel_from_file(\"gm_example_1.p\")\n",
    "\n",
    "# make prediction \n",
    "fcsts2 = gm2.predict(test_TSs, steps = 3)\n",
    "fcsts2[3]"
   ]
  },
  {
   "cell_type": "markdown",
   "metadata": {},
   "source": [
    "Now let's remove the saved model."
   ]
  },
  {
   "cell_type": "code",
   "execution_count": 12,
   "metadata": {},
   "outputs": [],
   "source": [
    "os.remove(\"gm_example_1.p\")"
   ]
  },
  {
   "cell_type": "markdown",
   "metadata": {},
   "source": [
    "We can also encode GM into a json string using the  `global_model_to_json` function."
   ]
  },
  {
   "cell_type": "code",
   "execution_count": 13,
   "metadata": {},
   "outputs": [],
   "source": [
    "gm_str = global_model_to_json(gm)"
   ]
  },
  {
   "cell_type": "markdown",
   "metadata": {},
   "source": [
    "Let's repeat the same prediction one more time."
   ]
  },
  {
   "cell_type": "code",
   "execution_count": 14,
   "metadata": {},
   "outputs": [
    {
     "data": {
      "text/html": [
       "<div>\n",
       "<style scoped>\n",
       "    .dataframe tbody tr th:only-of-type {\n",
       "        vertical-align: middle;\n",
       "    }\n",
       "\n",
       "    .dataframe tbody tr th {\n",
       "        vertical-align: top;\n",
       "    }\n",
       "\n",
       "    .dataframe thead th {\n",
       "        text-align: right;\n",
       "    }\n",
       "</style>\n",
       "<table border=\"1\" class=\"dataframe\">\n",
       "  <thead>\n",
       "    <tr style=\"text-align: right;\">\n",
       "      <th></th>\n",
       "      <th>fcst_quantile_0.5</th>\n",
       "      <th>fcst_quantile_0.05</th>\n",
       "      <th>fcst_quantile_0.95</th>\n",
       "      <th>fcst_quantile_0.99</th>\n",
       "      <th>time</th>\n",
       "    </tr>\n",
       "  </thead>\n",
       "  <tbody>\n",
       "    <tr>\n",
       "      <th>0</th>\n",
       "      <td>-0.748453</td>\n",
       "      <td>-0.189885</td>\n",
       "      <td>-0.567380</td>\n",
       "      <td>-0.067029</td>\n",
       "      <td>2020-07-31</td>\n",
       "    </tr>\n",
       "    <tr>\n",
       "      <th>1</th>\n",
       "      <td>0.918473</td>\n",
       "      <td>0.573938</td>\n",
       "      <td>0.905266</td>\n",
       "      <td>1.170326</td>\n",
       "      <td>2020-08-01</td>\n",
       "    </tr>\n",
       "    <tr>\n",
       "      <th>2</th>\n",
       "      <td>0.627886</td>\n",
       "      <td>0.869479</td>\n",
       "      <td>0.085866</td>\n",
       "      <td>0.972686</td>\n",
       "      <td>2020-08-02</td>\n",
       "    </tr>\n",
       "  </tbody>\n",
       "</table>\n",
       "</div>"
      ],
      "text/plain": [
       "   fcst_quantile_0.5  fcst_quantile_0.05  fcst_quantile_0.95  \\\n",
       "0          -0.748453           -0.189885           -0.567380   \n",
       "1           0.918473            0.573938            0.905266   \n",
       "2           0.627886            0.869479            0.085866   \n",
       "\n",
       "   fcst_quantile_0.99       time  \n",
       "0           -0.067029 2020-07-31  \n",
       "1            1.170326 2020-08-01  \n",
       "2            0.972686 2020-08-02  "
      ]
     },
     "execution_count": 14,
     "metadata": {},
     "output_type": "execute_result"
    }
   ],
   "source": [
    "# load model from json string\n",
    "gm3 = load_global_model_from_json(gm_str)\n",
    "\n",
    "# make prediction \n",
    "fcsts3 = gm3.predict(test_TSs, steps = 3)\n",
    "fcsts3[3]"
   ]
  },
  {
   "cell_type": "markdown",
   "metadata": {},
   "source": [
    "### 2.3 Forecasting using a global model ensemble with `GMEnsemble`"
   ]
  },
  {
   "cell_type": "markdown",
   "metadata": {},
   "source": [
    "You can also easily build an ensemble of several independently trained GMs with `GMEnsemble` class.  We initialize the `GMEnsemble` class with the same `GMParam` object that we use to initialize a single GM, but there are a few other parameters needed to indicate how to create the ensemble.\n",
    "\n",
    "Here is the list of attributs needed to initialize GMEnsemble`:\n",
    "* **gmparam**: `GMParam`; the parameters for each GM in the ensemble;\n",
    "* **ensemble_type**: `str`, how to aggregate the forecasts - either 'median' or 'mean'.  Default is 'median';\n",
    "* **splits**: `int`, the number of sub-datasets into which the training data is to be partitioned.  Default is 3;\n",
    "* **overlap**: `bool`, Whether or not sub-datasets overlap with each other or not. If True, each training examples appears in `splits-1` sub-datasets.  Otherwise, each training example appears in only 1 sub-dataset.  Default is True;\n",
    "* **replicate**: `int`, The number of GMs in the ensemble to be trained on each sub-dataset. Default is 1;\n",
    "* **multi**: `bool`, whether or not to use multi-processing for training and prediction. Default is False.\n",
    "\n",
    "Note that a `GMEnsemble` object will build `splits*replicate` independent `GMModel` objects, and the final forecasts are aggregated from the forecasts generated from each trained `GMModel` object."
   ]
  },
  {
   "cell_type": "code",
   "execution_count": 15,
   "metadata": {},
   "outputs": [],
   "source": [
    "from kats.models.globalmodel.ensemble import GMEnsemble, load_gmensemble_from_file"
   ]
  },
  {
   "cell_type": "markdown",
   "metadata": {},
   "source": [
    "We can initialize a `GMEnsemble` object as follows."
   ]
  },
  {
   "cell_type": "code",
   "execution_count": 16,
   "metadata": {},
   "outputs": [],
   "source": [
    "gme = GMEnsemble(gmparam, splits=3, overlap=True, replicate=1, multi=True)"
   ]
  },
  {
   "cell_type": "markdown",
   "metadata": {},
   "source": [
    "Now we can train the `GMEnsemble` object. Note that one has the choice of setting aside a test set from the training data to measure the performance of each `GMModel` object throughout the training process; we do so using the `test_size` paramter."
   ]
  },
  {
   "cell_type": "code",
   "execution_count": 17,
   "metadata": {},
   "outputs": [],
   "source": [
    "gme.train(train_TSs, test_size = 0.1)"
   ]
  },
  {
   "cell_type": "markdown",
   "metadata": {},
   "source": [
    "Information about the training process for each GM in the ensemble can be access using the `gm_info` attribute.  This attribute will contain a list of dictionaries; one dictionary for each GM in the ensemble.  Since we set `splits = 3` and `replicate = 1`, we should expect this list to have `splits * replicate = 3*1 = 3` dictionaries."
   ]
  },
  {
   "cell_type": "code",
   "execution_count": 18,
   "metadata": {},
   "outputs": [
    {
     "data": {
      "text/plain": [
       "3"
      ]
     },
     "execution_count": 18,
     "metadata": {},
     "output_type": "execute_result"
    }
   ],
   "source": [
    "len(gme.gm_info)"
   ]
  },
  {
   "cell_type": "markdown",
   "metadata": {},
   "source": [
    "Let's take a look at each of those dictionaries now:"
   ]
  },
  {
   "cell_type": "code",
   "execution_count": 19,
   "metadata": {},
   "outputs": [
    {
     "name": "stdout",
     "output_type": "stream",
     "text": [
      "{'test_info': [      smape     sbias  exceed_0.05  exceed_0.95  exceed_0.99  step  idx  epoch\n",
      "0  1.426815 -0.709916     0.193548     0.741935     0.838710     0   15      0\n",
      "1  1.497390 -0.314829     0.258065     0.548387     0.677419     0    5      0],\n",
      " 'train_loss_monitor': [0.095703565],\n",
      " 'train_loss_val': [0.39477719366550446],\n",
      " 'valid_fcst_monitor': [],\n",
      " 'valid_loss_monitor': [{'epoch': 0}]}\n",
      "\n",
      "{'test_info': [      smape     sbias  exceed_0.05  exceed_0.95  exceed_0.99  step  idx  epoch\n",
      "0  1.356964 -0.911951     0.225806     0.677419     0.709677     0   15      0\n",
      "1  1.381297 -0.269324     0.451613     0.548387     0.612903     0    5      0],\n",
      " 'train_loss_monitor': [0.10445643],\n",
      " 'train_loss_val': [0.23502697050571442],\n",
      " 'valid_fcst_monitor': [],\n",
      " 'valid_loss_monitor': [{'epoch': 0}]}\n",
      "\n",
      "{'test_info': [      smape     sbias  exceed_0.05  exceed_0.95  exceed_0.99  step  idx  epoch\n",
      "0  1.476115 -1.043133     0.193548     0.709677     0.709677     0   15      0\n",
      "1  1.622907 -0.328690     0.193548     0.580645     0.516129     0    5      0],\n",
      " 'train_loss_monitor': [0.09732067],\n",
      " 'train_loss_val': [0.2554667517542839],\n",
      " 'valid_fcst_monitor': [],\n",
      " 'valid_loss_monitor': [{'epoch': 0}]}\n",
      "\n"
     ]
    }
   ],
   "source": [
    "for i in range(len(gme.gm_info)):\n",
    "    pprint.pprint(gme.gm_info[i])\n",
    "    print()"
   ]
  },
  {
   "cell_type": "markdown",
   "metadata": {},
   "source": [
    "We can see that each dictionary has a key called 'test_info', which stores a list of DataFrames showing how each GM in the ensemble performs on each example of the test data.  Each DataFrame in the list represents a single epoch.\n",
    "\n",
    "Since we set `epoch_num = 1` in the parameters, each list will only have one DataFrame.  Since the length of `train_TSs` is 20 and we set `test_size = 0.1`, there are two elements in our test set.  For each item in the test data set, in addition to the symmetric MAPE and bias metrics, the DataFrame shows the percentage of forecasted values that exceed all of the specified quantiles (in the `GMParam` object) other than the median.  Since the quantiles we are looking at other than the median are 0.05, 0.95 and 0.95, we get additional metrics `exceed_0.05`, `exceed_0.95`, and `exceed_0.99`.  \n",
    "\n",
    "Let's take a look at one of these DataFrames."
   ]
  },
  {
   "cell_type": "code",
   "execution_count": 20,
   "metadata": {},
   "outputs": [
    {
     "data": {
      "text/html": [
       "<div>\n",
       "<style scoped>\n",
       "    .dataframe tbody tr th:only-of-type {\n",
       "        vertical-align: middle;\n",
       "    }\n",
       "\n",
       "    .dataframe tbody tr th {\n",
       "        vertical-align: top;\n",
       "    }\n",
       "\n",
       "    .dataframe thead th {\n",
       "        text-align: right;\n",
       "    }\n",
       "</style>\n",
       "<table border=\"1\" class=\"dataframe\">\n",
       "  <thead>\n",
       "    <tr style=\"text-align: right;\">\n",
       "      <th></th>\n",
       "      <th>smape</th>\n",
       "      <th>sbias</th>\n",
       "      <th>exceed_0.05</th>\n",
       "      <th>exceed_0.95</th>\n",
       "      <th>exceed_0.99</th>\n",
       "      <th>step</th>\n",
       "      <th>idx</th>\n",
       "      <th>epoch</th>\n",
       "    </tr>\n",
       "  </thead>\n",
       "  <tbody>\n",
       "    <tr>\n",
       "      <th>0</th>\n",
       "      <td>1.426815</td>\n",
       "      <td>-0.709916</td>\n",
       "      <td>0.193548</td>\n",
       "      <td>0.741935</td>\n",
       "      <td>0.838710</td>\n",
       "      <td>0</td>\n",
       "      <td>15</td>\n",
       "      <td>0</td>\n",
       "    </tr>\n",
       "    <tr>\n",
       "      <th>1</th>\n",
       "      <td>1.497390</td>\n",
       "      <td>-0.314829</td>\n",
       "      <td>0.258065</td>\n",
       "      <td>0.548387</td>\n",
       "      <td>0.677419</td>\n",
       "      <td>0</td>\n",
       "      <td>5</td>\n",
       "      <td>0</td>\n",
       "    </tr>\n",
       "  </tbody>\n",
       "</table>\n",
       "</div>"
      ],
      "text/plain": [
       "      smape     sbias  exceed_0.05  exceed_0.95  exceed_0.99  step  idx  epoch\n",
       "0  1.426815 -0.709916     0.193548     0.741935     0.838710     0   15      0\n",
       "1  1.497390 -0.314829     0.258065     0.548387     0.677419     0    5      0"
      ]
     },
     "execution_count": 20,
     "metadata": {},
     "output_type": "execute_result"
    }
   ],
   "source": [
    "gme.gm_info[0]['test_info'][0]"
   ]
  },
  {
   "cell_type": "markdown",
   "metadata": {},
   "source": [
    "After training the `GMEnsemble` object, you now can use it to generate forecasts. Similar to the `GMModel` object, the input of the `predict` function can either be a single `TimeSeriesData` or a list/dictionary of them and you must also specify the number of steps you wish to forecast."
   ]
  },
  {
   "cell_type": "code",
   "execution_count": 21,
   "metadata": {},
   "outputs": [],
   "source": [
    "fcsts=gme.predict(test_TSs, steps = 3)"
   ]
  },
  {
   "cell_type": "markdown",
   "metadata": {},
   "source": [
    "As above with `GMModel`, this generates a dictionary with 5 keys, one for each time series in `test_TSs`."
   ]
  },
  {
   "cell_type": "code",
   "execution_count": 22,
   "metadata": {},
   "outputs": [
    {
     "data": {
      "text/plain": [
       "dict_keys([0, 1, 2, 3, 4])"
      ]
     },
     "execution_count": 22,
     "metadata": {},
     "output_type": "execute_result"
    }
   ],
   "source": [
    "fcsts.keys()"
   ]
  },
  {
   "cell_type": "markdown",
   "metadata": {},
   "source": [
    "Let's take a look at one of the forecasts.  "
   ]
  },
  {
   "cell_type": "code",
   "execution_count": 23,
   "metadata": {},
   "outputs": [
    {
     "data": {
      "text/html": [
       "<div>\n",
       "<style scoped>\n",
       "    .dataframe tbody tr th:only-of-type {\n",
       "        vertical-align: middle;\n",
       "    }\n",
       "\n",
       "    .dataframe tbody tr th {\n",
       "        vertical-align: top;\n",
       "    }\n",
       "\n",
       "    .dataframe thead th {\n",
       "        text-align: right;\n",
       "    }\n",
       "</style>\n",
       "<table border=\"1\" class=\"dataframe\">\n",
       "  <thead>\n",
       "    <tr style=\"text-align: right;\">\n",
       "      <th></th>\n",
       "      <th>fcst_quantile_0.5</th>\n",
       "      <th>fcst_quantile_0.05</th>\n",
       "      <th>fcst_quantile_0.95</th>\n",
       "      <th>fcst_quantile_0.99</th>\n",
       "      <th>time</th>\n",
       "    </tr>\n",
       "  </thead>\n",
       "  <tbody>\n",
       "    <tr>\n",
       "      <th>0</th>\n",
       "      <td>0.952329</td>\n",
       "      <td>0.748380</td>\n",
       "      <td>1.068517</td>\n",
       "      <td>1.323682</td>\n",
       "      <td>2020-07-29</td>\n",
       "    </tr>\n",
       "    <tr>\n",
       "      <th>1</th>\n",
       "      <td>-0.375372</td>\n",
       "      <td>-0.740093</td>\n",
       "      <td>-0.506364</td>\n",
       "      <td>-0.027362</td>\n",
       "      <td>2020-07-30</td>\n",
       "    </tr>\n",
       "    <tr>\n",
       "      <th>2</th>\n",
       "      <td>-0.511230</td>\n",
       "      <td>-0.508175</td>\n",
       "      <td>-0.045864</td>\n",
       "      <td>-0.105266</td>\n",
       "      <td>2020-07-31</td>\n",
       "    </tr>\n",
       "  </tbody>\n",
       "</table>\n",
       "</div>"
      ],
      "text/plain": [
       "   fcst_quantile_0.5  fcst_quantile_0.05  fcst_quantile_0.95  \\\n",
       "0           0.952329            0.748380            1.068517   \n",
       "1          -0.375372           -0.740093           -0.506364   \n",
       "2          -0.511230           -0.508175           -0.045864   \n",
       "\n",
       "   fcst_quantile_0.99       time  \n",
       "0            1.323682 2020-07-29  \n",
       "1           -0.027362 2020-07-30  \n",
       "2           -0.105266 2020-07-31  "
      ]
     },
     "execution_count": 23,
     "metadata": {},
     "output_type": "execute_result"
    }
   ],
   "source": [
    "fcsts[2]"
   ]
  },
  {
   "cell_type": "markdown",
   "metadata": {},
   "source": [
    "We can save a `GMEnsemble` to a file similarly to how we did for `GMModel`"
   ]
  },
  {
   "cell_type": "code",
   "execution_count": 24,
   "metadata": {},
   "outputs": [
    {
     "data": {
      "text/html": [
       "<div>\n",
       "<style scoped>\n",
       "    .dataframe tbody tr th:only-of-type {\n",
       "        vertical-align: middle;\n",
       "    }\n",
       "\n",
       "    .dataframe tbody tr th {\n",
       "        vertical-align: top;\n",
       "    }\n",
       "\n",
       "    .dataframe thead th {\n",
       "        text-align: right;\n",
       "    }\n",
       "</style>\n",
       "<table border=\"1\" class=\"dataframe\">\n",
       "  <thead>\n",
       "    <tr style=\"text-align: right;\">\n",
       "      <th></th>\n",
       "      <th>fcst_quantile_0.5</th>\n",
       "      <th>fcst_quantile_0.05</th>\n",
       "      <th>fcst_quantile_0.95</th>\n",
       "      <th>fcst_quantile_0.99</th>\n",
       "      <th>time</th>\n",
       "    </tr>\n",
       "  </thead>\n",
       "  <tbody>\n",
       "    <tr>\n",
       "      <th>0</th>\n",
       "      <td>0.952329</td>\n",
       "      <td>0.748380</td>\n",
       "      <td>1.068517</td>\n",
       "      <td>1.323682</td>\n",
       "      <td>2020-07-29</td>\n",
       "    </tr>\n",
       "    <tr>\n",
       "      <th>1</th>\n",
       "      <td>-0.375372</td>\n",
       "      <td>-0.740093</td>\n",
       "      <td>-0.506364</td>\n",
       "      <td>-0.027362</td>\n",
       "      <td>2020-07-30</td>\n",
       "    </tr>\n",
       "    <tr>\n",
       "      <th>2</th>\n",
       "      <td>-0.511230</td>\n",
       "      <td>-0.508175</td>\n",
       "      <td>-0.045864</td>\n",
       "      <td>-0.105266</td>\n",
       "      <td>2020-07-31</td>\n",
       "    </tr>\n",
       "  </tbody>\n",
       "</table>\n",
       "</div>"
      ],
      "text/plain": [
       "   fcst_quantile_0.5  fcst_quantile_0.05  fcst_quantile_0.95  \\\n",
       "0           0.952329            0.748380            1.068517   \n",
       "1          -0.375372           -0.740093           -0.506364   \n",
       "2          -0.511230           -0.508175           -0.045864   \n",
       "\n",
       "   fcst_quantile_0.99       time  \n",
       "0            1.323682 2020-07-29  \n",
       "1           -0.027362 2020-07-30  \n",
       "2           -0.105266 2020-07-31  "
      ]
     },
     "execution_count": 24,
     "metadata": {},
     "output_type": "execute_result"
    }
   ],
   "source": [
    "# save model\n",
    "gme.save_model(\"gme_example_1.p\")\n",
    "\n",
    "# load model\n",
    "gme2 = load_gmensemble_from_file(\"gme_example_1.p\")\n",
    "\n",
    "# remove the saved model\n",
    "os.remove(\"gme_example_1.p\")\n",
    "\n",
    "# generate forecasts\n",
    "fcsts2=gme.predict(test_TSs, steps = 3)\n",
    "fcsts2[2]"
   ]
  },
  {
   "cell_type": "markdown",
   "metadata": {},
   "source": [
    "When encoding a `GMEnsemble` into a JSON string, we need to clear the `gm_info` attribute because it contains dictionaries with `pd.DataFrame` objects, which are not serializable.  Otherwise the code is the same as for `GMModel`."
   ]
  },
  {
   "cell_type": "code",
   "execution_count": 25,
   "metadata": {},
   "outputs": [
    {
     "data": {
      "text/html": [
       "<div>\n",
       "<style scoped>\n",
       "    .dataframe tbody tr th:only-of-type {\n",
       "        vertical-align: middle;\n",
       "    }\n",
       "\n",
       "    .dataframe tbody tr th {\n",
       "        vertical-align: top;\n",
       "    }\n",
       "\n",
       "    .dataframe thead th {\n",
       "        text-align: right;\n",
       "    }\n",
       "</style>\n",
       "<table border=\"1\" class=\"dataframe\">\n",
       "  <thead>\n",
       "    <tr style=\"text-align: right;\">\n",
       "      <th></th>\n",
       "      <th>fcst_quantile_0.5</th>\n",
       "      <th>fcst_quantile_0.05</th>\n",
       "      <th>fcst_quantile_0.95</th>\n",
       "      <th>fcst_quantile_0.99</th>\n",
       "      <th>time</th>\n",
       "    </tr>\n",
       "  </thead>\n",
       "  <tbody>\n",
       "    <tr>\n",
       "      <th>0</th>\n",
       "      <td>0.952329</td>\n",
       "      <td>0.748380</td>\n",
       "      <td>1.068517</td>\n",
       "      <td>1.323682</td>\n",
       "      <td>2020-07-29</td>\n",
       "    </tr>\n",
       "    <tr>\n",
       "      <th>1</th>\n",
       "      <td>-0.375372</td>\n",
       "      <td>-0.740093</td>\n",
       "      <td>-0.506364</td>\n",
       "      <td>-0.027362</td>\n",
       "      <td>2020-07-30</td>\n",
       "    </tr>\n",
       "    <tr>\n",
       "      <th>2</th>\n",
       "      <td>-0.511230</td>\n",
       "      <td>-0.508175</td>\n",
       "      <td>-0.045864</td>\n",
       "      <td>-0.105266</td>\n",
       "      <td>2020-07-31</td>\n",
       "    </tr>\n",
       "  </tbody>\n",
       "</table>\n",
       "</div>"
      ],
      "text/plain": [
       "   fcst_quantile_0.5  fcst_quantile_0.05  fcst_quantile_0.95  \\\n",
       "0           0.952329            0.748380            1.068517   \n",
       "1          -0.375372           -0.740093           -0.506364   \n",
       "2          -0.511230           -0.508175           -0.045864   \n",
       "\n",
       "   fcst_quantile_0.99       time  \n",
       "0            1.323682 2020-07-29  \n",
       "1           -0.027362 2020-07-30  \n",
       "2           -0.105266 2020-07-31  "
      ]
     },
     "execution_count": 25,
     "metadata": {},
     "output_type": "execute_result"
    }
   ],
   "source": [
    "# encode model into json string\n",
    "\n",
    "gme.gm_info=None # Need to remove this because pd.DataFrame is not serilizable\n",
    "gme_str = global_model_to_json(gme)\n",
    "\n",
    "# load model from json string\n",
    "gme3 = load_global_model_from_json(gme_str)\n",
    "\n",
    "# generate forecasts\n",
    "fcsts3=gme.predict(test_TSs, steps = 3)\n",
    "fcsts3[2]"
   ]
  },
  {
   "cell_type": "markdown",
   "metadata": {},
   "source": [
    "### 2.4 Backtesting with `GMBacktester`  "
   ]
  },
  {
   "cell_type": "markdown",
   "metadata": {},
   "source": [
    "The `GMBacktester` object helps evaluate the hyperparameter setting (i.e., the `GMParam` object). Here is a list of some of the attributes:\n",
    "* **data**: `list[TimeSeriesData` or `dict[TimeSeriesData]`, A list or a dictionary of time series objects for training and validation;\n",
    "* **gmparam**: `GMParam`, the parameters that we're testing;\n",
    "* **backtest_timestamp**: `list[str]` or `list[pd.Timestamp]`, timestamps used to split the time series for training and validation;\n",
    "* **splits**: `int`, the number of sub-datasets into which the training data is to be partitioned.  Default is 3;\n",
    "* **overlap**: `bool`,  Whether or not sub-datasets overlap with each other or not. If True, each training examples appears in `splits-1` sub-datasets.  Otherwise, each training example appears in only 1 sub-dataset.  Default is True;\n",
    "* **replicate**: `int`, The number of GMs in the ensemble to be trained on each sub-dataset.  Default is 1;\n",
    "* **test_size**: `float`, The proportion of the input `data` to be used for testing.  Default is 0.1.\n",
    "\n",
    "\n",
    "For the full list of attributes, please see our documents."
   ]
  },
  {
   "cell_type": "code",
   "execution_count": 26,
   "metadata": {},
   "outputs": [],
   "source": [
    "from kats.models.globalmodel.backtester import GMBackTester"
   ]
  },
  {
   "cell_type": "markdown",
   "metadata": {},
   "source": [
    "Now we can initialize the `GMBackTester` object as follows."
   ]
  },
  {
   "cell_type": "code",
   "execution_count": 27,
   "metadata": {},
   "outputs": [],
   "source": [
    "gbm = GMBackTester(train_TSs, gmparam, backtest_timestamp = ['2020-08-10'], test_size=0.1)"
   ]
  },
  {
   "cell_type": "markdown",
   "metadata": {},
   "source": [
    "Now one can run backtesting using the `run_backtest` function.  This will give you a DataFrame that shows the evaluation metrics for each GM that was generated for each time series in our test data set.  For each backtesting date, number of GMs created is equal to `splits*replicate`, and the backtester also calculates the evaluation metrics for an ensemble that takes the median of each of these GMs."
   ]
  },
  {
   "cell_type": "code",
   "execution_count": 28,
   "metadata": {},
   "outputs": [
    {
     "data": {
      "text/html": [
       "<div>\n",
       "<style scoped>\n",
       "    .dataframe tbody tr th:only-of-type {\n",
       "        vertical-align: middle;\n",
       "    }\n",
       "\n",
       "    .dataframe tbody tr th {\n",
       "        vertical-align: top;\n",
       "    }\n",
       "\n",
       "    .dataframe thead th {\n",
       "        text-align: right;\n",
       "    }\n",
       "</style>\n",
       "<table border=\"1\" class=\"dataframe\">\n",
       "  <thead>\n",
       "    <tr style=\"text-align: right;\">\n",
       "      <th></th>\n",
       "      <th>smape</th>\n",
       "      <th>sbias</th>\n",
       "      <th>exceed_0.05</th>\n",
       "      <th>exceed_0.95</th>\n",
       "      <th>exceed_0.99</th>\n",
       "      <th>model_num</th>\n",
       "      <th>step</th>\n",
       "      <th>idx</th>\n",
       "      <th>type</th>\n",
       "      <th>backtest_ts</th>\n",
       "    </tr>\n",
       "  </thead>\n",
       "  <tbody>\n",
       "    <tr>\n",
       "      <th>0</th>\n",
       "      <td>1.569330</td>\n",
       "      <td>-0.915494</td>\n",
       "      <td>0.258065</td>\n",
       "      <td>0.516129</td>\n",
       "      <td>0.451613</td>\n",
       "      <td>0.0</td>\n",
       "      <td>0</td>\n",
       "      <td>4.0</td>\n",
       "      <td>single</td>\n",
       "      <td>2020-08-10</td>\n",
       "    </tr>\n",
       "    <tr>\n",
       "      <th>1</th>\n",
       "      <td>1.540026</td>\n",
       "      <td>-0.601855</td>\n",
       "      <td>0.225806</td>\n",
       "      <td>0.419355</td>\n",
       "      <td>0.419355</td>\n",
       "      <td>1.0</td>\n",
       "      <td>0</td>\n",
       "      <td>4.0</td>\n",
       "      <td>single</td>\n",
       "      <td>2020-08-10</td>\n",
       "    </tr>\n",
       "    <tr>\n",
       "      <th>2</th>\n",
       "      <td>1.441183</td>\n",
       "      <td>-0.266776</td>\n",
       "      <td>0.290323</td>\n",
       "      <td>0.516129</td>\n",
       "      <td>0.483871</td>\n",
       "      <td>2.0</td>\n",
       "      <td>0</td>\n",
       "      <td>4.0</td>\n",
       "      <td>single</td>\n",
       "      <td>2020-08-10</td>\n",
       "    </tr>\n",
       "    <tr>\n",
       "      <th>3</th>\n",
       "      <td>1.472027</td>\n",
       "      <td>-0.670000</td>\n",
       "      <td>0.258065</td>\n",
       "      <td>0.516129</td>\n",
       "      <td>0.451613</td>\n",
       "      <td>NaN</td>\n",
       "      <td>0</td>\n",
       "      <td>NaN</td>\n",
       "      <td>ensemble</td>\n",
       "      <td>2020-08-10</td>\n",
       "    </tr>\n",
       "    <tr>\n",
       "      <th>4</th>\n",
       "      <td>1.617912</td>\n",
       "      <td>-0.771883</td>\n",
       "      <td>0.354839</td>\n",
       "      <td>0.612903</td>\n",
       "      <td>0.580645</td>\n",
       "      <td>0.0</td>\n",
       "      <td>0</td>\n",
       "      <td>19.0</td>\n",
       "      <td>single</td>\n",
       "      <td>2020-08-10</td>\n",
       "    </tr>\n",
       "    <tr>\n",
       "      <th>5</th>\n",
       "      <td>1.486416</td>\n",
       "      <td>-0.549728</td>\n",
       "      <td>0.290323</td>\n",
       "      <td>0.580645</td>\n",
       "      <td>0.548387</td>\n",
       "      <td>1.0</td>\n",
       "      <td>0</td>\n",
       "      <td>19.0</td>\n",
       "      <td>single</td>\n",
       "      <td>2020-08-10</td>\n",
       "    </tr>\n",
       "    <tr>\n",
       "      <th>6</th>\n",
       "      <td>1.496789</td>\n",
       "      <td>-0.212599</td>\n",
       "      <td>0.387097</td>\n",
       "      <td>0.645161</td>\n",
       "      <td>0.580645</td>\n",
       "      <td>2.0</td>\n",
       "      <td>0</td>\n",
       "      <td>19.0</td>\n",
       "      <td>single</td>\n",
       "      <td>2020-08-10</td>\n",
       "    </tr>\n",
       "    <tr>\n",
       "      <th>7</th>\n",
       "      <td>1.488076</td>\n",
       "      <td>-0.621214</td>\n",
       "      <td>0.354839</td>\n",
       "      <td>0.612903</td>\n",
       "      <td>0.580645</td>\n",
       "      <td>NaN</td>\n",
       "      <td>0</td>\n",
       "      <td>NaN</td>\n",
       "      <td>ensemble</td>\n",
       "      <td>2020-08-10</td>\n",
       "    </tr>\n",
       "    <tr>\n",
       "      <th>8</th>\n",
       "      <td>1.321206</td>\n",
       "      <td>-0.328787</td>\n",
       "      <td>0.838710</td>\n",
       "      <td>0.032258</td>\n",
       "      <td>0.032258</td>\n",
       "      <td>0.0</td>\n",
       "      <td>1</td>\n",
       "      <td>19.0</td>\n",
       "      <td>single</td>\n",
       "      <td>2020-08-10</td>\n",
       "    </tr>\n",
       "    <tr>\n",
       "      <th>9</th>\n",
       "      <td>1.483964</td>\n",
       "      <td>-0.309167</td>\n",
       "      <td>0.774194</td>\n",
       "      <td>0.032258</td>\n",
       "      <td>0.032258</td>\n",
       "      <td>1.0</td>\n",
       "      <td>1</td>\n",
       "      <td>19.0</td>\n",
       "      <td>single</td>\n",
       "      <td>2020-08-10</td>\n",
       "    </tr>\n",
       "    <tr>\n",
       "      <th>10</th>\n",
       "      <td>1.553492</td>\n",
       "      <td>-0.010030</td>\n",
       "      <td>0.935484</td>\n",
       "      <td>0.161290</td>\n",
       "      <td>0.096774</td>\n",
       "      <td>2.0</td>\n",
       "      <td>1</td>\n",
       "      <td>19.0</td>\n",
       "      <td>single</td>\n",
       "      <td>2020-08-10</td>\n",
       "    </tr>\n",
       "    <tr>\n",
       "      <th>11</th>\n",
       "      <td>1.431047</td>\n",
       "      <td>-0.308835</td>\n",
       "      <td>0.870968</td>\n",
       "      <td>0.032258</td>\n",
       "      <td>0.032258</td>\n",
       "      <td>NaN</td>\n",
       "      <td>1</td>\n",
       "      <td>NaN</td>\n",
       "      <td>ensemble</td>\n",
       "      <td>2020-08-10</td>\n",
       "    </tr>\n",
       "    <tr>\n",
       "      <th>12</th>\n",
       "      <td>1.372222</td>\n",
       "      <td>-0.699800</td>\n",
       "      <td>0.322581</td>\n",
       "      <td>0.064516</td>\n",
       "      <td>0.322581</td>\n",
       "      <td>0.0</td>\n",
       "      <td>2</td>\n",
       "      <td>19.0</td>\n",
       "      <td>single</td>\n",
       "      <td>2020-08-10</td>\n",
       "    </tr>\n",
       "    <tr>\n",
       "      <th>13</th>\n",
       "      <td>1.318204</td>\n",
       "      <td>-0.651993</td>\n",
       "      <td>0.451613</td>\n",
       "      <td>0.129032</td>\n",
       "      <td>0.129032</td>\n",
       "      <td>1.0</td>\n",
       "      <td>2</td>\n",
       "      <td>19.0</td>\n",
       "      <td>single</td>\n",
       "      <td>2020-08-10</td>\n",
       "    </tr>\n",
       "    <tr>\n",
       "      <th>14</th>\n",
       "      <td>1.125863</td>\n",
       "      <td>-0.389581</td>\n",
       "      <td>1.000000</td>\n",
       "      <td>0.516129</td>\n",
       "      <td>0.387097</td>\n",
       "      <td>2.0</td>\n",
       "      <td>2</td>\n",
       "      <td>19.0</td>\n",
       "      <td>single</td>\n",
       "      <td>2020-08-10</td>\n",
       "    </tr>\n",
       "    <tr>\n",
       "      <th>15</th>\n",
       "      <td>1.287114</td>\n",
       "      <td>-0.525685</td>\n",
       "      <td>0.451613</td>\n",
       "      <td>0.193548</td>\n",
       "      <td>0.258065</td>\n",
       "      <td>NaN</td>\n",
       "      <td>2</td>\n",
       "      <td>NaN</td>\n",
       "      <td>ensemble</td>\n",
       "      <td>2020-08-10</td>\n",
       "    </tr>\n",
       "    <tr>\n",
       "      <th>16</th>\n",
       "      <td>1.066207</td>\n",
       "      <td>-0.267127</td>\n",
       "      <td>0.000000</td>\n",
       "      <td>0.000000</td>\n",
       "      <td>0.096774</td>\n",
       "      <td>0.0</td>\n",
       "      <td>3</td>\n",
       "      <td>19.0</td>\n",
       "      <td>single</td>\n",
       "      <td>2020-08-10</td>\n",
       "    </tr>\n",
       "    <tr>\n",
       "      <th>17</th>\n",
       "      <td>1.082353</td>\n",
       "      <td>-0.330191</td>\n",
       "      <td>0.032258</td>\n",
       "      <td>0.064516</td>\n",
       "      <td>0.064516</td>\n",
       "      <td>1.0</td>\n",
       "      <td>3</td>\n",
       "      <td>19.0</td>\n",
       "      <td>single</td>\n",
       "      <td>2020-08-10</td>\n",
       "    </tr>\n",
       "    <tr>\n",
       "      <th>18</th>\n",
       "      <td>1.574336</td>\n",
       "      <td>-0.155811</td>\n",
       "      <td>0.193548</td>\n",
       "      <td>0.161290</td>\n",
       "      <td>0.129032</td>\n",
       "      <td>2.0</td>\n",
       "      <td>3</td>\n",
       "      <td>19.0</td>\n",
       "      <td>single</td>\n",
       "      <td>2020-08-10</td>\n",
       "    </tr>\n",
       "    <tr>\n",
       "      <th>19</th>\n",
       "      <td>1.074946</td>\n",
       "      <td>-0.315819</td>\n",
       "      <td>0.032258</td>\n",
       "      <td>0.064516</td>\n",
       "      <td>0.096774</td>\n",
       "      <td>NaN</td>\n",
       "      <td>3</td>\n",
       "      <td>NaN</td>\n",
       "      <td>ensemble</td>\n",
       "      <td>2020-08-10</td>\n",
       "    </tr>\n",
       "  </tbody>\n",
       "</table>\n",
       "</div>"
      ],
      "text/plain": [
       "       smape     sbias  exceed_0.05  exceed_0.95  exceed_0.99  model_num  \\\n",
       "0   1.569330 -0.915494     0.258065     0.516129     0.451613        0.0   \n",
       "1   1.540026 -0.601855     0.225806     0.419355     0.419355        1.0   \n",
       "2   1.441183 -0.266776     0.290323     0.516129     0.483871        2.0   \n",
       "3   1.472027 -0.670000     0.258065     0.516129     0.451613        NaN   \n",
       "4   1.617912 -0.771883     0.354839     0.612903     0.580645        0.0   \n",
       "5   1.486416 -0.549728     0.290323     0.580645     0.548387        1.0   \n",
       "6   1.496789 -0.212599     0.387097     0.645161     0.580645        2.0   \n",
       "7   1.488076 -0.621214     0.354839     0.612903     0.580645        NaN   \n",
       "8   1.321206 -0.328787     0.838710     0.032258     0.032258        0.0   \n",
       "9   1.483964 -0.309167     0.774194     0.032258     0.032258        1.0   \n",
       "10  1.553492 -0.010030     0.935484     0.161290     0.096774        2.0   \n",
       "11  1.431047 -0.308835     0.870968     0.032258     0.032258        NaN   \n",
       "12  1.372222 -0.699800     0.322581     0.064516     0.322581        0.0   \n",
       "13  1.318204 -0.651993     0.451613     0.129032     0.129032        1.0   \n",
       "14  1.125863 -0.389581     1.000000     0.516129     0.387097        2.0   \n",
       "15  1.287114 -0.525685     0.451613     0.193548     0.258065        NaN   \n",
       "16  1.066207 -0.267127     0.000000     0.000000     0.096774        0.0   \n",
       "17  1.082353 -0.330191     0.032258     0.064516     0.064516        1.0   \n",
       "18  1.574336 -0.155811     0.193548     0.161290     0.129032        2.0   \n",
       "19  1.074946 -0.315819     0.032258     0.064516     0.096774        NaN   \n",
       "\n",
       "    step   idx      type backtest_ts  \n",
       "0      0   4.0    single  2020-08-10  \n",
       "1      0   4.0    single  2020-08-10  \n",
       "2      0   4.0    single  2020-08-10  \n",
       "3      0   NaN  ensemble  2020-08-10  \n",
       "4      0  19.0    single  2020-08-10  \n",
       "5      0  19.0    single  2020-08-10  \n",
       "6      0  19.0    single  2020-08-10  \n",
       "7      0   NaN  ensemble  2020-08-10  \n",
       "8      1  19.0    single  2020-08-10  \n",
       "9      1  19.0    single  2020-08-10  \n",
       "10     1  19.0    single  2020-08-10  \n",
       "11     1   NaN  ensemble  2020-08-10  \n",
       "12     2  19.0    single  2020-08-10  \n",
       "13     2  19.0    single  2020-08-10  \n",
       "14     2  19.0    single  2020-08-10  \n",
       "15     2   NaN  ensemble  2020-08-10  \n",
       "16     3  19.0    single  2020-08-10  \n",
       "17     3  19.0    single  2020-08-10  \n",
       "18     3  19.0    single  2020-08-10  \n",
       "19     3   NaN  ensemble  2020-08-10  "
      ]
     },
     "execution_count": 28,
     "metadata": {},
     "output_type": "execute_result"
    }
   ],
   "source": [
    "backtest_df = gbm.run_backtest()\n",
    "backtest_df"
   ]
  },
  {
   "cell_type": "markdown",
   "metadata": {},
   "source": [
    "Let's take a look at the backtesting data for a single one of the GMs that we just trained.  We can do so as follows."
   ]
  },
  {
   "cell_type": "code",
   "execution_count": 29,
   "metadata": {},
   "outputs": [
    {
     "data": {
      "text/html": [
       "<div>\n",
       "<style scoped>\n",
       "    .dataframe tbody tr th:only-of-type {\n",
       "        vertical-align: middle;\n",
       "    }\n",
       "\n",
       "    .dataframe tbody tr th {\n",
       "        vertical-align: top;\n",
       "    }\n",
       "\n",
       "    .dataframe thead th {\n",
       "        text-align: right;\n",
       "    }\n",
       "</style>\n",
       "<table border=\"1\" class=\"dataframe\">\n",
       "  <thead>\n",
       "    <tr style=\"text-align: right;\">\n",
       "      <th></th>\n",
       "      <th>smape</th>\n",
       "      <th>sbias</th>\n",
       "      <th>exceed_0.05</th>\n",
       "      <th>exceed_0.95</th>\n",
       "      <th>exceed_0.99</th>\n",
       "      <th>model_num</th>\n",
       "      <th>step</th>\n",
       "      <th>idx</th>\n",
       "      <th>type</th>\n",
       "      <th>backtest_ts</th>\n",
       "    </tr>\n",
       "  </thead>\n",
       "  <tbody>\n",
       "    <tr>\n",
       "      <th>1</th>\n",
       "      <td>1.540026</td>\n",
       "      <td>-0.601855</td>\n",
       "      <td>0.225806</td>\n",
       "      <td>0.419355</td>\n",
       "      <td>0.419355</td>\n",
       "      <td>1.0</td>\n",
       "      <td>0</td>\n",
       "      <td>4.0</td>\n",
       "      <td>single</td>\n",
       "      <td>2020-08-10</td>\n",
       "    </tr>\n",
       "    <tr>\n",
       "      <th>5</th>\n",
       "      <td>1.486416</td>\n",
       "      <td>-0.549728</td>\n",
       "      <td>0.290323</td>\n",
       "      <td>0.580645</td>\n",
       "      <td>0.548387</td>\n",
       "      <td>1.0</td>\n",
       "      <td>0</td>\n",
       "      <td>19.0</td>\n",
       "      <td>single</td>\n",
       "      <td>2020-08-10</td>\n",
       "    </tr>\n",
       "    <tr>\n",
       "      <th>9</th>\n",
       "      <td>1.483964</td>\n",
       "      <td>-0.309167</td>\n",
       "      <td>0.774194</td>\n",
       "      <td>0.032258</td>\n",
       "      <td>0.032258</td>\n",
       "      <td>1.0</td>\n",
       "      <td>1</td>\n",
       "      <td>19.0</td>\n",
       "      <td>single</td>\n",
       "      <td>2020-08-10</td>\n",
       "    </tr>\n",
       "    <tr>\n",
       "      <th>13</th>\n",
       "      <td>1.318204</td>\n",
       "      <td>-0.651993</td>\n",
       "      <td>0.451613</td>\n",
       "      <td>0.129032</td>\n",
       "      <td>0.129032</td>\n",
       "      <td>1.0</td>\n",
       "      <td>2</td>\n",
       "      <td>19.0</td>\n",
       "      <td>single</td>\n",
       "      <td>2020-08-10</td>\n",
       "    </tr>\n",
       "    <tr>\n",
       "      <th>17</th>\n",
       "      <td>1.082353</td>\n",
       "      <td>-0.330191</td>\n",
       "      <td>0.032258</td>\n",
       "      <td>0.064516</td>\n",
       "      <td>0.064516</td>\n",
       "      <td>1.0</td>\n",
       "      <td>3</td>\n",
       "      <td>19.0</td>\n",
       "      <td>single</td>\n",
       "      <td>2020-08-10</td>\n",
       "    </tr>\n",
       "  </tbody>\n",
       "</table>\n",
       "</div>"
      ],
      "text/plain": [
       "       smape     sbias  exceed_0.05  exceed_0.95  exceed_0.99  model_num  \\\n",
       "1   1.540026 -0.601855     0.225806     0.419355     0.419355        1.0   \n",
       "5   1.486416 -0.549728     0.290323     0.580645     0.548387        1.0   \n",
       "9   1.483964 -0.309167     0.774194     0.032258     0.032258        1.0   \n",
       "13  1.318204 -0.651993     0.451613     0.129032     0.129032        1.0   \n",
       "17  1.082353 -0.330191     0.032258     0.064516     0.064516        1.0   \n",
       "\n",
       "    step   idx    type backtest_ts  \n",
       "1      0   4.0  single  2020-08-10  \n",
       "5      0  19.0  single  2020-08-10  \n",
       "9      1  19.0  single  2020-08-10  \n",
       "13     2  19.0  single  2020-08-10  \n",
       "17     3  19.0  single  2020-08-10  "
      ]
     },
     "execution_count": 29,
     "metadata": {},
     "output_type": "execute_result"
    }
   ],
   "source": [
    "backtest_df[backtest_df.model_num == 1]"
   ]
  },
  {
   "cell_type": "markdown",
   "metadata": {},
   "source": [
    "Since the test time series have differnet lengths, we may need a different number of prediction steps for each time series.  The table we see above shows a different row for each training step.  In addition to the length of each time series, the number of training steps is determined by the `fcst_window` parameter in the `GMParam` object.  If we want to get a single metric for each time series, we can do the following aggregation."
   ]
  },
  {
   "cell_type": "code",
   "execution_count": 30,
   "metadata": {},
   "outputs": [
    {
     "data": {
      "text/html": [
       "<div>\n",
       "<style scoped>\n",
       "    .dataframe tbody tr th:only-of-type {\n",
       "        vertical-align: middle;\n",
       "    }\n",
       "\n",
       "    .dataframe tbody tr th {\n",
       "        vertical-align: top;\n",
       "    }\n",
       "\n",
       "    .dataframe thead th {\n",
       "        text-align: right;\n",
       "    }\n",
       "</style>\n",
       "<table border=\"1\" class=\"dataframe\">\n",
       "  <thead>\n",
       "    <tr style=\"text-align: right;\">\n",
       "      <th></th>\n",
       "      <th>smape</th>\n",
       "      <th>sbias</th>\n",
       "      <th>exceed_0.05</th>\n",
       "      <th>exceed_0.95</th>\n",
       "      <th>exceed_0.99</th>\n",
       "      <th>model_num</th>\n",
       "    </tr>\n",
       "    <tr>\n",
       "      <th>idx</th>\n",
       "      <th></th>\n",
       "      <th></th>\n",
       "      <th></th>\n",
       "      <th></th>\n",
       "      <th></th>\n",
       "      <th></th>\n",
       "    </tr>\n",
       "  </thead>\n",
       "  <tbody>\n",
       "    <tr>\n",
       "      <th>4.0</th>\n",
       "      <td>1.540026</td>\n",
       "      <td>-0.601855</td>\n",
       "      <td>0.225806</td>\n",
       "      <td>0.419355</td>\n",
       "      <td>0.419355</td>\n",
       "      <td>1.0</td>\n",
       "    </tr>\n",
       "    <tr>\n",
       "      <th>19.0</th>\n",
       "      <td>1.342734</td>\n",
       "      <td>-0.460270</td>\n",
       "      <td>0.387097</td>\n",
       "      <td>0.201613</td>\n",
       "      <td>0.193548</td>\n",
       "      <td>1.0</td>\n",
       "    </tr>\n",
       "  </tbody>\n",
       "</table>\n",
       "</div>"
      ],
      "text/plain": [
       "         smape     sbias  exceed_0.05  exceed_0.95  exceed_0.99  model_num\n",
       "idx                                                                       \n",
       "4.0   1.540026 -0.601855     0.225806     0.419355     0.419355        1.0\n",
       "19.0  1.342734 -0.460270     0.387097     0.201613     0.193548        1.0"
      ]
     },
     "execution_count": 30,
     "metadata": {},
     "output_type": "execute_result"
    }
   ],
   "source": [
    "backtest_df[backtest_df.model_num == 1].drop('step', axis=1).groupby('idx').mean()"
   ]
  },
  {
   "cell_type": "markdown",
   "metadata": {},
   "source": [
    "Let's take a look at the metrics calculated for only the GM Ensemble."
   ]
  },
  {
   "cell_type": "code",
   "execution_count": 31,
   "metadata": {},
   "outputs": [
    {
     "data": {
      "text/html": [
       "<div>\n",
       "<style scoped>\n",
       "    .dataframe tbody tr th:only-of-type {\n",
       "        vertical-align: middle;\n",
       "    }\n",
       "\n",
       "    .dataframe tbody tr th {\n",
       "        vertical-align: top;\n",
       "    }\n",
       "\n",
       "    .dataframe thead th {\n",
       "        text-align: right;\n",
       "    }\n",
       "</style>\n",
       "<table border=\"1\" class=\"dataframe\">\n",
       "  <thead>\n",
       "    <tr style=\"text-align: right;\">\n",
       "      <th></th>\n",
       "      <th>smape</th>\n",
       "      <th>sbias</th>\n",
       "      <th>exceed_0.05</th>\n",
       "      <th>exceed_0.95</th>\n",
       "      <th>exceed_0.99</th>\n",
       "      <th>model_num</th>\n",
       "      <th>step</th>\n",
       "      <th>idx</th>\n",
       "      <th>type</th>\n",
       "      <th>backtest_ts</th>\n",
       "    </tr>\n",
       "  </thead>\n",
       "  <tbody>\n",
       "    <tr>\n",
       "      <th>3</th>\n",
       "      <td>1.472027</td>\n",
       "      <td>-0.670000</td>\n",
       "      <td>0.258065</td>\n",
       "      <td>0.516129</td>\n",
       "      <td>0.451613</td>\n",
       "      <td>NaN</td>\n",
       "      <td>0</td>\n",
       "      <td>NaN</td>\n",
       "      <td>ensemble</td>\n",
       "      <td>2020-08-10</td>\n",
       "    </tr>\n",
       "    <tr>\n",
       "      <th>7</th>\n",
       "      <td>1.488076</td>\n",
       "      <td>-0.621214</td>\n",
       "      <td>0.354839</td>\n",
       "      <td>0.612903</td>\n",
       "      <td>0.580645</td>\n",
       "      <td>NaN</td>\n",
       "      <td>0</td>\n",
       "      <td>NaN</td>\n",
       "      <td>ensemble</td>\n",
       "      <td>2020-08-10</td>\n",
       "    </tr>\n",
       "    <tr>\n",
       "      <th>11</th>\n",
       "      <td>1.431047</td>\n",
       "      <td>-0.308835</td>\n",
       "      <td>0.870968</td>\n",
       "      <td>0.032258</td>\n",
       "      <td>0.032258</td>\n",
       "      <td>NaN</td>\n",
       "      <td>1</td>\n",
       "      <td>NaN</td>\n",
       "      <td>ensemble</td>\n",
       "      <td>2020-08-10</td>\n",
       "    </tr>\n",
       "    <tr>\n",
       "      <th>15</th>\n",
       "      <td>1.287114</td>\n",
       "      <td>-0.525685</td>\n",
       "      <td>0.451613</td>\n",
       "      <td>0.193548</td>\n",
       "      <td>0.258065</td>\n",
       "      <td>NaN</td>\n",
       "      <td>2</td>\n",
       "      <td>NaN</td>\n",
       "      <td>ensemble</td>\n",
       "      <td>2020-08-10</td>\n",
       "    </tr>\n",
       "    <tr>\n",
       "      <th>19</th>\n",
       "      <td>1.074946</td>\n",
       "      <td>-0.315819</td>\n",
       "      <td>0.032258</td>\n",
       "      <td>0.064516</td>\n",
       "      <td>0.096774</td>\n",
       "      <td>NaN</td>\n",
       "      <td>3</td>\n",
       "      <td>NaN</td>\n",
       "      <td>ensemble</td>\n",
       "      <td>2020-08-10</td>\n",
       "    </tr>\n",
       "  </tbody>\n",
       "</table>\n",
       "</div>"
      ],
      "text/plain": [
       "       smape     sbias  exceed_0.05  exceed_0.95  exceed_0.99  model_num  \\\n",
       "3   1.472027 -0.670000     0.258065     0.516129     0.451613        NaN   \n",
       "7   1.488076 -0.621214     0.354839     0.612903     0.580645        NaN   \n",
       "11  1.431047 -0.308835     0.870968     0.032258     0.032258        NaN   \n",
       "15  1.287114 -0.525685     0.451613     0.193548     0.258065        NaN   \n",
       "19  1.074946 -0.315819     0.032258     0.064516     0.096774        NaN   \n",
       "\n",
       "    step  idx      type backtest_ts  \n",
       "3      0  NaN  ensemble  2020-08-10  \n",
       "7      0  NaN  ensemble  2020-08-10  \n",
       "11     1  NaN  ensemble  2020-08-10  \n",
       "15     2  NaN  ensemble  2020-08-10  \n",
       "19     3  NaN  ensemble  2020-08-10  "
      ]
     },
     "execution_count": 31,
     "metadata": {},
     "output_type": "execute_result"
    }
   ],
   "source": [
    "# TODO: refresh after diff fixing this lands\n",
    "backtest_df[backtest_df.type == 'ensemble']"
   ]
  },
  {
   "cell_type": "markdown",
   "metadata": {},
   "source": [
    "There are some constraints on how we pick the backtesting days.  Specifically, we need to have enough training days based on the the settings that we specify in the `GMParam` object.  We can see how many days that is using the `min_train_length` attribute."
   ]
  },
  {
   "cell_type": "code",
   "execution_count": 32,
   "metadata": {},
   "outputs": [
    {
     "data": {
      "text/plain": [
       "90"
      ]
     },
     "execution_count": 32,
     "metadata": {},
     "output_type": "execute_result"
    }
   ],
   "source": [
    "gbm.min_train_length"
   ]
  },
  {
   "cell_type": "markdown",
   "metadata": {},
   "source": [
    "Based on our current parameters, this tells us we need at least 90 data points for training.  If we try a date sooner than 90 days out from the first date, we will get an error.  The first date in each of our training time series is '2020-05-06', so the folowing does not work because '2020-08-01' is less than 90 days out."
   ]
  },
  {
   "cell_type": "code",
   "execution_count": 33,
   "metadata": {},
   "outputs": [],
   "source": [
    "# THIS DOES NOT WORK\n",
    "\n",
    "# gbm = GMBackTester(train_TSs, gmparam, backtest_timestamp = ['2020-08-01'], test_size=0.1)\n",
    "\n",
    "# gbm.run_backtest()"
   ]
  },
  {
   "cell_type": "markdown",
   "metadata": {},
   "source": [
    "## 3. Using Pretrained Global Model or Global Ensemble\n"
   ]
  },
  {
   "cell_type": "markdown",
   "metadata": {},
   "source": [
    "In Kats, we provide two pre-trained daily `GMEnsemble` objects (one is S2S-GME and and the other one is RNN-GME). Both of them are trained with M4 dataset. One can use them for forecasting exploration or benchmark.  \n",
    "\n",
    "We can load these ensembles the same way we loaded the ensembles we created in section 2.3 using the `load_gmensemble_from_file` function."
   ]
  },
  {
   "cell_type": "code",
   "execution_count": 34,
   "metadata": {},
   "outputs": [
    {
     "name": "stderr",
     "output_type": "stream",
     "text": [
      "ERROR:root:Fail to load GMEnsemble from ../kats/models/globalmodel/pretrained_daily_rnn.p with Exception [Errno 2] No such file or directory: '../kats/models/globalmodel/pretrained_daily_rnn.p'.\n"
     ]
    },
    {
     "ename": "ValueError",
     "evalue": "Fail to load GMEnsemble from ../kats/models/globalmodel/pretrained_daily_rnn.p with Exception [Errno 2] No such file or directory: '../kats/models/globalmodel/pretrained_daily_rnn.p'.",
     "output_type": "error",
     "traceback": [
      "\u001b[0;31m---------------------------------------------------------------------------\u001b[0m",
      "\u001b[0;31mFileNotFoundError\u001b[0m                         Traceback (most recent call last)",
      "\u001b[0;32m~/Kats/kats/models/globalmodel/ensemble.py\u001b[0m in \u001b[0;36mload_gmensemble_from_file\u001b[0;34m(file_name)\u001b[0m\n\u001b[1;32m    511\u001b[0m     \u001b[0;32mtry\u001b[0m\u001b[0;34m:\u001b[0m\u001b[0;34m\u001b[0m\u001b[0;34m\u001b[0m\u001b[0m\n\u001b[0;32m--> 512\u001b[0;31m         \u001b[0minfo\u001b[0m \u001b[0;34m=\u001b[0m \u001b[0mjoblib\u001b[0m\u001b[0;34m.\u001b[0m\u001b[0mload\u001b[0m\u001b[0;34m(\u001b[0m\u001b[0mopen\u001b[0m\u001b[0;34m(\u001b[0m\u001b[0mfile_name\u001b[0m\u001b[0;34m,\u001b[0m \u001b[0;34m\"rb\"\u001b[0m\u001b[0;34m)\u001b[0m\u001b[0;34m)\u001b[0m\u001b[0;34m\u001b[0m\u001b[0;34m\u001b[0m\u001b[0m\n\u001b[0m\u001b[1;32m    513\u001b[0m         \u001b[0mgmparam\u001b[0m \u001b[0;34m=\u001b[0m \u001b[0mgmparam_from_string\u001b[0m\u001b[0;34m(\u001b[0m\u001b[0minfo\u001b[0m\u001b[0;34m[\u001b[0m\u001b[0;34m\"gmparam_string\"\u001b[0m\u001b[0;34m]\u001b[0m\u001b[0;34m)\u001b[0m\u001b[0;34m\u001b[0m\u001b[0;34m\u001b[0m\u001b[0m\n",
      "\u001b[0;31mFileNotFoundError\u001b[0m: [Errno 2] No such file or directory: '../kats/models/globalmodel/pretrained_daily_rnn.p'",
      "\nDuring handling of the above exception, another exception occurred:\n",
      "\u001b[0;31mValueError\u001b[0m                                Traceback (most recent call last)",
      "\u001b[0;32m<ipython-input-34-746ecf922a16>\u001b[0m in \u001b[0;36m<module>\u001b[0;34m\u001b[0m\n\u001b[1;32m      1\u001b[0m \u001b[0;31m# TODO: decide if we want to keep this section\u001b[0m\u001b[0;34m\u001b[0m\u001b[0;34m\u001b[0m\u001b[0;34m\u001b[0m\u001b[0m\n\u001b[0;32m----> 2\u001b[0;31m \u001b[0mgme_rnn\u001b[0m \u001b[0;34m=\u001b[0m \u001b[0mload_gmensemble_from_file\u001b[0m\u001b[0;34m(\u001b[0m\u001b[0;34m\"../kats/models/globalmodel/pretrained_daily_rnn.p\"\u001b[0m\u001b[0;34m)\u001b[0m\u001b[0;34m\u001b[0m\u001b[0;34m\u001b[0m\u001b[0m\n\u001b[0m\u001b[1;32m      3\u001b[0m \u001b[0mgme_rnn\u001b[0m\u001b[0;34m\u001b[0m\u001b[0;34m\u001b[0m\u001b[0m\n",
      "\u001b[0;32m~/Kats/kats/models/globalmodel/ensemble.py\u001b[0m in \u001b[0;36mload_gmensemble_from_file\u001b[0;34m(file_name)\u001b[0m\n\u001b[1;32m    535\u001b[0m         \u001b[0mmsg\u001b[0m \u001b[0;34m=\u001b[0m \u001b[0;34mf\"Fail to load GMEnsemble from {file_name} with Exception {e}.\"\u001b[0m\u001b[0;34m\u001b[0m\u001b[0;34m\u001b[0m\u001b[0m\n\u001b[1;32m    536\u001b[0m         \u001b[0mlogging\u001b[0m\u001b[0;34m.\u001b[0m\u001b[0merror\u001b[0m\u001b[0;34m(\u001b[0m\u001b[0mmsg\u001b[0m\u001b[0;34m)\u001b[0m\u001b[0;34m\u001b[0m\u001b[0;34m\u001b[0m\u001b[0m\n\u001b[0;32m--> 537\u001b[0;31m         \u001b[0;32mraise\u001b[0m \u001b[0mValueError\u001b[0m\u001b[0;34m(\u001b[0m\u001b[0mmsg\u001b[0m\u001b[0;34m)\u001b[0m\u001b[0;34m\u001b[0m\u001b[0;34m\u001b[0m\u001b[0m\n\u001b[0m\u001b[1;32m    538\u001b[0m     \u001b[0;32mreturn\u001b[0m \u001b[0mgmensemble\u001b[0m\u001b[0;34m\u001b[0m\u001b[0;34m\u001b[0m\u001b[0m\n",
      "\u001b[0;31mValueError\u001b[0m: Fail to load GMEnsemble from ../kats/models/globalmodel/pretrained_daily_rnn.p with Exception [Errno 2] No such file or directory: '../kats/models/globalmodel/pretrained_daily_rnn.p'."
     ]
    }
   ],
   "source": [
    "# TODO: decide if we want to keep this section\n",
    "gme_rnn = load_gmensemble_from_file(\"../kats/models/globalmodel/pretrained_daily_rnn.p\")\n",
    "gme_rnn"
   ]
  },
  {
   "cell_type": "markdown",
   "metadata": {},
   "source": [
    "Once we have loaded the ensemble, we can use it to make predictions the same way we did with our own forecasts."
   ]
  },
  {
   "cell_type": "code",
   "execution_count": null,
   "metadata": {},
   "outputs": [],
   "source": [
    "fcsts = gme_rnn.predict(test_TSs, steps = 3)\n",
    "fcsts[3]"
   ]
  }
 ],
 "metadata": {
  "interpreter": {
   "hash": "5b6e8fba36db23bc4d54e0302cd75fdd75c29d9edcbab68d6cfc74e7e4b30305"
  },
  "kernelspec": {
   "display_name": "Python 3",
   "language": "python",
   "name": "python3"
  },
  "language_info": {
   "codemirror_mode": {
    "name": "ipython",
    "version": 3
   },
   "file_extension": ".py",
   "mimetype": "text/x-python",
   "name": "python",
   "nbconvert_exporter": "python",
   "pygments_lexer": "ipython3",
   "version": "3.8.8"
  }
 },
 "nbformat": 4,
 "nbformat_minor": 2
}
