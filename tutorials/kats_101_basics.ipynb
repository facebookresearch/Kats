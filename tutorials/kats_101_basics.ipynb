{
 "cells": [
  {
   "cell_type": "markdown",
   "metadata": {},
   "source": [
    "# Kats 101 - Basics\n",
    "\n",
    "Kats (**K**its to **A**nalyze **T**ime **S**eries) is a light-weight, easy-to-use, extenable, and generalizable framework to perform time series analysis in Python.  Time series analysis is an essential component of data science and engineering work.  Kats aims to provide a one-stop shop for techniques for univariate and multivariate time series including:\n",
    "- Forecasting trends\n",
    "- Change-point detection\n",
    "- Anomaly detection\n",
    "- Feature Extraction\n",
    "\n",
    "\n",
    "We provide two types of tutorial notebooks\n",
    "- **Kats 101**, basic data structure and functionalities in Kats (this tutorial)  \n",
    "- **Kats 20x**, advanced topics, such as advanced forecasting techniques (meta-learning, global model, etc.), advanced detection algorithms (Bayesian online change point detection algorithms, etc), and more.\n",
    "\n",
    "This Kats 101 notebook provides basic tutorials of Kats for beginners in time series analysis domain, the table of contents is listed as follows. \n",
    "* 1. Kats Basics\n",
    "    - 1.1 Initiate `TimeSeriesData` Object\n",
    "    - 1.2 `TimeSeriesData` built-in operations\n",
    "* 2. Forecasting with Kats\n",
    "    - 2.1 An example with Prophet model\n",
    "    - 2.2 An example with Theta model\n",
    "* 3. Detection with Kats\n",
    "    - 3.1 What are the algorithms?\n",
    "    - 3.2 An example with outlier detection method\n",
    "    - 3.3 An example with CUSUM algorithm\n",
    "* 4. Feature extraction with Kats\n",
    "* 5. Summary"
   ]
  },
  {
   "cell_type": "markdown",
   "metadata": {},
   "source": [
    "# 1. Kats Basics\n",
    "`TimeSeriesData` is the basic data structure in Kats to represented univariate and multivariate time series.  There are two ways to initiate it, henceforth referred to as \"Method 1\" and \"Method 2\":\n",
    "\n",
    "1) `TimeSeriesData(df)`, where `df` is a `pd.DataFrame` object with a \"time\" column and any number of value columns.\n",
    "\n",
    "2) `TimeSeriesData(time, value)`, where `time` is either a `pd.Series` or `pd.DatetimeIndex` object and `value` is either a `pd.Series` (for univariate) or a `pd.DataFrame` (for multivariate)\n",
    "\n",
    "## 1.1 Initiate `TimeSeriesData` object\n",
    "### 1.1.1 Initiate `TimeSeriesData` object - Univariate Example\n",
    "We will use the `air_passenger` and `multi_ts` datasets to demonstrate how to create a `TimeSeriesData` object for univariate and multivariate time series, respectively."
   ]
  },
  {
   "cell_type": "code",
   "execution_count": 1,
   "metadata": {},
   "outputs": [],
   "source": [
    "import numpy as np\n",
    "import pandas as pd\n",
    "from datetime import datetime, timedelta\n",
    "import matplotlib.pyplot as plt\n",
    "import sys\n",
    "sys.path.append(\"../\")\n",
    "\n",
    "from kats.consts import TimeSeriesData"
   ]
  },
  {
   "cell_type": "code",
   "execution_count": 2,
   "metadata": {},
   "outputs": [
    {
     "data": {
      "text/html": [
       "<div>\n",
       "<style scoped>\n",
       "    .dataframe tbody tr th:only-of-type {\n",
       "        vertical-align: middle;\n",
       "    }\n",
       "\n",
       "    .dataframe tbody tr th {\n",
       "        vertical-align: top;\n",
       "    }\n",
       "\n",
       "    .dataframe thead th {\n",
       "        text-align: right;\n",
       "    }\n",
       "</style>\n",
       "<table border=\"1\" class=\"dataframe\">\n",
       "  <thead>\n",
       "    <tr style=\"text-align: right;\">\n",
       "      <th></th>\n",
       "      <th>time</th>\n",
       "      <th>value</th>\n",
       "    </tr>\n",
       "  </thead>\n",
       "  <tbody>\n",
       "    <tr>\n",
       "      <th>0</th>\n",
       "      <td>1949-01-01</td>\n",
       "      <td>112</td>\n",
       "    </tr>\n",
       "    <tr>\n",
       "      <th>1</th>\n",
       "      <td>1949-02-01</td>\n",
       "      <td>118</td>\n",
       "    </tr>\n",
       "    <tr>\n",
       "      <th>2</th>\n",
       "      <td>1949-03-01</td>\n",
       "      <td>132</td>\n",
       "    </tr>\n",
       "    <tr>\n",
       "      <th>3</th>\n",
       "      <td>1949-04-01</td>\n",
       "      <td>129</td>\n",
       "    </tr>\n",
       "    <tr>\n",
       "      <th>4</th>\n",
       "      <td>1949-05-01</td>\n",
       "      <td>121</td>\n",
       "    </tr>\n",
       "  </tbody>\n",
       "</table>\n",
       "</div>"
      ],
      "text/plain": [
       "         time  value\n",
       "0  1949-01-01    112\n",
       "1  1949-02-01    118\n",
       "2  1949-03-01    132\n",
       "3  1949-04-01    129\n",
       "4  1949-05-01    121"
      ]
     },
     "execution_count": 2,
     "metadata": {},
     "output_type": "execute_result"
    }
   ],
   "source": [
    "air_passengers_df = pd.read_csv(\"../kats/data/air_passengers.csv\")\n",
    "\n",
    "\"\"\"\n",
    "Note: If the column holding the time values is not called \"time\", you will want to specify \n",
    "the name of this column using the time_col_name parameter in the TimeSeriesData constructor.\n",
    "\"\"\"\n",
    "air_passengers_df.columns = [\"time\", \"value\"]\n",
    "air_passengers_df.head()"
   ]
  },
  {
   "cell_type": "code",
   "execution_count": 3,
   "metadata": {},
   "outputs": [
    {
     "data": {
      "text/html": [
       "<div>\n",
       "<style scoped>\n",
       "    .dataframe tbody tr th:only-of-type {\n",
       "        vertical-align: middle;\n",
       "    }\n",
       "\n",
       "    .dataframe tbody tr th {\n",
       "        vertical-align: top;\n",
       "    }\n",
       "\n",
       "    .dataframe thead th {\n",
       "        text-align: right;\n",
       "    }\n",
       "</style>\n",
       "<table border=\"1\" class=\"dataframe\">\n",
       "  <thead>\n",
       "    <tr style=\"text-align: right;\">\n",
       "      <th></th>\n",
       "      <th>time</th>\n",
       "      <th>v1</th>\n",
       "      <th>v2</th>\n",
       "    </tr>\n",
       "  </thead>\n",
       "  <tbody>\n",
       "    <tr>\n",
       "      <th>0</th>\n",
       "      <td>2017-03-12</td>\n",
       "      <td>-0.109</td>\n",
       "      <td>53.8</td>\n",
       "    </tr>\n",
       "    <tr>\n",
       "      <th>1</th>\n",
       "      <td>2017-03-13</td>\n",
       "      <td>0.000</td>\n",
       "      <td>53.6</td>\n",
       "    </tr>\n",
       "    <tr>\n",
       "      <th>2</th>\n",
       "      <td>2017-03-14</td>\n",
       "      <td>0.178</td>\n",
       "      <td>53.5</td>\n",
       "    </tr>\n",
       "    <tr>\n",
       "      <th>3</th>\n",
       "      <td>2017-03-15</td>\n",
       "      <td>0.339</td>\n",
       "      <td>53.5</td>\n",
       "    </tr>\n",
       "    <tr>\n",
       "      <th>4</th>\n",
       "      <td>2017-03-16</td>\n",
       "      <td>0.373</td>\n",
       "      <td>53.4</td>\n",
       "    </tr>\n",
       "  </tbody>\n",
       "</table>\n",
       "</div>"
      ],
      "text/plain": [
       "         time     v1    v2\n",
       "0  2017-03-12 -0.109  53.8\n",
       "1  2017-03-13  0.000  53.6\n",
       "2  2017-03-14  0.178  53.5\n",
       "3  2017-03-15  0.339  53.5\n",
       "4  2017-03-16  0.373  53.4"
      ]
     },
     "execution_count": 3,
     "metadata": {},
     "output_type": "execute_result"
    }
   ],
   "source": [
    "multi_ts_df = pd.read_csv(\"../kats/data/multi_ts.csv\", index_col=0)\n",
    "multi_ts_df.columns = [\"time\", \"v1\", \"v2\"]\n",
    "multi_ts_df.head()"
   ]
  },
  {
   "cell_type": "markdown",
   "metadata": {},
   "source": [
    "Here we construct `TimeSeriesData` objects for each time series using Method 1."
   ]
  },
  {
   "cell_type": "code",
   "execution_count": 4,
   "metadata": {},
   "outputs": [],
   "source": [
    "air_passengers_ts = TimeSeriesData(air_passengers_df)\n",
    "multi_ts = TimeSeriesData(multi_ts_df)"
   ]
  },
  {
   "cell_type": "code",
   "execution_count": 5,
   "metadata": {},
   "outputs": [
    {
     "name": "stdout",
     "output_type": "stream",
     "text": [
      "<class 'kats.consts.TimeSeriesData'>\n",
      "<class 'kats.consts.TimeSeriesData'>\n"
     ]
    }
   ],
   "source": [
    "# check that the type of the data is a \"TimeSeriesData\" object for both cases\n",
    "print(type(air_passengers_ts))\n",
    "print(type(multi_ts))"
   ]
  },
  {
   "cell_type": "code",
   "execution_count": 6,
   "metadata": {},
   "outputs": [
    {
     "name": "stdout",
     "output_type": "stream",
     "text": [
      "<class 'pandas.core.series.Series'> <class 'pandas.core.series.Series'>\n"
     ]
    }
   ],
   "source": [
    "# For the air_passengers TimeSeriesData, check that both time and value are pd.Series\n",
    "print(type(air_passengers_ts.time), type(air_passengers_ts.value))"
   ]
  },
  {
   "cell_type": "code",
   "execution_count": 7,
   "metadata": {},
   "outputs": [
    {
     "name": "stdout",
     "output_type": "stream",
     "text": [
      "<class 'pandas.core.series.Series'> <class 'pandas.core.frame.DataFrame'>\n"
     ]
    }
   ],
   "source": [
    "# For the multi_ts TimeSeriesData, time is a pd.Series and value is a pd.DataFrame\n",
    "print(type(multi_ts.time), type(multi_ts.value))"
   ]
  },
  {
   "cell_type": "code",
   "execution_count": 8,
   "metadata": {},
   "outputs": [
    {
     "data": {
      "text/html": [
       "<div>\n",
       "<style scoped>\n",
       "    .dataframe tbody tr th:only-of-type {\n",
       "        vertical-align: middle;\n",
       "    }\n",
       "\n",
       "    .dataframe tbody tr th {\n",
       "        vertical-align: top;\n",
       "    }\n",
       "\n",
       "    .dataframe thead th {\n",
       "        text-align: right;\n",
       "    }\n",
       "</style>\n",
       "<table border=\"1\" class=\"dataframe\">\n",
       "  <thead>\n",
       "    <tr style=\"text-align: right;\">\n",
       "      <th></th>\n",
       "      <th>time</th>\n",
       "      <th>value</th>\n",
       "    </tr>\n",
       "  </thead>\n",
       "  <tbody>\n",
       "    <tr>\n",
       "      <th>0</th>\n",
       "      <td>1949-01-01</td>\n",
       "      <td>112</td>\n",
       "    </tr>\n",
       "    <tr>\n",
       "      <th>1</th>\n",
       "      <td>1949-02-01</td>\n",
       "      <td>118</td>\n",
       "    </tr>\n",
       "    <tr>\n",
       "      <th>2</th>\n",
       "      <td>1949-03-01</td>\n",
       "      <td>132</td>\n",
       "    </tr>\n",
       "    <tr>\n",
       "      <th>3</th>\n",
       "      <td>1949-04-01</td>\n",
       "      <td>129</td>\n",
       "    </tr>\n",
       "    <tr>\n",
       "      <th>4</th>\n",
       "      <td>1949-05-01</td>\n",
       "      <td>121</td>\n",
       "    </tr>\n",
       "    <tr>\n",
       "      <th>...</th>\n",
       "      <td>...</td>\n",
       "      <td>...</td>\n",
       "    </tr>\n",
       "    <tr>\n",
       "      <th>139</th>\n",
       "      <td>1960-08-01</td>\n",
       "      <td>606</td>\n",
       "    </tr>\n",
       "    <tr>\n",
       "      <th>140</th>\n",
       "      <td>1960-09-01</td>\n",
       "      <td>508</td>\n",
       "    </tr>\n",
       "    <tr>\n",
       "      <th>141</th>\n",
       "      <td>1960-10-01</td>\n",
       "      <td>461</td>\n",
       "    </tr>\n",
       "    <tr>\n",
       "      <th>142</th>\n",
       "      <td>1960-11-01</td>\n",
       "      <td>390</td>\n",
       "    </tr>\n",
       "    <tr>\n",
       "      <th>143</th>\n",
       "      <td>1960-12-01</td>\n",
       "      <td>432</td>\n",
       "    </tr>\n",
       "  </tbody>\n",
       "</table>\n",
       "<p>144 rows × 2 columns</p>\n",
       "</div>"
      ],
      "text/plain": [
       "          time  value\n",
       "0   1949-01-01    112\n",
       "1   1949-02-01    118\n",
       "2   1949-03-01    132\n",
       "3   1949-04-01    129\n",
       "4   1949-05-01    121\n",
       "..         ...    ...\n",
       "139 1960-08-01    606\n",
       "140 1960-09-01    508\n",
       "141 1960-10-01    461\n",
       "142 1960-11-01    390\n",
       "143 1960-12-01    432\n",
       "\n",
       "[144 rows x 2 columns]"
      ]
     },
     "execution_count": 8,
     "metadata": {},
     "output_type": "execute_result"
    }
   ],
   "source": [
    "air_passengers_ts"
   ]
  },
  {
   "cell_type": "markdown",
   "metadata": {},
   "source": [
    "Now, we show how to construct the same `TimeSeriesData` objects as before using Method 2."
   ]
  },
  {
   "cell_type": "code",
   "execution_count": 9,
   "metadata": {},
   "outputs": [],
   "source": [
    "ts_from_series = TimeSeriesData(time=air_passengers_df.time, value=air_passengers_df.value)\n",
    "multi_ts_from_series = TimeSeriesData(time=multi_ts_df.time, value=multi_ts_df[['v1', 'v2']])"
   ]
  },
  {
   "cell_type": "markdown",
   "metadata": {},
   "source": [
    "`TimeSeriesData` can accomodate time expressed as a variety of different types, including \n",
    "- standard `datetime`, \n",
    "- `pandas.Timestamp`,\n",
    "- a `str` (if in a non-standard format or if efficiency is important, use the optional `date_format` argument),\n",
    "- `int` (i.e. unix time).\n",
    "\n",
    "Here is an example of how to construct a `TimeSeriesData` object when time is provided in unix time format.\n",
    "\n",
    "\n",
    "Here's an example where the time is auto-interpreted from a unix time format. Using this format just requires a couple optional parameters in the `TimeSeriesData` constructor:\n",
    "- `use_unix_time = True`\n",
    "- `unix_time_units=\"s\"` (the default is `\"ns\"`, indicating nanoseconds)"
   ]
  },
  {
   "cell_type": "code",
   "execution_count": 10,
   "metadata": {},
   "outputs": [
    {
     "data": {
      "text/plain": [
       "0     -662670000.0\n",
       "1     -659991600.0\n",
       "2     -657572400.0\n",
       "3     -654894000.0\n",
       "4     -652305600.0\n",
       "          ...     \n",
       "139   -297201600.0\n",
       "140   -294523200.0\n",
       "141   -291931200.0\n",
       "142   -289249200.0\n",
       "143   -286657200.0\n",
       "Name: time, Length: 144, dtype: float64"
      ]
     },
     "execution_count": 10,
     "metadata": {},
     "output_type": "execute_result"
    }
   ],
   "source": [
    "from dateutil import parser\n",
    "from datetime import datetime\n",
    "\n",
    "# Convert time from air_passengers data to unix time\n",
    "air_passengers_ts_unixtime = air_passengers_df.time.apply(\n",
    "    lambda x: datetime.timestamp(parser.parse(x))\n",
    ")\n",
    "\n",
    "air_passengers_ts_unixtime"
   ]
  },
  {
   "cell_type": "code",
   "execution_count": 11,
   "metadata": {},
   "outputs": [
    {
     "data": {
      "text/html": [
       "<div>\n",
       "<style scoped>\n",
       "    .dataframe tbody tr th:only-of-type {\n",
       "        vertical-align: middle;\n",
       "    }\n",
       "\n",
       "    .dataframe tbody tr th {\n",
       "        vertical-align: top;\n",
       "    }\n",
       "\n",
       "    .dataframe thead th {\n",
       "        text-align: right;\n",
       "    }\n",
       "</style>\n",
       "<table border=\"1\" class=\"dataframe\">\n",
       "  <thead>\n",
       "    <tr style=\"text-align: right;\">\n",
       "      <th></th>\n",
       "      <th>time</th>\n",
       "      <th>value</th>\n",
       "    </tr>\n",
       "  </thead>\n",
       "  <tbody>\n",
       "    <tr>\n",
       "      <th>0</th>\n",
       "      <td>1949-01-01 05:00:00</td>\n",
       "      <td>112</td>\n",
       "    </tr>\n",
       "    <tr>\n",
       "      <th>1</th>\n",
       "      <td>1949-02-01 05:00:00</td>\n",
       "      <td>118</td>\n",
       "    </tr>\n",
       "    <tr>\n",
       "      <th>2</th>\n",
       "      <td>1949-03-01 05:00:00</td>\n",
       "      <td>132</td>\n",
       "    </tr>\n",
       "    <tr>\n",
       "      <th>3</th>\n",
       "      <td>1949-04-01 05:00:00</td>\n",
       "      <td>129</td>\n",
       "    </tr>\n",
       "    <tr>\n",
       "      <th>4</th>\n",
       "      <td>1949-05-01 04:00:00</td>\n",
       "      <td>121</td>\n",
       "    </tr>\n",
       "    <tr>\n",
       "      <th>...</th>\n",
       "      <td>...</td>\n",
       "      <td>...</td>\n",
       "    </tr>\n",
       "    <tr>\n",
       "      <th>139</th>\n",
       "      <td>1960-08-01 04:00:00</td>\n",
       "      <td>606</td>\n",
       "    </tr>\n",
       "    <tr>\n",
       "      <th>140</th>\n",
       "      <td>1960-09-01 04:00:00</td>\n",
       "      <td>508</td>\n",
       "    </tr>\n",
       "    <tr>\n",
       "      <th>141</th>\n",
       "      <td>1960-10-01 04:00:00</td>\n",
       "      <td>461</td>\n",
       "    </tr>\n",
       "    <tr>\n",
       "      <th>142</th>\n",
       "      <td>1960-11-01 05:00:00</td>\n",
       "      <td>390</td>\n",
       "    </tr>\n",
       "    <tr>\n",
       "      <th>143</th>\n",
       "      <td>1960-12-01 05:00:00</td>\n",
       "      <td>432</td>\n",
       "    </tr>\n",
       "  </tbody>\n",
       "</table>\n",
       "<p>144 rows × 2 columns</p>\n",
       "</div>"
      ],
      "text/plain": [
       "                   time  value\n",
       "0   1949-01-01 05:00:00    112\n",
       "1   1949-02-01 05:00:00    118\n",
       "2   1949-03-01 05:00:00    132\n",
       "3   1949-04-01 05:00:00    129\n",
       "4   1949-05-01 04:00:00    121\n",
       "..                  ...    ...\n",
       "139 1960-08-01 04:00:00    606\n",
       "140 1960-09-01 04:00:00    508\n",
       "141 1960-10-01 04:00:00    461\n",
       "142 1960-11-01 05:00:00    390\n",
       "143 1960-12-01 05:00:00    432\n",
       "\n",
       "[144 rows x 2 columns]"
      ]
     },
     "execution_count": 11,
     "metadata": {},
     "output_type": "execute_result"
    }
   ],
   "source": [
    "# Create the TimeSeriesData object with the extra arguments to accomodate unix time \n",
    "ts_from_unixtime = TimeSeriesData(\n",
    "        time=air_passengers_ts_unixtime, \n",
    "        value=air_passengers_df.value, \n",
    "        use_unix_time=True, \n",
    "        unix_time_units=\"s\"\n",
    ")\n",
    "\n",
    "ts_from_unixtime"
   ]
  },
  {
   "cell_type": "markdown",
   "metadata": {},
   "source": [
    "## 1.2 `TimeSeriesData` built-in operations"
   ]
  },
  {
   "cell_type": "markdown",
   "metadata": {},
   "source": [
    "Once a `TimeSeriesData` object is successfully created, it can be treated much like a standard `pandas.DataFrame`. Here are some examples of useful operations you can perform:"
   ]
  },
  {
   "cell_type": "markdown",
   "metadata": {},
   "source": [
    "## Slicing"
   ]
  },
  {
   "cell_type": "code",
   "execution_count": 12,
   "metadata": {},
   "outputs": [
    {
     "data": {
      "text/html": [
       "<div>\n",
       "<style scoped>\n",
       "    .dataframe tbody tr th:only-of-type {\n",
       "        vertical-align: middle;\n",
       "    }\n",
       "\n",
       "    .dataframe tbody tr th {\n",
       "        vertical-align: top;\n",
       "    }\n",
       "\n",
       "    .dataframe thead th {\n",
       "        text-align: right;\n",
       "    }\n",
       "</style>\n",
       "<table border=\"1\" class=\"dataframe\">\n",
       "  <thead>\n",
       "    <tr style=\"text-align: right;\">\n",
       "      <th></th>\n",
       "      <th>time</th>\n",
       "      <th>value</th>\n",
       "    </tr>\n",
       "  </thead>\n",
       "  <tbody>\n",
       "    <tr>\n",
       "      <th>0</th>\n",
       "      <td>1949-02-01</td>\n",
       "      <td>118</td>\n",
       "    </tr>\n",
       "    <tr>\n",
       "      <th>1</th>\n",
       "      <td>1949-03-01</td>\n",
       "      <td>132</td>\n",
       "    </tr>\n",
       "    <tr>\n",
       "      <th>2</th>\n",
       "      <td>1949-04-01</td>\n",
       "      <td>129</td>\n",
       "    </tr>\n",
       "    <tr>\n",
       "      <th>3</th>\n",
       "      <td>1949-05-01</td>\n",
       "      <td>121</td>\n",
       "    </tr>\n",
       "  </tbody>\n",
       "</table>\n",
       "</div>"
      ],
      "text/plain": [
       "        time  value\n",
       "0 1949-02-01    118\n",
       "1 1949-03-01    132\n",
       "2 1949-04-01    129\n",
       "3 1949-05-01    121"
      ]
     },
     "execution_count": 12,
     "metadata": {},
     "output_type": "execute_result"
    }
   ],
   "source": [
    "air_passengers_ts[1:5]"
   ]
  },
  {
   "cell_type": "markdown",
   "metadata": {},
   "source": [
    "## Math operations"
   ]
  },
  {
   "cell_type": "code",
   "execution_count": 13,
   "metadata": {},
   "outputs": [
    {
     "data": {
      "text/html": [
       "<div>\n",
       "<style scoped>\n",
       "    .dataframe tbody tr th:only-of-type {\n",
       "        vertical-align: middle;\n",
       "    }\n",
       "\n",
       "    .dataframe tbody tr th {\n",
       "        vertical-align: top;\n",
       "    }\n",
       "\n",
       "    .dataframe thead th {\n",
       "        text-align: right;\n",
       "    }\n",
       "</style>\n",
       "<table border=\"1\" class=\"dataframe\">\n",
       "  <thead>\n",
       "    <tr style=\"text-align: right;\">\n",
       "      <th></th>\n",
       "      <th>time</th>\n",
       "      <th>value</th>\n",
       "    </tr>\n",
       "  </thead>\n",
       "  <tbody>\n",
       "    <tr>\n",
       "      <th>0</th>\n",
       "      <td>1949-02-01</td>\n",
       "      <td>236</td>\n",
       "    </tr>\n",
       "    <tr>\n",
       "      <th>1</th>\n",
       "      <td>1949-03-01</td>\n",
       "      <td>264</td>\n",
       "    </tr>\n",
       "    <tr>\n",
       "      <th>2</th>\n",
       "      <td>1949-04-01</td>\n",
       "      <td>258</td>\n",
       "    </tr>\n",
       "    <tr>\n",
       "      <th>3</th>\n",
       "      <td>1949-05-01</td>\n",
       "      <td>242</td>\n",
       "    </tr>\n",
       "  </tbody>\n",
       "</table>\n",
       "</div>"
      ],
      "text/plain": [
       "        time  value\n",
       "0 1949-02-01    236\n",
       "1 1949-03-01    264\n",
       "2 1949-04-01    258\n",
       "3 1949-05-01    242"
      ]
     },
     "execution_count": 13,
     "metadata": {},
     "output_type": "execute_result"
    }
   ],
   "source": [
    "air_passengers_ts[1:5] + air_passengers_ts[1:5]"
   ]
  },
  {
   "cell_type": "code",
   "execution_count": 14,
   "metadata": {},
   "outputs": [
    {
     "data": {
      "text/plain": [
       "True"
      ]
     },
     "execution_count": 14,
     "metadata": {},
     "output_type": "execute_result"
    }
   ],
   "source": [
    "# Equality and Inequality are also supported:\n",
    "\n",
    "air_passengers_ts == ts_from_series"
   ]
  },
  {
   "cell_type": "code",
   "execution_count": 15,
   "metadata": {},
   "outputs": [
    {
     "data": {
      "text/plain": [
       "144"
      ]
     },
     "execution_count": 15,
     "metadata": {},
     "output_type": "execute_result"
    }
   ],
   "source": [
    "# length\n",
    "\n",
    "len(air_passengers_ts)"
   ]
  },
  {
   "cell_type": "markdown",
   "metadata": {},
   "source": [
    "## Extend"
   ]
  },
  {
   "cell_type": "code",
   "execution_count": 16,
   "metadata": {},
   "outputs": [
    {
     "data": {
      "text/html": [
       "<div>\n",
       "<style scoped>\n",
       "    .dataframe tbody tr th:only-of-type {\n",
       "        vertical-align: middle;\n",
       "    }\n",
       "\n",
       "    .dataframe tbody tr th {\n",
       "        vertical-align: top;\n",
       "    }\n",
       "\n",
       "    .dataframe thead th {\n",
       "        text-align: right;\n",
       "    }\n",
       "</style>\n",
       "<table border=\"1\" class=\"dataframe\">\n",
       "  <thead>\n",
       "    <tr style=\"text-align: right;\">\n",
       "      <th></th>\n",
       "      <th>time</th>\n",
       "      <th>value</th>\n",
       "    </tr>\n",
       "  </thead>\n",
       "  <tbody>\n",
       "    <tr>\n",
       "      <th>0</th>\n",
       "      <td>1949-01-01</td>\n",
       "      <td>112</td>\n",
       "    </tr>\n",
       "    <tr>\n",
       "      <th>1</th>\n",
       "      <td>1949-02-01</td>\n",
       "      <td>118</td>\n",
       "    </tr>\n",
       "    <tr>\n",
       "      <th>2</th>\n",
       "      <td>1949-03-01</td>\n",
       "      <td>132</td>\n",
       "    </tr>\n",
       "    <tr>\n",
       "      <th>3</th>\n",
       "      <td>1949-04-01</td>\n",
       "      <td>129</td>\n",
       "    </tr>\n",
       "    <tr>\n",
       "      <th>4</th>\n",
       "      <td>1949-05-01</td>\n",
       "      <td>121</td>\n",
       "    </tr>\n",
       "    <tr>\n",
       "      <th>5</th>\n",
       "      <td>1949-06-01</td>\n",
       "      <td>135</td>\n",
       "    </tr>\n",
       "    <tr>\n",
       "      <th>6</th>\n",
       "      <td>1949-07-01</td>\n",
       "      <td>148</td>\n",
       "    </tr>\n",
       "  </tbody>\n",
       "</table>\n",
       "</div>"
      ],
      "text/plain": [
       "        time  value\n",
       "0 1949-01-01    112\n",
       "1 1949-02-01    118\n",
       "2 1949-03-01    132\n",
       "3 1949-04-01    129\n",
       "4 1949-05-01    121\n",
       "5 1949-06-01    135\n",
       "6 1949-07-01    148"
      ]
     },
     "execution_count": 16,
     "metadata": {},
     "output_type": "execute_result"
    }
   ],
   "source": [
    "# Creating two slices\n",
    "ts_1 = air_passengers_ts[0:3]\n",
    "ts_2 = air_passengers_ts[3:7]\n",
    "\n",
    "ts_1.extend(ts_2)\n",
    "ts_1"
   ]
  },
  {
   "cell_type": "markdown",
   "metadata": {},
   "source": [
    "## Plotting"
   ]
  },
  {
   "cell_type": "code",
   "execution_count": 17,
   "metadata": {},
   "outputs": [
    {
     "data": {
      "image/png": "[encoded data removed]",
      "text/plain": [
       "<Figure size 720x432 with 1 Axes>"
      ]
     },
     "metadata": {},
     "output_type": "display_data"
    }
   ],
   "source": [
    "%matplotlib inline\n",
    "\n",
    "# Must pass the name of the value columns to plot\n",
    "air_passengers_ts.plot(cols=['value'])"
   ]
  },
  {
   "cell_type": "markdown",
   "metadata": {},
   "source": [
    "## Utility functions\n",
    "\n",
    "There are a number of useful utility functions Kats provides. These methods can be especially helpful when using your TimeSeriesData with external libraries. A few examples are included below.\n"
   ]
  },
  {
   "cell_type": "markdown",
   "metadata": {},
   "source": [
    "### Convert to pandas.DataFrame"
   ]
  },
  {
   "cell_type": "code",
   "execution_count": 18,
   "metadata": {},
   "outputs": [
    {
     "data": {
      "text/html": [
       "<div>\n",
       "<style scoped>\n",
       "    .dataframe tbody tr th:only-of-type {\n",
       "        vertical-align: middle;\n",
       "    }\n",
       "\n",
       "    .dataframe tbody tr th {\n",
       "        vertical-align: top;\n",
       "    }\n",
       "\n",
       "    .dataframe thead th {\n",
       "        text-align: right;\n",
       "    }\n",
       "</style>\n",
       "<table border=\"1\" class=\"dataframe\">\n",
       "  <thead>\n",
       "    <tr style=\"text-align: right;\">\n",
       "      <th></th>\n",
       "      <th>time</th>\n",
       "      <th>value</th>\n",
       "    </tr>\n",
       "  </thead>\n",
       "  <tbody>\n",
       "    <tr>\n",
       "      <th>0</th>\n",
       "      <td>1949-01-01</td>\n",
       "      <td>112</td>\n",
       "    </tr>\n",
       "    <tr>\n",
       "      <th>1</th>\n",
       "      <td>1949-02-01</td>\n",
       "      <td>118</td>\n",
       "    </tr>\n",
       "    <tr>\n",
       "      <th>2</th>\n",
       "      <td>1949-03-01</td>\n",
       "      <td>132</td>\n",
       "    </tr>\n",
       "    <tr>\n",
       "      <th>3</th>\n",
       "      <td>1949-04-01</td>\n",
       "      <td>129</td>\n",
       "    </tr>\n",
       "    <tr>\n",
       "      <th>4</th>\n",
       "      <td>1949-05-01</td>\n",
       "      <td>121</td>\n",
       "    </tr>\n",
       "  </tbody>\n",
       "</table>\n",
       "</div>"
      ],
      "text/plain": [
       "        time  value\n",
       "0 1949-01-01    112\n",
       "1 1949-02-01    118\n",
       "2 1949-03-01    132\n",
       "3 1949-04-01    129\n",
       "4 1949-05-01    121"
      ]
     },
     "execution_count": 18,
     "metadata": {},
     "output_type": "execute_result"
    }
   ],
   "source": [
    "air_passengers_ts.to_dataframe().head()"
   ]
  },
  {
   "cell_type": "markdown",
   "metadata": {},
   "source": [
    "### Convert to numpy.ndarray"
   ]
  },
  {
   "cell_type": "code",
   "execution_count": 19,
   "metadata": {},
   "outputs": [
    {
     "data": {
      "text/plain": [
       "array([[Timestamp('1949-01-01 00:00:00'), 112],\n",
       "       [Timestamp('1949-02-01 00:00:00'), 118],\n",
       "       [Timestamp('1949-03-01 00:00:00'), 132],\n",
       "       [Timestamp('1949-04-01 00:00:00'), 129],\n",
       "       [Timestamp('1949-05-01 00:00:00'), 121]], dtype=object)"
      ]
     },
     "execution_count": 19,
     "metadata": {},
     "output_type": "execute_result"
    }
   ],
   "source": [
    "air_passengers_ts.to_array()[0:5]"
   ]
  },
  {
   "cell_type": "markdown",
   "metadata": {},
   "source": [
    "### Check characteristics of the time series"
   ]
  },
  {
   "cell_type": "code",
   "execution_count": 20,
   "metadata": {},
   "outputs": [
    {
     "data": {
      "text/plain": [
       "False"
      ]
     },
     "execution_count": 20,
     "metadata": {},
     "output_type": "execute_result"
    }
   ],
   "source": [
    "air_passengers_ts.is_empty()"
   ]
  },
  {
   "cell_type": "code",
   "execution_count": 21,
   "metadata": {},
   "outputs": [
    {
     "data": {
      "text/plain": [
       "True"
      ]
     },
     "execution_count": 21,
     "metadata": {},
     "output_type": "execute_result"
    }
   ],
   "source": [
    "air_passengers_ts.is_univariate()"
   ]
  },
  {
   "cell_type": "markdown",
   "metadata": {},
   "source": [
    "# 2. Forecasting with Kats\n",
    "\n",
    "Forecasting is one of the fundamental domains in Kats, we currently have 10 base forecasting models: linear model, quadratic model, ARIMA, SARIMA, Holt-Winters, Prophet, AR-Net, LSTM, Theta, and VAR models. All models follows the `sklearn` model API. In Kats we create an instance of the model class and then call its fit and predict methods. Taking the most popular internal forecasting model, prophet, as an example, we demonstrate how to create and visualize the models.\n",
    "\n",
    "## 2.1 An example with Prophet model\n",
    "\n",
    "We will demonstrate how to use Prophet model to forecast with the `air_passengers` data set.      "
   ]
  },
  {
   "cell_type": "code",
   "execution_count": 22,
   "metadata": {},
   "outputs": [
    {
     "ename": "ModuleNotFoundError",
     "evalue": "No module named 'fbprophet'",
     "output_type": "error",
     "traceback": [
      "\u001b[0;31m---------------------------------------------------------------------------\u001b[0m",
      "\u001b[0;31mModuleNotFoundError\u001b[0m                       Traceback (most recent call last)",
      "\u001b[0;32m<ipython-input-22-959c938e0d42>\u001b[0m in \u001b[0;36m<module>\u001b[0;34m\u001b[0m\n\u001b[1;32m      1\u001b[0m \u001b[0;31m# import the param and model classes for Prophet model\u001b[0m\u001b[0;34m\u001b[0m\u001b[0;34m\u001b[0m\u001b[0;34m\u001b[0m\u001b[0m\n\u001b[0;32m----> 2\u001b[0;31m \u001b[0;32mfrom\u001b[0m \u001b[0mkats\u001b[0m\u001b[0;34m.\u001b[0m\u001b[0mmodels\u001b[0m\u001b[0;34m.\u001b[0m\u001b[0mprophet\u001b[0m \u001b[0;32mimport\u001b[0m \u001b[0mProphetModel\u001b[0m\u001b[0;34m,\u001b[0m \u001b[0mProphetParams\u001b[0m\u001b[0;34m\u001b[0m\u001b[0;34m\u001b[0m\u001b[0m\n\u001b[0m\u001b[1;32m      3\u001b[0m \u001b[0;34m\u001b[0m\u001b[0m\n\u001b[1;32m      4\u001b[0m \u001b[0;31m# create a model param instance\u001b[0m\u001b[0;34m\u001b[0m\u001b[0;34m\u001b[0m\u001b[0;34m\u001b[0m\u001b[0m\n\u001b[1;32m      5\u001b[0m \u001b[0mparams\u001b[0m \u001b[0;34m=\u001b[0m \u001b[0mProphetParams\u001b[0m\u001b[0;34m(\u001b[0m\u001b[0mseasonality_mode\u001b[0m\u001b[0;34m=\u001b[0m\u001b[0;34m'multiplicative'\u001b[0m\u001b[0;34m)\u001b[0m \u001b[0;31m# additive mode gives worse results\u001b[0m\u001b[0;34m\u001b[0m\u001b[0;34m\u001b[0m\u001b[0m\n",
      "\u001b[0;32m~/Kats/kats/models/prophet.py\u001b[0m in \u001b[0;36m<module>\u001b[0;34m\u001b[0m\n\u001b[1;32m     10\u001b[0m \u001b[0;32mimport\u001b[0m \u001b[0mkats\u001b[0m\u001b[0;34m.\u001b[0m\u001b[0mmodels\u001b[0m\u001b[0;34m.\u001b[0m\u001b[0mmodel\u001b[0m \u001b[0;32mas\u001b[0m \u001b[0mm\u001b[0m\u001b[0;34m\u001b[0m\u001b[0;34m\u001b[0m\u001b[0m\n\u001b[1;32m     11\u001b[0m \u001b[0;32mimport\u001b[0m \u001b[0mpandas\u001b[0m \u001b[0;32mas\u001b[0m \u001b[0mpd\u001b[0m\u001b[0;34m\u001b[0m\u001b[0;34m\u001b[0m\u001b[0m\n\u001b[0;32m---> 12\u001b[0;31m \u001b[0;32mfrom\u001b[0m \u001b[0mfbprophet\u001b[0m \u001b[0;32mimport\u001b[0m \u001b[0mProphet\u001b[0m\u001b[0;34m\u001b[0m\u001b[0;34m\u001b[0m\u001b[0m\n\u001b[0m\u001b[1;32m     13\u001b[0m \u001b[0;32mfrom\u001b[0m \u001b[0mkats\u001b[0m\u001b[0;34m.\u001b[0m\u001b[0mconsts\u001b[0m \u001b[0;32mimport\u001b[0m \u001b[0mParams\u001b[0m\u001b[0;34m,\u001b[0m \u001b[0mTimeSeriesData\u001b[0m\u001b[0;34m\u001b[0m\u001b[0;34m\u001b[0m\u001b[0m\n\u001b[1;32m     14\u001b[0m from kats.utils.parameter_tuning_utils import (\n",
      "\u001b[0;31mModuleNotFoundError\u001b[0m: No module named 'fbprophet'"
     ]
    }
   ],
   "source": [
    "# import the param and model classes for Prophet model\n",
    "from kats.models.prophet import ProphetModel, ProphetParams\n",
    "\n",
    "# create a model param instance\n",
    "params = ProphetParams(seasonality_mode='multiplicative') # additive mode gives worse results\n",
    "\n",
    "# create a prophet model instance\n",
    "m = ProphetModel(air_passengers_ts, params)\n",
    "\n",
    "# fit model simply by calling m.fit()\n",
    "m.fit()\n",
    "\n",
    "# make prediction for next 30 month\n",
    "fcst = m.predict(steps=30, freq=\"MS\")"
   ]
  },
  {
   "cell_type": "code",
   "execution_count": null,
   "metadata": {},
   "outputs": [],
   "source": [
    "# the predict method returns a dataframe as follows\n",
    "fcst.head()"
   ]
  },
  {
   "cell_type": "code",
   "execution_count": null,
   "metadata": {},
   "outputs": [],
   "source": [
    "# visualize the results with uncertainty intervals\n",
    "m.plot()"
   ]
  },
  {
   "cell_type": "markdown",
   "metadata": {},
   "source": [
    "## 2.2 An example with Theta model\n",
    "\n",
    "The theta method of Assimakopoulos and Nikolopoulos (2000) is a univariate forecasting method that decomposes the original timeseries into two different Theta-lines (the `Theta=0` (straight line) and `Theta=2` (double local curves)) and generates forecasts by extrapolating them individually and combining the results. Hyndman and Billah (2003) demonstrated that this is equivalent to simple exponential smoothing with drift. Prediction intervals are calculated using this underlying model.\n",
    "\n",
    "The timeseries is tested for seasonality using the test outlined in Assimakopoulos and Nikolopoulos (2000). If deemed seasonal, the series is seasonally adjusted using a classical multiplicative decomposition before applying the theta method. The resulting forecasts are then reseasonalized.\n",
    "\n",
    "This implementation in Kats is similar to the thetaf function in R."
   ]
  },
  {
   "cell_type": "code",
   "execution_count": null,
   "metadata": {},
   "outputs": [],
   "source": [
    "# import param and model from `kats.models.theta`\n",
    "from kats.models.theta import ThetaModel, ThetaParams\n",
    "\n",
    "# create ThetaParam with specifying seasonality param value\n",
    "params = ThetaParams(m=12)\n",
    "\n",
    "# create ThetaModel with given data and parameter class\n",
    "m = ThetaModel(data=air_passengers_ts, params=params)\n",
    "\n",
    "# call fit method to fit model\n",
    "m.fit()\n",
    "\n",
    "# call predict method to predict the next 15 steps\n",
    "res = m.predict(steps=30, alpha=0.2)\n",
    "\n",
    "# visualize the results\n",
    "m.plot()"
   ]
  },
  {
   "cell_type": "markdown",
   "metadata": {},
   "source": [
    "# 3. Detection with Kats\n",
    "\n",
    "Detection is another fundamental domain in Kats, where we provided a set of models and algorithms to detect certain patterns in time series data, such as outliers/anomalies, change point (regressions), slow trend changes, etc.\n",
    "\n",
    "## 3.1 What are the algorithms?\n",
    "\n",
    "To detect a specific pattern, we provided different algorithms, which is summarized as follows.\n",
    "- **Outlier**. This usually refers to a abnormal spike in a time series data, which can be detected with `OutlierDetector`\n",
    "- **Change point (regression)**. This refers to a sudden change that the time series have different statistical properties before and after the change. We provided three major algorithms to detect such patterns:\n",
    "    - CUSUM\n",
    "    - Bayesian Online Change Point Detection (BOCPD)\n",
    "    - Stat-sig\n",
    "- **Trend change**. This refers to a slow trend change on the time series data, which can be detected with Mann-Kendall detection algorithm, `MKDetector`\n",
    "\n",
    "In this tutorial, we will demonstrate the usage of two detectors: `OutlierDetector` and `CUSUM`, we will have a in-depth tutorial for all detection algorithms in Kats 20x series\n",
    "\n"
   ]
  },
  {
   "cell_type": "markdown",
   "metadata": {},
   "source": [
    "## 3.2 An example with outlier detection method\n",
    "\n",
    "Outliers in Time Series can cause a lot of issues in downstream processing. Therefore removing outliers is important in any time series analysis. In Kats we have implemented an outlier detection algorithm with following steps:\n",
    "\n",
    "- We do a time series decomposition of the input time series with additive or multiplicative decomposition as specified\n",
    "- We generate a residual time series by either removing only trend or both trend and seasonality based on the strength of the seasonality in the time series.\n",
    "- We detect points in the residual which are outside 3 times the inter quartile range. We can tune the outlier detection to incorporate less or more outliers by tuning this parameter"
   ]
  },
  {
   "cell_type": "code",
   "execution_count": null,
   "metadata": {},
   "outputs": [],
   "source": [
    "# deep copy the air_passenger_df \n",
    "air_passengers_outlier_df = air_passengers_df.copy(deep=True)\n",
    "\n",
    "# manually add outlier on the date of '1950-12-01'\n",
    "air_passengers_outlier_df.loc[air_passengers_outlier_df.time == '1950-12-01','value']*=5\n",
    "# manually add outlier on the date of '1959-12-01'\n",
    "air_passengers_outlier_df.loc[air_passengers_outlier_df.time == '1959-12-01', 'value']*=4"
   ]
  },
  {
   "cell_type": "code",
   "execution_count": null,
   "metadata": {},
   "outputs": [],
   "source": [
    "# visualize the raw data\n",
    "air_passengers_outlier_df.plot(x='time', y='value', figsize=(15,8))"
   ]
  },
  {
   "cell_type": "code",
   "execution_count": null,
   "metadata": {},
   "outputs": [],
   "source": [
    "# transform the outlier data into `TimeSeriesData` Object\n",
    "air_passengers_outlier_ts = TimeSeriesData(air_passengers_outlier_df)"
   ]
  },
  {
   "cell_type": "code",
   "execution_count": null,
   "metadata": {},
   "outputs": [],
   "source": [
    "from kats.detectors.outlier import OutlierDetector\n",
    "\n",
    "ts_outlierDetection = OutlierDetector(air_passengers_outlier_ts, 'additive') # call OutlierDetector\n",
    "ts_outlierDetection.detector() # apply OutlierDetector"
   ]
  },
  {
   "cell_type": "markdown",
   "metadata": {},
   "source": [
    "we can now take a look at the outliers that the algorithum has found"
   ]
  },
  {
   "cell_type": "code",
   "execution_count": null,
   "metadata": {},
   "outputs": [],
   "source": [
    "ts_outlierDetection.outliers[0]"
   ]
  },
  {
   "cell_type": "markdown",
   "metadata": {},
   "source": [
    "After detecting the outlier, we can now easily removal them from the data. Here we will explore two options: \n",
    "- **No Interpolation**: outlier data points will be replaced with **NaN** values\n",
    "- **With Interpolation**: outlier data points will be replaced with **linear interploation** values"
   ]
  },
  {
   "cell_type": "code",
   "execution_count": null,
   "metadata": {},
   "outputs": [],
   "source": [
    "air_passengers_ts_outliers_removed = ts_outlierDetection.remover(interpolate = False) # No interpolation\n",
    "air_passengers_ts_outliers_interpolated = ts_outlierDetection.remover(interpolate = True) # With interpolation"
   ]
  },
  {
   "cell_type": "markdown",
   "metadata": {},
   "source": [
    "It is also convenient to compare the difference between the two options with visualization."
   ]
  },
  {
   "cell_type": "code",
   "execution_count": null,
   "metadata": {},
   "outputs": [],
   "source": [
    "fig, ax = plt.subplots(figsize=(20,8), nrows=1, ncols=2)\n",
    "\n",
    "air_passengers_ts_outliers_removed.to_dataframe().plot(x = 'time',y = 'y_0', ax= ax[0])\n",
    "ax[0].set_title(\"Outliers Removed : No interpolation\")\n",
    "air_passengers_ts_outliers_interpolated.to_dataframe().plot(x = 'time',y = 'y_0', ax= ax[1])\n",
    "ax[1].set_title(\"Outliers Removed : With interpolation\")"
   ]
  },
  {
   "cell_type": "markdown",
   "metadata": {},
   "source": [
    "## 3.3 An example with CUSUM algorithm\n",
    "\n",
    "Cusum is a method to detect an up/down shift of means in a time series. In Kats implementation, it has two main components:\n",
    "\n",
    "- Locate the change point: The algorithm iteratively estimates the means before and after the change point and finds the change point maximizing/minimizing the cusum value until the change point has converged. The starting point for the change point is at the middle.\n",
    "- Hypothesis testing: Conducting log likelihood ratio test where the null hypothesis has no change point with one mean and the alternative hypothesis has a change point with two means.\n",
    "\n",
    "And here are a few things worth mentioning:\n",
    "- We assume there is only one increase/decrease change point;\n",
    "- We use Gaussian distribution as the underlying model to calculate the cusum value and conduct the hypothesis test;"
   ]
  },
  {
   "cell_type": "code",
   "execution_count": null,
   "metadata": {},
   "outputs": [],
   "source": [
    "# import packages\n",
    "from kats.consts import TimeSeriesData, TimeSeriesIterator\n",
    "from kats.detectors.cusum_detection import CUSUMDetector\n",
    "\n",
    "# synthesize data with simulation\n",
    "np.random.seed(10)\n",
    "df = pd.DataFrame(\n",
    "    {\n",
    "        'time': pd.date_range('2019-01-01', '2019-03-01'),\n",
    "        'increase':np.concatenate([np.random.normal(1,0.2,30), np.random.normal(2,0.2,30)]),\n",
    "        'decrease':np.concatenate([np.random.normal(1,0.3,50), np.random.normal(0.5,0.3,10)]),\n",
    "    }\n",
    ")"
   ]
  },
  {
   "cell_type": "code",
   "execution_count": null,
   "metadata": {},
   "outputs": [],
   "source": [
    "# detect increase\n",
    "timeseries = TimeSeriesData(\n",
    "    df.loc[:,['time','increase']]\n",
    ")\n",
    "detector = CUSUMDetector(timeseries)\n",
    "\n",
    "# run detector\n",
    "change_points = detector.detector(change_directions=[\"increase\"])\n",
    "\n",
    "# plot the results\n",
    "detector.plot(change_points)"
   ]
  },
  {
   "cell_type": "code",
   "execution_count": null,
   "metadata": {},
   "outputs": [],
   "source": [
    "# detect decrease\n",
    "timeseries = TimeSeriesData(\n",
    "    df.loc[:,['time','decrease']]\n",
    ")\n",
    "detector = CUSUMDetector(timeseries)\n",
    "\n",
    "# run detector\n",
    "change_points = detector.detector(change_directions=[\"decrease\"])\n",
    "\n",
    "# plot the results\n",
    "detector.plot(change_points)"
   ]
  },
  {
   "cell_type": "markdown",
   "metadata": {},
   "source": [
    "# 4. Feature Extraction with Kats\n",
    "\n",
    "In time series analysis, there is often the need for characterizing a time series using a set of meaningful features. Example features include strength of seasonality, strength of trend, spikiness, amount of level shift, presence of flat segments, ACF/PACF based features, linearity, Hurst exponent, ARCH statistic, etc. The features are usually used for identifying similar/outlying time series from a large number of samples. They also play a crucial role in many downstream projects, including \n",
    "- (1). “Meta-learning”, i.e., choosing the best forecasting model based on characteristics of the input time series \n",
    "- (2). Time series classification and clustering analysis\n",
    "- (3). Nowcasting algorithms for better short-term forecasting\n",
    "\n",
    "TSFeatures is the module in Kats which computes such features. A similar package is openly available in R (https://pkg.robjhyndman.com/tsfeatures/index.html). Our implementation follows the feature definitions in the R package.\n",
    "\n",
    "Now we will use `air passenger` data set for demo."
   ]
  },
  {
   "cell_type": "code",
   "execution_count": null,
   "metadata": {},
   "outputs": [],
   "source": [
    "# Initiate feature extraction class\n",
    "from kats.tsfeatures.tsfeatures import TsFeatures\n",
    "tsFeatures = TsFeatures()"
   ]
  },
  {
   "cell_type": "code",
   "execution_count": null,
   "metadata": {},
   "outputs": [],
   "source": [
    "features_air_passengers = TsFeatures().transform(air_passengers_ts)"
   ]
  },
  {
   "cell_type": "code",
   "execution_count": null,
   "metadata": {},
   "outputs": [],
   "source": [
    "# features_air_passengers\n",
    "features_air_passengers"
   ]
  },
  {
   "cell_type": "markdown",
   "metadata": {},
   "source": [
    "# 5. Summary\n",
    "\n",
    "in this tutorial, we have shown the basic operations of **Kats** in time series application, including basic data structure, forecasting, detection, feature extraction, and utilities. \n",
    "\n",
    "If you want to explore more functions of **Kats**, you can check out Kats 20x tutorials:\n",
    "\n",
    "- [Kats 201 Detection algorithms in Kats]\n",
    "- [Kats 202 Forecasting with Kats]\n",
    "- [Kats 203 How to tune params with Kats?]\n",
    "- [Kats 204 Meta-learning for model selection and param tuning]"
   ]
  },
  {
   "cell_type": "code",
   "execution_count": null,
   "metadata": {},
   "outputs": [],
   "source": []
  }
 ],
 "metadata": {
  "kernelspec": {
   "display_name": "Python 3",
   "language": "python",
   "name": "python3"
  },
  "language_info": {
   "codemirror_mode": {
    "name": "ipython",
    "version": 3
   },
   "file_extension": ".py",
   "mimetype": "text/x-python",
   "name": "python",
   "nbconvert_exporter": "python",
   "pygments_lexer": "ipython3",
   "version": "3.7.10"
  },
  "metadata": {
   "interpreter": {
    "hash": "5b6e8fba36db23bc4d54e0302cd75fdd75c29d9edcbab68d6cfc74e7e4b30305"
   }
  }
 },
 "nbformat": 4,
 "nbformat_minor": 2
}
