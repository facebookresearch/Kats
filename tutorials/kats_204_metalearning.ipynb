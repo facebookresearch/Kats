{
 "cells": [
  {
   "cell_type": "markdown",
   "metadata": {},
   "source": [
    "# Kats 204 Forecasting with Meta Learning\n"
   ]
  },
  {
   "cell_type": "markdown",
   "metadata": {},
   "source": [
    "Suppose we have a time series and we are looking to build the best possible forecast (with respect to a predefined error metric such as mean absolute error) from the following list of candidate models (and possibly other forecasting models in Kats too):\n",
    "* ARIMA\n",
    "* SARIMA\n",
    "* Holt-Winters\n",
    "* Prophet\n",
    "* Theta\n",
    "* STLF\n",
    "\n",
    "\n",
    "\n",
    "For a single time series, it is straightforward to to do hyperparameter tuning for each of the candidate models with this time series, calculate the error metric, and choose the model that minimizes the error metric.  We have discussed this methodology in detail in Kats 201.  Our basic metadata object, `GetMetaData`, which we will introduce below, also does this calculation to find the best forecasting model for a single time series.\n",
    "\n",
    "However, when we are working with a large number of time series, repeating this process quickly becomes intractable, and for that, we include a meta-learning framework for forecasting.  There are two key model classes, plus one optional one, in our meta-learning framework:\n",
    "\n",
    "1. `MetaLearnModelSelect`: Given the metadata for a time series, predict the best model family (from the candidate models of interest) to forecast the series.  This model is a random forest by default.\n",
    "2. `MetaLearnHPT`: Given a time series and a model type, predict the best parameters for this model.  This model is a neutral network.  \n",
    "3. `MetaLearnPredictability` (optional): Given the metadata for a time series, predict if it is \"predictable\", i.e. if it is possible to forecast with a threshold error.  This model is a random forest by default.\n",
    "\n",
    "For each of these models, you can use labeled training data to build a model or you load a pre-trained model from a file path.  \n",
    "\n",
    "We use the `GetMetaData` object to represent the metadata for a time series in `MetaLearnModelSelect` and `MetaLearnPredictability`.  This tutorial begins with an introduction to the `GetMetaData` object.  Since this object is heavily dependent on `TsFeatures`, if you are not familiar `TsFeatures`, you should check out Kats 203 prior to continuing with this tutorial.  \n",
    "\n",
    "Next we will use labeled time series data from the `m3_meta_data.csv` file to show how to use the `MetaLearnPredictability`, `MetaLearnModelSelect` and `MetaLearnPredictability`.  \n",
    "\n",
    "\n",
    "The sample data in `m3_meta_data.csv` is very small, with 78 labeled examples, so the examples we provide here will not be highly accurate, but they will show you the proper workflow for using the meta-learning framework for forecasting in Kats.\n",
    "\n",
    "\n",
    "The full table of contents for Kats 204 is as follows:\n",
    "1. Introduction to `GetMetaData`\n",
    "2. Determining Predictability with `MetaLearnPredictability`\n",
    "3. Model Selection with `MetaLearnModelSelect`       \n",
    "4. Hyperparameter Tuning with `MetaLearnHPT`              \n",
    "    4.1. Initializing `MetaLearnHPT`             \n",
    "    4.2. `MetaLearnHPT` with Default Neural Network Model Structure      \n",
    "    4.3. `MetaLearnHPT` with Custom Neural Network Model Structure\n"
   ]
  },
  {
   "cell_type": "markdown",
   "metadata": {},
   "source": [
    "## 1. Introduction to `GetMetaData`\n",
    "\n",
    "The `GetMetaData` class generates the metadata for any time series.  There are three key components to the the metadata for a time series:\n",
    "1. `features`: the `TsFeatures` dictionary for the time series\n",
    "2. `hpt_res`: a dictionary giving the best hyperparameters for each candidate model and the corresponding error metric for the time series \n",
    "3. `best_model`: the name of the model with the smallest error metric\n",
    "\n",
    "The default error metric is mean absolute error (mae) but this can be controlled with the `error_method` argument in `GetMetaData`.  \n",
    "\n",
    "The list of candidate models that we consider is controlled by the `all_models` argument in `GetMetaData`, which is a dictionary with string names of the candidate models as keys and corresponding model classes as value.\n",
    "\n",
    "with keys equal to the string names of the models as keys  and values equal to the corresponding model class.  The keys in `hpt_res` and the value of `best_model` come from the keys of the `all_models` dictionary.  The default value of `all_models` will include the following six models.\n",
    "\n",
    "1. ARIMA\n",
    "2. SARIMA\n",
    "3. Holt-Winters\n",
    "4. Prophet`\n",
    "5. Theta\n",
    "6. STLF"
   ]
  },
  {
   "cell_type": "markdown",
   "metadata": {},
   "source": [
    "Our first example uses the `air_passengers` data set.  We show how to get the metadata for this time series.  We start by loading the time series into a `TimeSeriesData` object."
   ]
  },
  {
   "cell_type": "code",
   "execution_count": 1,
   "metadata": {},
   "outputs": [],
   "source": [
    "import pandas as pd\n",
    "import numpy as np\n",
    "import sys\n",
    "import matplotlib.pyplot as plt\n",
    "import warnings\n",
    "\n",
    "warnings.simplefilter(action='ignore')\n",
    "sys.path.append(\"../\")\n",
    "\n",
    "from kats.consts import TimeSeriesData\n",
    "air_passengers_df = pd.read_csv(\"../kats/data/air_passengers.csv\")\n",
    "\n",
    "air_passengers_df.columns = [\"time\", \"value\"]\n",
    "air_passengers_ts = TimeSeriesData(air_passengers_df)"
   ]
  },
  {
   "cell_type": "markdown",
   "metadata": {},
   "source": [
    "Now we can construct the `GetMetaData` object for the `air_passengers` data set time series like follows.  We use all of the default settings except that we use mean absolute percentage error (mape) as our error metric rather than the default of mean absolute error (mae) "
   ]
  },
  {
   "cell_type": "code",
   "execution_count": 2,
   "metadata": {},
   "outputs": [],
   "source": [
    "from kats.models.metalearner.get_metadata import GetMetaData\n",
    "\n",
    "# create an object MD of class GetMetaData with error method mean absolute percentage error (mape)\n",
    "MD = GetMetaData(data=air_passengers_ts, error_method='mape')"
   ]
  },
  {
   "cell_type": "markdown",
   "metadata": {},
   "source": [
    "Let's take a look at the `all_models` dictionary that is used by default here.  You are allowed to specify your own `all_models` dictionary as long as all the values are classes that extends the abstract class `kats.models.Model`."
   ]
  },
  {
   "cell_type": "code",
   "execution_count": 3,
   "metadata": {},
   "outputs": [
    {
     "data": {
      "text/plain": [
       "{'arima': kats.models.arima.ARIMAModel,\n",
       " 'holtwinters': kats.models.holtwinters.HoltWintersModel,\n",
       " 'prophet': kats.models.prophet.ProphetModel,\n",
       " 'theta': kats.models.theta.ThetaModel,\n",
       " 'stlf': kats.models.stlf.STLFModel,\n",
       " 'sarima': kats.models.sarima.SARIMAModel}"
      ]
     },
     "execution_count": 3,
     "metadata": {},
     "output_type": "execute_result"
    }
   ],
   "source": [
    "MD.all_models"
   ]
  },
  {
   "cell_type": "markdown",
   "metadata": {},
   "source": [
    "The `all_params` dictionary will have the same keys as the `all_models` dictionary, and the values are the corresponding parameter class (i.e. a class that extends the class `kats.const.Params`)"
   ]
  },
  {
   "cell_type": "code",
   "execution_count": 4,
   "metadata": {},
   "outputs": [
    {
     "data": {
      "text/plain": [
       "{'arima': kats.models.arima.ARIMAParams,\n",
       " 'holtwinters': kats.models.holtwinters.HoltWintersParams,\n",
       " 'prophet': kats.models.prophet.ProphetParams,\n",
       " 'theta': kats.models.theta.ThetaParams,\n",
       " 'stlf': kats.models.stlf.STLFParams,\n",
       " 'sarima': kats.models.sarima.SARIMAParams}"
      ]
     },
     "execution_count": 4,
     "metadata": {},
     "output_type": "execute_result"
    }
   ],
   "source": [
    "MD.all_params"
   ]
  },
  {
   "cell_type": "markdown",
   "metadata": {},
   "source": [
    "Now we can use the `get_meta_data` function to calculate all the metadata and output the result as a dictionary."
   ]
  },
  {
   "cell_type": "code",
   "execution_count": 5,
   "metadata": {},
   "outputs": [
    {
     "name": "stderr",
     "output_type": "stream",
     "text": [
      "WARNING:root:Feature vector contains NAN, features are {'length': 144, 'mean': 0.45064085387638453, 'var': 0.03694123647244219, 'entropy': 0.4287365561752448, 'lumpiness': 2.0317879601323604e-05, 'stability': 0.03180185085604344, 'flat_spots': 2, 'hurst': -0.08023291030513345, 'std1st_der': 0.043740012626144645, 'crossing_points': 7, 'binarize_mean': 0.4444444444444444, 'unitroot_kpss': 0.1284750818014943, 'heterogeneity': 126.06450625819339, 'histogram_mode': 0.2504823151125402, 'linearity': 0.8536381656031872, 'trend_strength': 0.9383301875692747, 'seasonality_strength': 0.3299338017939567, 'spikiness': 7.462446542148283e-10, 'peak': 6, 'trough': 3, 'level_shift_idx': 118, 'level_shift_size': 0.025080385852090048, 'y_acf1': 0.9480473407524915, 'y_acf5': 3.392072131604335, 'diff1y_acf1': 0.3028552581521692, 'diff1y_acf5': 0.25945910659994703, 'diff2y_acf1': -0.19100586757092758, 'diff2y_acf5': 0.13420736423784568, 'y_pacf5': 1.003288249401527, 'diff1y_pacf5': 0.21941234780081384, 'diff2y_pacf5': 0.26101034286994845, 'seas_acf1': 0.6629043863684491, 'seas_pacf1': 0.156169552555893, 'firstmin_ac': 8, 'firstzero_ac': 52, 'holt_alpha': 0.9999999850988388, 'holt_beta': nan, 'hw_alpha': 0.9999999850988388, 'hw_beta': nan, 'hw_gamma': nan}.\n",
      "/usr/local/lib/python3.7/site-packages/statsmodels/tsa/base/tsa_model.py:527: ValueWarning:\n",
      "\n",
      "No frequency information was provided, so inferred frequency MS will be used.\n",
      "\n",
      "/usr/local/lib/python3.7/site-packages/statsmodels/tsa/base/tsa_model.py:527: ValueWarning:\n",
      "\n",
      "No frequency information was provided, so inferred frequency MS will be used.\n",
      "\n",
      "/usr/local/lib/python3.7/site-packages/statsmodels/base/model.py:568: ConvergenceWarning:\n",
      "\n",
      "Maximum Likelihood optimization failed to converge. Check mle_retvals\n",
      "\n",
      "/usr/local/lib/python3.7/site-packages/statsmodels/base/model.py:568: ConvergenceWarning:\n",
      "\n",
      "Maximum Likelihood optimization failed to converge. Check mle_retvals\n",
      "\n",
      "/usr/local/lib/python3.7/site-packages/statsmodels/base/model.py:568: ConvergenceWarning:\n",
      "\n",
      "Maximum Likelihood optimization failed to converge. Check mle_retvals\n",
      "\n",
      "/usr/local/lib/python3.7/site-packages/statsmodels/base/model.py:568: ConvergenceWarning:\n",
      "\n",
      "Maximum Likelihood optimization failed to converge. Check mle_retvals\n",
      "\n",
      "/usr/local/lib/python3.7/site-packages/statsmodels/base/model.py:568: ConvergenceWarning:\n",
      "\n",
      "Maximum Likelihood optimization failed to converge. Check mle_retvals\n",
      "\n",
      "INFO:fbprophet:Disabling weekly seasonality. Run prophet with weekly_seasonality=True to override this.\n",
      "INFO:fbprophet:Disabling daily seasonality. Run prophet with daily_seasonality=True to override this.\n",
      "INFO:fbprophet:Disabling weekly seasonality. Run prophet with weekly_seasonality=True to override this.\n",
      "INFO:fbprophet:Disabling daily seasonality. Run prophet with daily_seasonality=True to override this.\n",
      "/usr/local/lib/python3.7/site-packages/statsmodels/base/model.py:568: ConvergenceWarning:\n",
      "\n",
      "Maximum Likelihood optimization failed to converge. Check mle_retvals\n",
      "\n",
      "INFO:fbprophet:Disabling weekly seasonality. Run prophet with weekly_seasonality=True to override this.\n",
      "INFO:fbprophet:Disabling daily seasonality. Run prophet with daily_seasonality=True to override this.\n",
      "/usr/local/lib/python3.7/site-packages/statsmodels/base/model.py:568: ConvergenceWarning:\n",
      "\n",
      "Maximum Likelihood optimization failed to converge. Check mle_retvals\n",
      "\n",
      "/usr/local/lib/python3.7/site-packages/statsmodels/base/model.py:568: ConvergenceWarning:\n",
      "\n",
      "Maximum Likelihood optimization failed to converge. Check mle_retvals\n",
      "\n",
      "/usr/local/lib/python3.7/site-packages/statsmodels/base/model.py:568: ConvergenceWarning:\n",
      "\n",
      "Maximum Likelihood optimization failed to converge. Check mle_retvals\n",
      "\n",
      "WARNING:fbprophet.models:Optimization terminated abnormally. Falling back to Newton.\n",
      "WARNING:fbprophet.models:Optimization terminated abnormally. Falling back to Newton.\n",
      "/usr/local/lib/python3.7/site-packages/statsmodels/base/model.py:548: HessianInversionWarning:\n",
      "\n",
      "Inverting hessian failed, no bse or cov_params available\n",
      "\n",
      "/usr/local/lib/python3.7/site-packages/statsmodels/tsa/base/tsa_model.py:527: ValueWarning:\n",
      "\n",
      "No frequency information was provided, so inferred frequency MS will be used.\n",
      "\n",
      "/usr/local/lib/python3.7/site-packages/statsmodels/tsa/base/tsa_model.py:527: ValueWarning:\n",
      "\n",
      "No frequency information was provided, so inferred frequency MS will be used.\n",
      "\n",
      "/usr/local/lib/python3.7/site-packages/statsmodels/base/model.py:548: HessianInversionWarning:\n",
      "\n",
      "Inverting hessian failed, no bse or cov_params available\n",
      "\n",
      "/usr/local/lib/python3.7/site-packages/statsmodels/tsa/base/tsa_model.py:527: ValueWarning:\n",
      "\n",
      "No frequency information was provided, so inferred frequency MS will be used.\n",
      "\n",
      "/usr/local/lib/python3.7/site-packages/statsmodels/tsa/base/tsa_model.py:527: ValueWarning:\n",
      "\n",
      "No frequency information was provided, so inferred frequency MS will be used.\n",
      "\n",
      "/usr/local/lib/python3.7/site-packages/statsmodels/tsa/base/tsa_model.py:527: ValueWarning:\n",
      "\n",
      "No frequency information was provided, so inferred frequency MS will be used.\n",
      "\n",
      "/usr/local/lib/python3.7/site-packages/statsmodels/tsa/base/tsa_model.py:527: ValueWarning:\n",
      "\n",
      "No frequency information was provided, so inferred frequency MS will be used.\n",
      "\n",
      "/usr/local/lib/python3.7/site-packages/statsmodels/tsa/base/tsa_model.py:527: ValueWarning:\n",
      "\n",
      "No frequency information was provided, so inferred frequency MS will be used.\n",
      "\n",
      "/usr/local/lib/python3.7/site-packages/statsmodels/tsa/base/tsa_model.py:527: ValueWarning:\n",
      "\n",
      "No frequency information was provided, so inferred frequency MS will be used.\n",
      "\n",
      "/usr/local/lib/python3.7/site-packages/statsmodels/tsa/base/tsa_model.py:527: ValueWarning:\n",
      "\n",
      "No frequency information was provided, so inferred frequency MS will be used.\n",
      "\n",
      "/usr/local/lib/python3.7/site-packages/statsmodels/tsa/base/tsa_model.py:527: ValueWarning:\n",
      "\n",
      "No frequency information was provided, so inferred frequency MS will be used.\n",
      "\n",
      "/usr/local/lib/python3.7/site-packages/statsmodels/tsa/base/tsa_model.py:527: ValueWarning:\n",
      "\n",
      "No frequency information was provided, so inferred frequency MS will be used.\n",
      "\n",
      "/usr/local/lib/python3.7/site-packages/statsmodels/tsa/base/tsa_model.py:527: ValueWarning:\n",
      "\n",
      "No frequency information was provided, so inferred frequency MS will be used.\n",
      "\n",
      "/usr/local/lib/python3.7/site-packages/statsmodels/tsa/base/tsa_model.py:527: ValueWarning:\n",
      "\n",
      "No frequency information was provided, so inferred frequency MS will be used.\n",
      "\n",
      "/usr/local/lib/python3.7/site-packages/statsmodels/tsa/base/tsa_model.py:527: ValueWarning:\n",
      "\n",
      "No frequency information was provided, so inferred frequency MS will be used.\n",
      "\n",
      "/usr/local/lib/python3.7/site-packages/statsmodels/base/model.py:548: HessianInversionWarning:\n",
      "\n",
      "Inverting hessian failed, no bse or cov_params available\n",
      "\n",
      "/usr/local/lib/python3.7/site-packages/statsmodels/tsa/base/tsa_model.py:527: ValueWarning:\n",
      "\n",
      "No frequency information was provided, so inferred frequency MS will be used.\n",
      "\n",
      "/usr/local/lib/python3.7/site-packages/statsmodels/tsa/base/tsa_model.py:527: ValueWarning:\n",
      "\n",
      "No frequency information was provided, so inferred frequency MS will be used.\n",
      "\n",
      "/usr/local/lib/python3.7/site-packages/statsmodels/tsa/base/tsa_model.py:527: ValueWarning:\n",
      "\n",
      "No frequency information was provided, so inferred frequency MS will be used.\n",
      "\n",
      "/usr/local/lib/python3.7/site-packages/statsmodels/tsa/base/tsa_model.py:527: ValueWarning:\n",
      "\n",
      "No frequency information was provided, so inferred frequency MS will be used.\n",
      "\n",
      "/usr/local/lib/python3.7/site-packages/statsmodels/tsa/base/tsa_model.py:527: ValueWarning:\n",
      "\n",
      "No frequency information was provided, so inferred frequency MS will be used.\n",
      "\n",
      "/usr/local/lib/python3.7/site-packages/statsmodels/tsa/base/tsa_model.py:527: ValueWarning:\n",
      "\n",
      "No frequency information was provided, so inferred frequency MS will be used.\n",
      "\n",
      "/usr/local/lib/python3.7/site-packages/statsmodels/tsa/base/tsa_model.py:527: ValueWarning:\n",
      "\n",
      "No frequency information was provided, so inferred frequency MS will be used.\n",
      "\n",
      "/usr/local/lib/python3.7/site-packages/statsmodels/tsa/base/tsa_model.py:527: ValueWarning:\n",
      "\n",
      "No frequency information was provided, so inferred frequency MS will be used.\n",
      "\n",
      "/usr/local/lib/python3.7/site-packages/statsmodels/base/model.py:548: HessianInversionWarning:\n",
      "\n",
      "Inverting hessian failed, no bse or cov_params available\n",
      "\n",
      "/usr/local/lib/python3.7/site-packages/statsmodels/base/model.py:568: ConvergenceWarning:\n",
      "\n",
      "Maximum Likelihood optimization failed to converge. Check mle_retvals\n",
      "\n",
      "/usr/local/lib/python3.7/site-packages/statsmodels/tsa/base/tsa_model.py:527: ValueWarning:\n",
      "\n",
      "No frequency information was provided, so inferred frequency MS will be used.\n",
      "\n",
      "/usr/local/lib/python3.7/site-packages/statsmodels/tsa/base/tsa_model.py:527: ValueWarning:\n",
      "\n",
      "No frequency information was provided, so inferred frequency MS will be used.\n",
      "\n"
     ]
    },
    {
     "name": "stderr",
     "output_type": "stream",
     "text": [
      "/usr/local/lib/python3.7/site-packages/statsmodels/tsa/base/tsa_model.py:527: ValueWarning:\n",
      "\n",
      "No frequency information was provided, so inferred frequency MS will be used.\n",
      "\n",
      "/usr/local/lib/python3.7/site-packages/statsmodels/tsa/base/tsa_model.py:527: ValueWarning:\n",
      "\n",
      "No frequency information was provided, so inferred frequency MS will be used.\n",
      "\n",
      "/usr/local/lib/python3.7/site-packages/statsmodels/base/model.py:548: HessianInversionWarning:\n",
      "\n",
      "Inverting hessian failed, no bse or cov_params available\n",
      "\n",
      "/usr/local/lib/python3.7/site-packages/statsmodels/tsa/base/tsa_model.py:527: ValueWarning:\n",
      "\n",
      "No frequency information was provided, so inferred frequency MS will be used.\n",
      "\n",
      "/usr/local/lib/python3.7/site-packages/statsmodels/tsa/base/tsa_model.py:527: ValueWarning:\n",
      "\n",
      "No frequency information was provided, so inferred frequency MS will be used.\n",
      "\n",
      "/usr/local/lib/python3.7/site-packages/statsmodels/tsa/base/tsa_model.py:527: ValueWarning:\n",
      "\n",
      "No frequency information was provided, so inferred frequency MS will be used.\n",
      "\n",
      "/usr/local/lib/python3.7/site-packages/statsmodels/tsa/base/tsa_model.py:527: ValueWarning:\n",
      "\n",
      "No frequency information was provided, so inferred frequency MS will be used.\n",
      "\n",
      "/usr/local/lib/python3.7/site-packages/statsmodels/tsa/base/tsa_model.py:527: ValueWarning:\n",
      "\n",
      "No frequency information was provided, so inferred frequency MS will be used.\n",
      "\n",
      "/usr/local/lib/python3.7/site-packages/statsmodels/tsa/base/tsa_model.py:527: ValueWarning:\n",
      "\n",
      "No frequency information was provided, so inferred frequency MS will be used.\n",
      "\n",
      "/usr/local/lib/python3.7/site-packages/statsmodels/tsa/base/tsa_model.py:527: ValueWarning:\n",
      "\n",
      "No frequency information was provided, so inferred frequency MS will be used.\n",
      "\n",
      "/usr/local/lib/python3.7/site-packages/statsmodels/tsa/base/tsa_model.py:527: ValueWarning:\n",
      "\n",
      "No frequency information was provided, so inferred frequency MS will be used.\n",
      "\n",
      "/usr/local/lib/python3.7/site-packages/statsmodels/base/model.py:548: HessianInversionWarning:\n",
      "\n",
      "Inverting hessian failed, no bse or cov_params available\n",
      "\n",
      "/usr/local/lib/python3.7/site-packages/statsmodels/tsa/base/tsa_model.py:527: ValueWarning:\n",
      "\n",
      "No frequency information was provided, so inferred frequency MS will be used.\n",
      "\n",
      "/usr/local/lib/python3.7/site-packages/statsmodels/tsa/base/tsa_model.py:527: ValueWarning:\n",
      "\n",
      "No frequency information was provided, so inferred frequency MS will be used.\n",
      "\n",
      "/usr/local/lib/python3.7/site-packages/statsmodels/tsa/base/tsa_model.py:527: ValueWarning:\n",
      "\n",
      "No frequency information was provided, so inferred frequency MS will be used.\n",
      "\n",
      "/usr/local/lib/python3.7/site-packages/statsmodels/tsa/base/tsa_model.py:527: ValueWarning:\n",
      "\n",
      "No frequency information was provided, so inferred frequency MS will be used.\n",
      "\n",
      "/usr/local/lib/python3.7/site-packages/statsmodels/base/model.py:548: HessianInversionWarning:\n",
      "\n",
      "Inverting hessian failed, no bse or cov_params available\n",
      "\n"
     ]
    }
   ],
   "source": [
    "# get meta data as a dictionary\n",
    "air_passengers_metadata = MD.get_meta_data()"
   ]
  },
  {
   "cell_type": "markdown",
   "metadata": {},
   "source": [
    "Let's take a look at the keys of the metadata dictionary."
   ]
  },
  {
   "cell_type": "code",
   "execution_count": 6,
   "metadata": {},
   "outputs": [
    {
     "data": {
      "text/plain": [
       "dict_keys(['hpt_res', 'features', 'best_model', 'search_method', 'error_method'])"
      ]
     },
     "execution_count": 6,
     "metadata": {},
     "output_type": "execute_result"
    }
   ],
   "source": [
    "air_passengers_metadata.keys()"
   ]
  },
  {
   "cell_type": "markdown",
   "metadata": {},
   "source": [
    "We explained what `features`, `hpt_res` and `best_model` are above.  This dictionary also includes the `search_method` and `error_method`, which will just be the default values in this case.  We can see these as follows."
   ]
  },
  {
   "cell_type": "code",
   "execution_count": 7,
   "metadata": {},
   "outputs": [
    {
     "name": "stdout",
     "output_type": "stream",
     "text": [
      "search_method: RandomSearch\n",
      "error_method: mape\n"
     ]
    }
   ],
   "source": [
    "print(f\"search_method: {air_passengers_metadata['search_method']}\")\n",
    "print(f\"error_method: {air_passengers_metadata['error_method']}\")"
   ]
  },
  {
   "cell_type": "markdown",
   "metadata": {},
   "source": [
    "The keys of the `hpt_res` dictionary are name of the candidate model families; they should be the same as the keys for the `all_models` and `all_parameters` dictionaries. "
   ]
  },
  {
   "cell_type": "code",
   "execution_count": 8,
   "metadata": {},
   "outputs": [
    {
     "data": {
      "text/plain": [
       "dict_keys(['arima', 'holtwinters', 'prophet', 'theta', 'stlf', 'sarima'])"
      ]
     },
     "execution_count": 8,
     "metadata": {},
     "output_type": "execute_result"
    }
   ],
   "source": [
    "air_passengers_metadata['hpt_res'].keys()"
   ]
  },
  {
   "cell_type": "markdown",
   "metadata": {},
   "source": [
    "The values of the `hpt_res` dictionary are two-element tuples.  The first element is gives the hyperparameters that minimize the error metric.  The second element gives the corresponding minimum error metric.  Let's take a look at these values for ARIMA:"
   ]
  },
  {
   "cell_type": "code",
   "execution_count": 9,
   "metadata": {},
   "outputs": [
    {
     "data": {
      "text/plain": [
       "({'p': 4, 'd': 1, 'q': 1}, 0.10648723141588944)"
      ]
     },
     "execution_count": 9,
     "metadata": {},
     "output_type": "execute_result"
    }
   ],
   "source": [
    "air_passengers_metadata['hpt_res']['arima']"
   ]
  },
  {
   "cell_type": "markdown",
   "metadata": {},
   "source": [
    "We can sort the different methods by their error metric as follows:"
   ]
  },
  {
   "cell_type": "code",
   "execution_count": 10,
   "metadata": {},
   "outputs": [
    {
     "data": {
      "text/plain": [
       "['prophet', 'stlf', 'holtwinters', 'sarima', 'theta', 'arima']"
      ]
     },
     "execution_count": 10,
     "metadata": {},
     "output_type": "execute_result"
    }
   ],
   "source": [
    "methods = list(air_passengers_metadata['hpt_res'].keys())\n",
    "sorted(methods, key = lambda m: air_passengers_metadata['hpt_res'][m][1])"
   ]
  },
  {
   "cell_type": "markdown",
   "metadata": {},
   "source": [
    "This suggests that Prophet has the lowest error metric.  Let's confirm that this is what `best_model` indicates:"
   ]
  },
  {
   "cell_type": "code",
   "execution_count": 11,
   "metadata": {},
   "outputs": [
    {
     "data": {
      "text/plain": [
       "'prophet'"
      ]
     },
     "execution_count": 11,
     "metadata": {},
     "output_type": "execute_result"
    }
   ],
   "source": [
    "air_passengers_metadata['best_model']"
   ]
  },
  {
   "cell_type": "markdown",
   "metadata": {},
   "source": [
    "We constructed the `GetMetaData` object for the `air_passengers` data set with all of the default settings.  Let's take a look at the full set of attributes that can be used to initialize `GetMetadata`.\n",
    "\n",
    "This is the only required attributed: \n",
    "* **data**: TimeSeriesData, the time series for which we calculate the metadata\n",
    "\n",
    "The following attributes are all optional:\n",
    "* **all_models**: `Dict[str, m.Model]`, a dictionary for the candidate model classes.  The key is a string naming the model and each value is a corresponding model class (i.e. a class that extends the abstract class `kats.models.Model`).\n",
    "* **all_params**: `Dict[str, Params]`, a dictionary for the candidate model parameter classes.  The keys are the same as the keys for `all_models` and each value is a corresponding parameter class (i.e. a class that extends the class `kats.const.Params`).\n",
    "* **min_length**: int, the minimal length of time series. We raise a value error if the length of `data` is smaller than `min_length`.  The default value of `min_length` is 30.\n",
    "* **scale**: bool, Whether to rescale the time series by its maximum value; default is true.\n",
    "* **method**: SearchMethodEnum, Search method for hyper-parameters tuning; default is random search in the default parameter space\n",
    "* **executor**: Callable, A parallel executor for parallel processing.  By default, we use Python's native multiprocessing implementation.\n",
    "* **error_method**: str, Type of error metric.  Options are `'mape`', `'smape`',`'mae`', `'mase`', `'mse`', `'rmse`';  default is `'mae'`.\n",
    "* **num_trials**: int, Number of trials for hyperparameter search; default is 5\n",
    "* **num_arm**: optional Number of arms in hyperparameter search; default is 4."
   ]
  },
  {
   "cell_type": "markdown",
   "metadata": {},
   "source": [
    "For the remaining examples, we use the sample data in `m3_meta_data.csv` to show how to build meta-learning models.  This sample data set contains the metadata for 78 time series, meaning it has that we need to construct 78 metadata dictionaries like the one we constructed for the `air_passengers` data set.  While 78 metadata objects is certainly too few to develop an accurate meta-learning model and you should use more examples for your own meta-learning models to get high accuracy, these examples will help familiarize you with our meta-learning framework.\n",
    "\n",
    "Loading this data is straightforward is straightforward.  After loading it into a `DataFrame`, we have to do some pre-processing with the `eval` function to ensure that the dictionaries are represented as dictionaries and not as strings.  We demonstrate this as follows:"
   ]
  },
  {
   "cell_type": "code",
   "execution_count": 12,
   "metadata": {},
   "outputs": [],
   "source": [
    "# load the metadata into a DataFrame\n",
    "metadata_df = pd.read_csv(\"../kats/data/m3_meta_data.csv\")\n",
    "\n",
    "# We need to do a little pre-processing to make sure the dictionaries are represented as dictionaries\n",
    "# rather than as strings.  This function will do that pre-processing.\n",
    "def change_format(tmp):\n",
    "    tmp['hpt_res']=eval(tmp['hpt_res'])\n",
    "    tmp['hpt_res']['sarima'][0]['seasonal_order'] = eval(tmp['hpt_res']['sarima'][0]['seasonal_order'])\n",
    "    tmp['features']=eval(tmp['features'])\n",
    "    return tmp\n",
    "\n",
    "metadata_df = metadata_df.apply(change_format, axis=1)"
   ]
  },
  {
   "cell_type": "markdown",
   "metadata": {},
   "source": [
    "Let's preview the metadata `DataFrame` we just loaded."
   ]
  },
  {
   "cell_type": "code",
   "execution_count": 13,
   "metadata": {},
   "outputs": [
    {
     "data": {
      "text/html": [
       "<div>\n",
       "<style scoped>\n",
       "    .dataframe tbody tr th:only-of-type {\n",
       "        vertical-align: middle;\n",
       "    }\n",
       "\n",
       "    .dataframe tbody tr th {\n",
       "        vertical-align: top;\n",
       "    }\n",
       "\n",
       "    .dataframe thead th {\n",
       "        text-align: right;\n",
       "    }\n",
       "</style>\n",
       "<table border=\"1\" class=\"dataframe\">\n",
       "  <thead>\n",
       "    <tr style=\"text-align: right;\">\n",
       "      <th></th>\n",
       "      <th>hpt_res</th>\n",
       "      <th>features</th>\n",
       "      <th>best_model</th>\n",
       "      <th>search_method</th>\n",
       "      <th>error_method</th>\n",
       "      <th>idx</th>\n",
       "    </tr>\n",
       "  </thead>\n",
       "  <tbody>\n",
       "    <tr>\n",
       "      <th>0</th>\n",
       "      <td>{'arima': ({'p': 5, 'd': 2, 'q': 5}, 0.8932924...</td>\n",
       "      <td>{'length': 68, 'mean': 0.35392156862745106, 'v...</td>\n",
       "      <td>stlf</td>\n",
       "      <td>RandomSearch</td>\n",
       "      <td>mape</td>\n",
       "      <td>N1402</td>\n",
       "    </tr>\n",
       "    <tr>\n",
       "      <th>1</th>\n",
       "      <td>{'arima': ({'p': 5, 'd': 2, 'q': 1}, 0.3989958...</td>\n",
       "      <td>{'length': 68, 'mean': 0.19995256166982928, 'v...</td>\n",
       "      <td>arima</td>\n",
       "      <td>RandomSearch</td>\n",
       "      <td>mape</td>\n",
       "      <td>N1403</td>\n",
       "    </tr>\n",
       "    <tr>\n",
       "      <th>2</th>\n",
       "      <td>{'arima': ({'p': 1, 'd': 2, 'q': 3}, 0.2519500...</td>\n",
       "      <td>{'length': 68, 'mean': 0.48962530217566486, 'v...</td>\n",
       "      <td>holtwinters</td>\n",
       "      <td>RandomSearch</td>\n",
       "      <td>mape</td>\n",
       "      <td>N1404</td>\n",
       "    </tr>\n",
       "    <tr>\n",
       "      <th>3</th>\n",
       "      <td>{'arima': ({'p': 2, 'd': 1, 'q': 3}, 0.3146896...</td>\n",
       "      <td>{'length': 68, 'mean': 0.2980870396939263, 'va...</td>\n",
       "      <td>stlf</td>\n",
       "      <td>RandomSearch</td>\n",
       "      <td>mape</td>\n",
       "      <td>N1405</td>\n",
       "    </tr>\n",
       "    <tr>\n",
       "      <th>4</th>\n",
       "      <td>{'arima': ({'p': 3, 'd': 1, 'q': 1}, 0.1448053...</td>\n",
       "      <td>{'length': 68, 'mean': 0.5336050082683677, 'va...</td>\n",
       "      <td>arima</td>\n",
       "      <td>RandomSearch</td>\n",
       "      <td>mape</td>\n",
       "      <td>N1406</td>\n",
       "    </tr>\n",
       "  </tbody>\n",
       "</table>\n",
       "</div>"
      ],
      "text/plain": [
       "                                             hpt_res  \\\n",
       "0  {'arima': ({'p': 5, 'd': 2, 'q': 5}, 0.8932924...   \n",
       "1  {'arima': ({'p': 5, 'd': 2, 'q': 1}, 0.3989958...   \n",
       "2  {'arima': ({'p': 1, 'd': 2, 'q': 3}, 0.2519500...   \n",
       "3  {'arima': ({'p': 2, 'd': 1, 'q': 3}, 0.3146896...   \n",
       "4  {'arima': ({'p': 3, 'd': 1, 'q': 1}, 0.1448053...   \n",
       "\n",
       "                                            features   best_model  \\\n",
       "0  {'length': 68, 'mean': 0.35392156862745106, 'v...         stlf   \n",
       "1  {'length': 68, 'mean': 0.19995256166982928, 'v...        arima   \n",
       "2  {'length': 68, 'mean': 0.48962530217566486, 'v...  holtwinters   \n",
       "3  {'length': 68, 'mean': 0.2980870396939263, 'va...         stlf   \n",
       "4  {'length': 68, 'mean': 0.5336050082683677, 'va...        arima   \n",
       "\n",
       "  search_method error_method    idx  \n",
       "0  RandomSearch         mape  N1402  \n",
       "1  RandomSearch         mape  N1403  \n",
       "2  RandomSearch         mape  N1404  \n",
       "3  RandomSearch         mape  N1405  \n",
       "4  RandomSearch         mape  N1406  "
      ]
     },
     "execution_count": 13,
     "metadata": {},
     "output_type": "execute_result"
    }
   ],
   "source": [
    "metadata_df.head()"
   ]
  },
  {
   "cell_type": "markdown",
   "metadata": {},
   "source": [
    "Let's convert this metadata `DataFrame` into a list of metadata dictionaries."
   ]
  },
  {
   "cell_type": "code",
   "execution_count": 14,
   "metadata": {},
   "outputs": [],
   "source": [
    "metadata_list = metadata_df.to_dict(orient='records')"
   ]
  },
  {
   "cell_type": "markdown",
   "metadata": {},
   "source": [
    "## 2. Determining Predictability with `MetaLearnPredictability`"
   ]
  },
  {
   "cell_type": "markdown",
   "metadata": {},
   "source": [
    "Before using meta-learning models for model selection and hyper-parameter forecasting, we would like to know if our target time series is predictable.  The `MetaLearnPredictability` module allows us to treat this like a binary classification problem and build a model for it.  We train this model using a list of a metadata and a threshold for the error metric.  We use the threshold to label each metadata dictionary as predictable if and only if the error of it's `best_model` is smaller than the input threshold.  The arguments for `MetaLearnPredictability` are as follows:\n",
    "\n",
    "\n",
    "* **metadata**: A list of dictionaries representing the meta-data of time series (e.g., the meta-data generated by GetMetaData object).  Required unless `load_model=True`.\n",
    "\n",
    "* **threshold**: Float; the threshold for the forecasting error. A time series whose forecasting error of the best forecasting model is higher than the threshold is considered as unpredictable. Default is 0.2.\n",
    "\n",
    "* **load_model**: Boolean; whether or not to load a trained model. Default is False.\n",
    "\n",
    "\n",
    "If we want to train a new predictability model from a list of metadata dictionaries, we should include that list in the `metadata` argument.  If we want to load a trained model, we set `load_data=True` and do ignore the `metadata` argument.  We will provide examples of both below."
   ]
  },
  {
   "cell_type": "markdown",
   "metadata": {},
   "source": [
    "For our example, we are going to use the sample metadata from the `m3_meta_data.csv` file to train a predictability model with `MetaLearnPredictability`.  Then we will use this to predict whether or not `air_passenger` time series can be forecasted (with MAPE at most 0.2).\n",
    "\n",
    "We initialize model using the `metadata_list` we previously generated from `m3_meta_data.csv` as follows:"
   ]
  },
  {
   "cell_type": "code",
   "execution_count": 15,
   "metadata": {},
   "outputs": [],
   "source": [
    "from kats.models.metalearner.metalearner_predictability import MetaLearnPredictability\n",
    "\n",
    "# take the time series with MAPE>=0.2 as unpreditable time series and initial the object\n",
    "mlp=MetaLearnPredictability(metadata_list, threshold=0.2)"
   ]
  },
  {
   "cell_type": "markdown",
   "metadata": {},
   "source": [
    "When we train the model, we see a dictionary with performance metrics calculated on the test data set."
   ]
  },
  {
   "cell_type": "code",
   "execution_count": 16,
   "metadata": {},
   "outputs": [
    {
     "name": "stderr",
     "output_type": "stream",
     "text": [
      "WARNING:root:Fail to get a proper threshold for recall 0.7, use 0.5 as threshold instead. Exception message is: index 3 is out of bounds for axis 0 with size 3\n"
     ]
    },
    {
     "data": {
      "text/plain": [
       "{'accuracy': 0.8571428571428571,\n",
       " 'precision': 0.75,\n",
       " 'recall': 1.0,\n",
       " 'f1': 0.8571428571428571}"
      ]
     },
     "execution_count": 16,
     "metadata": {},
     "output_type": "execute_result"
    }
   ],
   "source": [
    "mlp.train()"
   ]
  },
  {
   "cell_type": "markdown",
   "metadata": {},
   "source": [
    "Now we can use this model to predict if the `air_passenger` time series is predictable."
   ]
  },
  {
   "cell_type": "code",
   "execution_count": 17,
   "metadata": {},
   "outputs": [
    {
     "name": "stderr",
     "output_type": "stream",
     "text": [
      "WARNING:root:Features of ts contain NaN, please consider preprocessing ts. Features are: {'length': 144, 'mean': 0.45064085387638453, 'var': 0.03694123647244219, 'entropy': 0.4287365561752448, 'lumpiness': 2.0317879601323604e-05, 'stability': 0.03180185085604344, 'flat_spots': 2, 'hurst': -0.08023291030513345, 'std1st_der': 0.043740012626144645, 'crossing_points': 7, 'binarize_mean': 0.4444444444444444, 'unitroot_kpss': 0.1284750818014943, 'heterogeneity': 126.06450625819339, 'histogram_mode': 0.2504823151125402, 'linearity': 0.8536381656031872, 'trend_strength': 0.9383301875692747, 'seasonality_strength': 0.3299338017939567, 'spikiness': 7.462446542148283e-10, 'peak': 6, 'trough': 3, 'level_shift_idx': 118, 'level_shift_size': 0.025080385852090048, 'y_acf1': 0.9480473407524915, 'y_acf5': 3.392072131604335, 'diff1y_acf1': 0.3028552581521692, 'diff1y_acf5': 0.25945910659994703, 'diff2y_acf1': -0.19100586757092758, 'diff2y_acf5': 0.13420736423784568, 'y_pacf5': 1.003288249401527, 'diff1y_pacf5': 0.21941234780081384, 'diff2y_pacf5': 0.26101034286994845, 'seas_acf1': 0.6629043863684491, 'seas_pacf1': 0.156169552555893, 'firstmin_ac': 8, 'firstzero_ac': 52, 'holt_alpha': 0.9999999850988388, 'holt_beta': nan, 'hw_alpha': 0.9999999850988388, 'hw_beta': nan, 'hw_gamma': nan}. Fill in NaNs with 0.\n"
     ]
    },
    {
     "data": {
      "text/plain": [
       "1"
      ]
     },
     "execution_count": 17,
     "metadata": {},
     "output_type": "execute_result"
    }
   ],
   "source": [
    "mlp.pred(air_passengers_ts) "
   ]
  },
  {
   "cell_type": "markdown",
   "metadata": {},
   "source": [
    "Our prediction is that this model can be forecast with MAPE at most 0.2."
   ]
  },
  {
   "cell_type": "markdown",
   "metadata": {},
   "source": [
    "Let's save the model we trained to a file."
   ]
  },
  {
   "cell_type": "code",
   "execution_count": 18,
   "metadata": {},
   "outputs": [],
   "source": [
    "mlp.save_model(\"mlp.pkl\")"
   ]
  },
  {
   "cell_type": "markdown",
   "metadata": {},
   "source": [
    "Now let's re-load our saved model into a new `MetaLearnPredictability` object."
   ]
  },
  {
   "cell_type": "code",
   "execution_count": 19,
   "metadata": {},
   "outputs": [],
   "source": [
    "#initiate a new object and load the trained model\n",
    "mlp2 = MetaLearnPredictability(load_model=True)\n",
    "mlp2.load_model(\"mlp.pkl\")"
   ]
  },
  {
   "cell_type": "markdown",
   "metadata": {},
   "source": [
    "Finally, let's use our newly loaded model to repeat the prediction we did on the `air_passenger` data set."
   ]
  },
  {
   "cell_type": "code",
   "execution_count": 20,
   "metadata": {},
   "outputs": [
    {
     "name": "stderr",
     "output_type": "stream",
     "text": [
      "WARNING:root:Features of ts contain NaN, please consider preprocessing ts. Features are: {'length': 144, 'mean': 0.45064085387638453, 'var': 0.03694123647244219, 'entropy': 0.4287365561752448, 'lumpiness': 2.0317879601323604e-05, 'stability': 0.03180185085604344, 'flat_spots': 2, 'hurst': -0.08023291030513345, 'std1st_der': 0.043740012626144645, 'crossing_points': 7, 'binarize_mean': 0.4444444444444444, 'unitroot_kpss': 0.1284750818014943, 'heterogeneity': 126.06450625819339, 'histogram_mode': 0.2504823151125402, 'linearity': 0.8536381656031872, 'trend_strength': 0.9383301875692747, 'seasonality_strength': 0.3299338017939567, 'spikiness': 7.462446542148283e-10, 'peak': 6, 'trough': 3, 'level_shift_idx': 118, 'level_shift_size': 0.025080385852090048, 'y_acf1': 0.9480473407524915, 'y_acf5': 3.392072131604335, 'diff1y_acf1': 0.3028552581521692, 'diff1y_acf5': 0.25945910659994703, 'diff2y_acf1': -0.19100586757092758, 'diff2y_acf5': 0.13420736423784568, 'y_pacf5': 1.003288249401527, 'diff1y_pacf5': 0.21941234780081384, 'diff2y_pacf5': 0.26101034286994845, 'seas_acf1': 0.6629043863684491, 'seas_pacf1': 0.156169552555893, 'firstmin_ac': 8, 'firstzero_ac': 52, 'holt_alpha': 0.9999999850988388, 'holt_beta': nan, 'hw_alpha': 0.9999999850988388, 'hw_beta': nan, 'hw_gamma': nan}. Fill in NaNs with 0.\n"
     ]
    },
    {
     "data": {
      "text/plain": [
       "1"
      ]
     },
     "execution_count": 20,
     "metadata": {},
     "output_type": "execute_result"
    }
   ],
   "source": [
    "mlp2.pred(air_passengers_ts) "
   ]
  },
  {
   "cell_type": "markdown",
   "metadata": {},
   "source": [
    "## 3. **Model Selection with `MetaLearnModelSelect`**\n",
    "\n",
    "The `MetaLearnModelSelect` object allows you to build a predictive model to determine the best forecasting model for a time series.  It is trained using a list of metadata dictionaries.  The arguments for `MetaLearnModelSelect` are as follows:\n",
    "\n",
    "* **metadata**: A list of dictionaries representing the meta-data of time series (e.g., the meta-data generated by GetMetaData object).  Required unless `load_model=True`.\n",
    "\n",
    "* **load_model**: Boolean; whether or not to load a trained model. Default is False.\n",
    "\n",
    "If we want to train a new predictability model from a list of metadata dictionaries, we should include that list in the `metadata` argument.  If we want to load a trained model, we set `load_data=True` and do ignore the `metadata` argument.  We will provide examples of both below."
   ]
  },
  {
   "cell_type": "markdown",
   "metadata": {},
   "source": [
    "For our example, we are going to use the sample metadata from the `m3_meta_data.csv` file to train a selection model with `MetaLearnModelSelect`.  Then we will use this to predict the best forecasting model for the `air_passenger` time series.\n",
    "\n",
    "We initialize model using the `metadata_list` we previously generated from `m3_meta_data.csv` as follows:"
   ]
  },
  {
   "cell_type": "code",
   "execution_count": 21,
   "metadata": {},
   "outputs": [],
   "source": [
    "from kats.models.metalearner.metalearner_modelselect import MetaLearnModelSelect\n",
    "\n",
    "#Initialize the MetaLearnModelSelect object\n",
    "mlms = MetaLearnModelSelect(metadata_list)"
   ]
  },
  {
   "cell_type": "markdown",
   "metadata": {},
   "source": [
    "Each metadata dictionary includes a `best_model`, and we can take a look at the frquencies of these models using the `count_category` function."
   ]
  },
  {
   "cell_type": "code",
   "execution_count": 22,
   "metadata": {},
   "outputs": [
    {
     "data": {
      "text/plain": [
       "Counter({'stlf': 22,\n",
       "         'arima': 11,\n",
       "         'holtwinters': 16,\n",
       "         'prophet': 7,\n",
       "         'sarima': 17,\n",
       "         'theta': 5})"
      ]
     },
     "execution_count": 22,
     "metadata": {},
     "output_type": "execute_result"
    }
   ],
   "source": [
    "mlms.count_category()"
   ]
  },
  {
   "cell_type": "markdown",
   "metadata": {},
   "source": [
    "Before we visualize the data and train the model, it is helpful do some preprocessing.  We can do this with the `preprocess` function."
   ]
  },
  {
   "cell_type": "code",
   "execution_count": 23,
   "metadata": {},
   "outputs": [],
   "source": [
    "# pre-process the metadata\n",
    "# don't down-sample it to balance the classes\n",
    "# standardize the TsFeatures to have zero mean and unit variance\n",
    "mlms.preprocess(downsample=False, scale=True)"
   ]
  },
  {
   "cell_type": "markdown",
   "metadata": {},
   "source": [
    "We can see how the different `TsFeatures` in our metadata objects are correlated with each other by plotting a heatmap, which can be generated using the `plot_corr_heatmap` function."
   ]
  },
  {
   "cell_type": "code",
   "execution_count": 24,
   "metadata": {},
   "outputs": [
    {
     "data": {
      "image/png": "[encoded data removed]",
      "text/plain": [
       "<Figure size 576x432 with 2 Axes>"
      ]
     },
     "metadata": {
      "needs_background": "light"
     },
     "output_type": "display_data"
    }
   ],
   "source": [
    "mlms.plot_corr_heatmap()"
   ]
  },
  {
   "cell_type": "markdown",
   "metadata": {},
   "source": [
    "Now, it is time to train our model.  By default, we will be fitting a random forest model, but other model types (including GBDT, SVT, KNN, Naive Bayes) can be supported using the `method` parameter in the `train` function.  When we run the `train` function, it outputs a dictionary with the training error and test error for each of the candidate models.  All of these error metrics are MAPE because that is the error metric our metadata is using for this example."
   ]
  },
  {
   "cell_type": "code",
   "execution_count": 25,
   "metadata": {},
   "outputs": [
    {
     "data": {
      "text/plain": [
       "{'fit_error': {'meta-learn': 0.26309172342253745,\n",
       "  'stlf': 0.3080445886001993,\n",
       "  'arima': 0.37093723878018836,\n",
       "  'holtwinters': 0.34747758968549436,\n",
       "  'prophet': 0.32925405795892554,\n",
       "  'sarima': 0.3072710890426296,\n",
       "  'theta': 0.3490654675305036},\n",
       " 'pred_error': {'meta-learn': 0.2912143042197297,\n",
       "  'stlf': 0.30207847656637765,\n",
       "  'arima': 0.3187864974171871,\n",
       "  'holtwinters': 0.31852307776283506,\n",
       "  'prophet': 0.31771750673040133,\n",
       "  'sarima': 0.28459643367546616,\n",
       "  'theta': 0.4607974734510193},\n",
       " 'clf_accuracy': 0.25}"
      ]
     },
     "execution_count": 25,
     "metadata": {},
     "output_type": "execute_result"
    }
   ],
   "source": [
    "# train a modelselect model using random forest algorithm   \n",
    "results=mlms.train()\n",
    "\n",
    "# preview the dictionary\n",
    "results"
   ]
  },
  {
   "cell_type": "markdown",
   "metadata": {},
   "source": [
    "Let's view this dictionary as a `DataFrame`."
   ]
  },
  {
   "cell_type": "code",
   "execution_count": 26,
   "metadata": {},
   "outputs": [
    {
     "data": {
      "text/html": [
       "<div>\n",
       "<style scoped>\n",
       "    .dataframe tbody tr th:only-of-type {\n",
       "        vertical-align: middle;\n",
       "    }\n",
       "\n",
       "    .dataframe tbody tr th {\n",
       "        vertical-align: top;\n",
       "    }\n",
       "\n",
       "    .dataframe thead th {\n",
       "        text-align: right;\n",
       "    }\n",
       "</style>\n",
       "<table border=\"1\" class=\"dataframe\">\n",
       "  <thead>\n",
       "    <tr style=\"text-align: right;\">\n",
       "      <th></th>\n",
       "      <th>meta-learn</th>\n",
       "      <th>stlf</th>\n",
       "      <th>arima</th>\n",
       "      <th>holtwinters</th>\n",
       "      <th>prophet</th>\n",
       "      <th>sarima</th>\n",
       "      <th>theta</th>\n",
       "      <th>error_type</th>\n",
       "      <th>error_metric</th>\n",
       "    </tr>\n",
       "  </thead>\n",
       "  <tbody>\n",
       "    <tr>\n",
       "      <th>0</th>\n",
       "      <td>0.263092</td>\n",
       "      <td>0.308045</td>\n",
       "      <td>0.370937</td>\n",
       "      <td>0.347478</td>\n",
       "      <td>0.329254</td>\n",
       "      <td>0.307271</td>\n",
       "      <td>0.349065</td>\n",
       "      <td>fit_error</td>\n",
       "      <td>MAPE</td>\n",
       "    </tr>\n",
       "    <tr>\n",
       "      <th>1</th>\n",
       "      <td>0.291214</td>\n",
       "      <td>0.302078</td>\n",
       "      <td>0.318786</td>\n",
       "      <td>0.318523</td>\n",
       "      <td>0.317718</td>\n",
       "      <td>0.284596</td>\n",
       "      <td>0.460797</td>\n",
       "      <td>pred_error</td>\n",
       "      <td>MAPE</td>\n",
       "    </tr>\n",
       "  </tbody>\n",
       "</table>\n",
       "</div>"
      ],
      "text/plain": [
       "   meta-learn      stlf     arima  holtwinters   prophet    sarima     theta  \\\n",
       "0    0.263092  0.308045  0.370937     0.347478  0.329254  0.307271  0.349065   \n",
       "1    0.291214  0.302078  0.318786     0.318523  0.317718  0.284596  0.460797   \n",
       "\n",
       "   error_type error_metric  \n",
       "0   fit_error         MAPE  \n",
       "1  pred_error         MAPE  "
      ]
     },
     "execution_count": 26,
     "metadata": {},
     "output_type": "execute_result"
    }
   ],
   "source": [
    "results_df=pd.DataFrame([results['fit_error'], results['pred_error']])\n",
    "results_df['error_type']=['fit_error', 'pred_error']\n",
    "results_df['error_metric']='MAPE'\n",
    "results_df"
   ]
  },
  {
   "cell_type": "markdown",
   "metadata": {},
   "source": [
    "Now, let's use our trained model to predict the best model for the `air_passengers` time series."
   ]
  },
  {
   "cell_type": "code",
   "execution_count": 27,
   "metadata": {},
   "outputs": [
    {
     "name": "stderr",
     "output_type": "stream",
     "text": [
      "WARNING:root:Features of the test time series contains NaN value, consider processing it. Features are: {'length': 144, 'mean': 0.45064085387638453, 'var': 0.03694123647244219, 'entropy': 0.4287365561752448, 'lumpiness': 2.0317879601323604e-05, 'stability': 0.03180185085604344, 'flat_spots': 2, 'hurst': -0.08023291030513345, 'std1st_der': 0.043740012626144645, 'crossing_points': 7, 'binarize_mean': 0.4444444444444444, 'unitroot_kpss': 0.1284750818014943, 'heterogeneity': 126.06450625819339, 'histogram_mode': 0.2504823151125402, 'linearity': 0.8536381656031872, 'trend_strength': 0.9383301875692747, 'seasonality_strength': 0.3299338017939567, 'spikiness': 7.462446542148283e-10, 'peak': 6, 'trough': 3, 'level_shift_idx': 118, 'level_shift_size': 0.025080385852090048, 'y_acf1': 0.9480473407524915, 'y_acf5': 3.392072131604335, 'diff1y_acf1': 0.3028552581521692, 'diff1y_acf5': 0.25945910659994703, 'diff2y_acf1': -0.19100586757092758, 'diff2y_acf5': 0.13420736423784568, 'y_pacf5': 1.003288249401527, 'diff1y_pacf5': 0.21941234780081384, 'diff2y_pacf5': 0.26101034286994845, 'seas_acf1': 0.6629043863684491, 'seas_pacf1': 0.156169552555893, 'firstmin_ac': 8, 'firstzero_ac': 52, 'holt_alpha': 0.9999999850988388, 'holt_beta': nan, 'hw_alpha': 0.9999999850988388, 'hw_beta': nan, 'hw_gamma': nan}. Fill in NaNs with 0.\n"
     ]
    },
    {
     "data": {
      "text/plain": [
       "'stlf'"
      ]
     },
     "execution_count": 27,
     "metadata": {},
     "output_type": "execute_result"
    }
   ],
   "source": [
    "mlms.pred(air_passengers_ts)"
   ]
  },
  {
   "cell_type": "markdown",
   "metadata": {},
   "source": [
    "Let's save the model we trained to a file."
   ]
  },
  {
   "cell_type": "code",
   "execution_count": 28,
   "metadata": {},
   "outputs": [],
   "source": [
    "mlms.save_model(\"mlms.pkl\")"
   ]
  },
  {
   "cell_type": "markdown",
   "metadata": {},
   "source": [
    "Now let's re-load our saved model into a new `MetaLearnModelSelect` object."
   ]
  },
  {
   "cell_type": "code",
   "execution_count": 29,
   "metadata": {},
   "outputs": [
    {
     "ename": "ValueError",
     "evalue": "Fail to initiate MetaLearnModelSelect.",
     "output_type": "error",
     "traceback": [
      "\u001b[0;31m---------------------------------------------------------------------------\u001b[0m",
      "\u001b[0;31mValueError\u001b[0m                                Traceback (most recent call last)",
      "\u001b[0;32m<ipython-input-29-729a16bac2b6>\u001b[0m in \u001b[0;36m<module>\u001b[0;34m\u001b[0m\n\u001b[1;32m      1\u001b[0m \u001b[0;31m# TODO: re-run this when the fix has landed\u001b[0m\u001b[0;34m\u001b[0m\u001b[0;34m\u001b[0m\u001b[0;34m\u001b[0m\u001b[0m\n\u001b[0;32m----> 2\u001b[0;31m \u001b[0mmlms2\u001b[0m \u001b[0;34m=\u001b[0m \u001b[0mMetaLearnModelSelect\u001b[0m\u001b[0;34m(\u001b[0m\u001b[0mload_model\u001b[0m\u001b[0;34m=\u001b[0m\u001b[0;32mTrue\u001b[0m\u001b[0;34m)\u001b[0m\u001b[0;34m\u001b[0m\u001b[0;34m\u001b[0m\u001b[0m\n\u001b[0m\u001b[1;32m      3\u001b[0m \u001b[0mmlms2\u001b[0m\u001b[0;34m.\u001b[0m\u001b[0mload_model\u001b[0m\u001b[0;34m(\u001b[0m\u001b[0;34m\"mlms.pkl\"\u001b[0m\u001b[0;34m)\u001b[0m\u001b[0;34m\u001b[0m\u001b[0;34m\u001b[0m\u001b[0m\n",
      "\u001b[0;32m~/Kats/kats/models/metalearner/metalearner_modelselect.py\u001b[0m in \u001b[0;36m__init__\u001b[0;34m(self, metadata, load_model)\u001b[0m\n\u001b[1;32m     95\u001b[0m         \u001b[0;32melse\u001b[0m\u001b[0;34m:\u001b[0m\u001b[0;34m\u001b[0m\u001b[0;34m\u001b[0m\u001b[0m\n\u001b[1;32m     96\u001b[0m             \u001b[0mmsg\u001b[0m \u001b[0;34m=\u001b[0m \u001b[0;34m\"Fail to initiate MetaLearnModelSelect.\"\u001b[0m\u001b[0;34m\u001b[0m\u001b[0;34m\u001b[0m\u001b[0m\n\u001b[0;32m---> 97\u001b[0;31m             \u001b[0;32mraise\u001b[0m \u001b[0mValueError\u001b[0m\u001b[0;34m(\u001b[0m\u001b[0mmsg\u001b[0m\u001b[0;34m)\u001b[0m\u001b[0;34m\u001b[0m\u001b[0;34m\u001b[0m\u001b[0m\n\u001b[0m\u001b[1;32m     98\u001b[0m \u001b[0;34m\u001b[0m\u001b[0m\n\u001b[1;32m     99\u001b[0m     \u001b[0;32mdef\u001b[0m \u001b[0m_reorganize_data\u001b[0m\u001b[0;34m(\u001b[0m\u001b[0mself\u001b[0m\u001b[0;34m)\u001b[0m \u001b[0;34m->\u001b[0m \u001b[0;32mNone\u001b[0m\u001b[0;34m:\u001b[0m\u001b[0;34m\u001b[0m\u001b[0;34m\u001b[0m\u001b[0m\n",
      "\u001b[0;31mValueError\u001b[0m: Fail to initiate MetaLearnModelSelect."
     ]
    }
   ],
   "source": [
    "# TODO: re-run this when the fix has landed\n",
    "mlms2 = MetaLearnModelSelect(load_model=True)\n",
    "mlms2.load_model(\"mlms.pkl\")"
   ]
  },
  {
   "cell_type": "markdown",
   "metadata": {},
   "source": [
    "Finally, let's use our newly loaded model to repeat the prediction we did on the `air_passenger` data set."
   ]
  },
  {
   "cell_type": "code",
   "execution_count": 30,
   "metadata": {},
   "outputs": [
    {
     "ename": "NameError",
     "evalue": "name 'mlms2' is not defined",
     "output_type": "error",
     "traceback": [
      "\u001b[0;31m---------------------------------------------------------------------------\u001b[0m",
      "\u001b[0;31mNameError\u001b[0m                                 Traceback (most recent call last)",
      "\u001b[0;32m<ipython-input-30-4ac54d6f2660>\u001b[0m in \u001b[0;36m<module>\u001b[0;34m\u001b[0m\n\u001b[0;32m----> 1\u001b[0;31m \u001b[0mmlms2\u001b[0m\u001b[0;34m.\u001b[0m\u001b[0mpred\u001b[0m\u001b[0;34m(\u001b[0m\u001b[0mair_passengers_ts\u001b[0m\u001b[0;34m)\u001b[0m\u001b[0;34m\u001b[0m\u001b[0;34m\u001b[0m\u001b[0m\n\u001b[0m",
      "\u001b[0;31mNameError\u001b[0m: name 'mlms2' is not defined"
     ]
    }
   ],
   "source": [
    "mlms2.pred(air_passengers_ts)"
   ]
  },
  {
   "cell_type": "markdown",
   "metadata": {},
   "source": [
    "## 4. **Hyperparameter Tuning with `MetaLearnHPT`**\n",
    "\n",
    "The `MetaLearnHPT` object allows you to build a model to predict the best hyperparameters for a time series given a designated forecasting model.  Specifically, `MetaLearnHPT` builds a neural network model that takes the `TsFeatures` for a time series as inputs and predicts the best hyperparameters for the forecasting model.\n",
    "\n",
    "Since a metadata dictionary contains both the `TsFeatures` and the best parameters (with keys `features` and `hpt_res`, respectively), we can use a list of metadata dictionaries to build this predictive model. "
   ]
  },
  {
   "cell_type": "markdown",
   "metadata": {},
   "source": [
    "For our example, we use `metadata_list`, which contains the metadata from the `m3_meta_data.csv` file, to build a  model for the Holt-Winters parameters for a time series.  We then use this model to predict the best Holt-Winters parameters for the `air_passengers` time series.  While this example is using the Holt-Winters model as the designated model, the same process can be used for any forecasting model supported by Kats as long as it is included in our metadata objects."
   ]
  },
  {
   "cell_type": "markdown",
   "metadata": {},
   "source": [
    "### 4.1 Initializing `MetaLearnHPT`"
   ]
  },
  {
   "cell_type": "markdown",
   "metadata": {},
   "source": [
    "To initialize the `MetaLearnHPT` model, we need to input the `TsFeatures` and hyperparameters for the Holt-Winters model as `DataFrame` objects.  To extract these from the metadata from `m3_meta_data.csv`, it is easiest use the `DataFrame` we loaded with this data, `metadata_df`.\n",
    "\n",
    "First, let's load the `TsFeatures` from `metadata_df` to a new `DataFrame` and preview it."
   ]
  },
  {
   "cell_type": "code",
   "execution_count": 31,
   "metadata": {},
   "outputs": [
    {
     "data": {
      "text/html": [
       "<div>\n",
       "<style scoped>\n",
       "    .dataframe tbody tr th:only-of-type {\n",
       "        vertical-align: middle;\n",
       "    }\n",
       "\n",
       "    .dataframe tbody tr th {\n",
       "        vertical-align: top;\n",
       "    }\n",
       "\n",
       "    .dataframe thead th {\n",
       "        text-align: right;\n",
       "    }\n",
       "</style>\n",
       "<table border=\"1\" class=\"dataframe\">\n",
       "  <thead>\n",
       "    <tr style=\"text-align: right;\">\n",
       "      <th></th>\n",
       "      <th>length</th>\n",
       "      <th>mean</th>\n",
       "      <th>var</th>\n",
       "      <th>entropy</th>\n",
       "      <th>lumpiness</th>\n",
       "      <th>stability</th>\n",
       "      <th>flat_spots</th>\n",
       "      <th>hurst</th>\n",
       "      <th>std1st_der</th>\n",
       "      <th>crossing_points</th>\n",
       "      <th>...</th>\n",
       "      <th>diff2y_pacf5</th>\n",
       "      <th>seas_acf1</th>\n",
       "      <th>seas_pacf1</th>\n",
       "      <th>firstmin_ac</th>\n",
       "      <th>firstzero_ac</th>\n",
       "      <th>holt_alpha</th>\n",
       "      <th>holt_beta</th>\n",
       "      <th>hw_alpha</th>\n",
       "      <th>hw_beta</th>\n",
       "      <th>hw_gamma</th>\n",
       "    </tr>\n",
       "  </thead>\n",
       "  <tbody>\n",
       "    <tr>\n",
       "      <th>0</th>\n",
       "      <td>68</td>\n",
       "      <td>0.353922</td>\n",
       "      <td>0.045430</td>\n",
       "      <td>0.833179</td>\n",
       "      <td>0.000461</td>\n",
       "      <td>0.011440</td>\n",
       "      <td>2</td>\n",
       "      <td>0.067969</td>\n",
       "      <td>0.138205</td>\n",
       "      <td>32</td>\n",
       "      <td>...</td>\n",
       "      <td>5.088309</td>\n",
       "      <td>0.212199</td>\n",
       "      <td>0.071177</td>\n",
       "      <td>1</td>\n",
       "      <td>12</td>\n",
       "      <td>0.126924</td>\n",
       "      <td>0.000000</td>\n",
       "      <td>2.328909e-01</td>\n",
       "      <td>0.000000e+00</td>\n",
       "      <td>0.186695</td>\n",
       "    </tr>\n",
       "    <tr>\n",
       "      <th>1</th>\n",
       "      <td>68</td>\n",
       "      <td>0.199953</td>\n",
       "      <td>0.027798</td>\n",
       "      <td>0.899969</td>\n",
       "      <td>0.000377</td>\n",
       "      <td>0.001403</td>\n",
       "      <td>3</td>\n",
       "      <td>0.031521</td>\n",
       "      <td>0.113224</td>\n",
       "      <td>33</td>\n",
       "      <td>...</td>\n",
       "      <td>1.407981</td>\n",
       "      <td>-0.085866</td>\n",
       "      <td>-0.060512</td>\n",
       "      <td>1</td>\n",
       "      <td>3</td>\n",
       "      <td>0.034220</td>\n",
       "      <td>0.032252</td>\n",
       "      <td>1.052632e-01</td>\n",
       "      <td>1.052632e-01</td>\n",
       "      <td>0.263158</td>\n",
       "    </tr>\n",
       "    <tr>\n",
       "      <th>2</th>\n",
       "      <td>68</td>\n",
       "      <td>0.489625</td>\n",
       "      <td>0.045509</td>\n",
       "      <td>0.806731</td>\n",
       "      <td>0.000044</td>\n",
       "      <td>0.014501</td>\n",
       "      <td>2</td>\n",
       "      <td>-0.040535</td>\n",
       "      <td>0.129866</td>\n",
       "      <td>24</td>\n",
       "      <td>...</td>\n",
       "      <td>1.342792</td>\n",
       "      <td>0.173154</td>\n",
       "      <td>-0.019452</td>\n",
       "      <td>2</td>\n",
       "      <td>18</td>\n",
       "      <td>0.044327</td>\n",
       "      <td>0.044327</td>\n",
       "      <td>1.052632e-01</td>\n",
       "      <td>1.052632e-01</td>\n",
       "      <td>0.210526</td>\n",
       "    </tr>\n",
       "    <tr>\n",
       "      <th>3</th>\n",
       "      <td>68</td>\n",
       "      <td>0.298087</td>\n",
       "      <td>0.049313</td>\n",
       "      <td>0.667211</td>\n",
       "      <td>0.000149</td>\n",
       "      <td>0.026464</td>\n",
       "      <td>1</td>\n",
       "      <td>0.021439</td>\n",
       "      <td>0.094965</td>\n",
       "      <td>25</td>\n",
       "      <td>...</td>\n",
       "      <td>1.676189</td>\n",
       "      <td>0.330326</td>\n",
       "      <td>-0.217522</td>\n",
       "      <td>3</td>\n",
       "      <td>23</td>\n",
       "      <td>0.000007</td>\n",
       "      <td>0.000000</td>\n",
       "      <td>5.263158e-02</td>\n",
       "      <td>5.263158e-02</td>\n",
       "      <td>0.157895</td>\n",
       "    </tr>\n",
       "    <tr>\n",
       "      <th>4</th>\n",
       "      <td>68</td>\n",
       "      <td>0.533605</td>\n",
       "      <td>0.065904</td>\n",
       "      <td>0.823098</td>\n",
       "      <td>0.000124</td>\n",
       "      <td>0.021781</td>\n",
       "      <td>2</td>\n",
       "      <td>-0.045258</td>\n",
       "      <td>0.152166</td>\n",
       "      <td>21</td>\n",
       "      <td>...</td>\n",
       "      <td>1.469424</td>\n",
       "      <td>0.207897</td>\n",
       "      <td>0.014251</td>\n",
       "      <td>2</td>\n",
       "      <td>22</td>\n",
       "      <td>0.000064</td>\n",
       "      <td>0.000000</td>\n",
       "      <td>7.091354e-10</td>\n",
       "      <td>9.692337e-12</td>\n",
       "      <td>0.000000</td>\n",
       "    </tr>\n",
       "  </tbody>\n",
       "</table>\n",
       "<p>5 rows × 40 columns</p>\n",
       "</div>"
      ],
      "text/plain": [
       "   length      mean       var   entropy  lumpiness  stability  flat_spots  \\\n",
       "0      68  0.353922  0.045430  0.833179   0.000461   0.011440           2   \n",
       "1      68  0.199953  0.027798  0.899969   0.000377   0.001403           3   \n",
       "2      68  0.489625  0.045509  0.806731   0.000044   0.014501           2   \n",
       "3      68  0.298087  0.049313  0.667211   0.000149   0.026464           1   \n",
       "4      68  0.533605  0.065904  0.823098   0.000124   0.021781           2   \n",
       "\n",
       "      hurst  std1st_der  crossing_points  ...  diff2y_pacf5  seas_acf1  \\\n",
       "0  0.067969    0.138205               32  ...      5.088309   0.212199   \n",
       "1  0.031521    0.113224               33  ...      1.407981  -0.085866   \n",
       "2 -0.040535    0.129866               24  ...      1.342792   0.173154   \n",
       "3  0.021439    0.094965               25  ...      1.676189   0.330326   \n",
       "4 -0.045258    0.152166               21  ...      1.469424   0.207897   \n",
       "\n",
       "   seas_pacf1  firstmin_ac  firstzero_ac  holt_alpha  holt_beta      hw_alpha  \\\n",
       "0    0.071177            1            12    0.126924   0.000000  2.328909e-01   \n",
       "1   -0.060512            1             3    0.034220   0.032252  1.052632e-01   \n",
       "2   -0.019452            2            18    0.044327   0.044327  1.052632e-01   \n",
       "3   -0.217522            3            23    0.000007   0.000000  5.263158e-02   \n",
       "4    0.014251            2            22    0.000064   0.000000  7.091354e-10   \n",
       "\n",
       "        hw_beta  hw_gamma  \n",
       "0  0.000000e+00  0.186695  \n",
       "1  1.052632e-01  0.263158  \n",
       "2  1.052632e-01  0.210526  \n",
       "3  5.263158e-02  0.157895  \n",
       "4  9.692337e-12  0.000000  \n",
       "\n",
       "[5 rows x 40 columns]"
      ]
     },
     "execution_count": 31,
     "metadata": {},
     "output_type": "execute_result"
    }
   ],
   "source": [
    "metadata_features_df = pd.DataFrame(metadata_df['features'].tolist())\n",
    "metadata_features_df.head()"
   ]
  },
  {
   "cell_type": "markdown",
   "metadata": {},
   "source": [
    "Now, let's do the same for the the Holt-Winters hyperparameters."
   ]
  },
  {
   "cell_type": "code",
   "execution_count": 32,
   "metadata": {},
   "outputs": [
    {
     "data": {
      "text/html": [
       "<div>\n",
       "<style scoped>\n",
       "    .dataframe tbody tr th:only-of-type {\n",
       "        vertical-align: middle;\n",
       "    }\n",
       "\n",
       "    .dataframe tbody tr th {\n",
       "        vertical-align: top;\n",
       "    }\n",
       "\n",
       "    .dataframe thead th {\n",
       "        text-align: right;\n",
       "    }\n",
       "</style>\n",
       "<table border=\"1\" class=\"dataframe\">\n",
       "  <thead>\n",
       "    <tr style=\"text-align: right;\">\n",
       "      <th></th>\n",
       "      <th>seasonal_periods</th>\n",
       "      <th>trend</th>\n",
       "      <th>damped</th>\n",
       "      <th>seasonal</th>\n",
       "    </tr>\n",
       "  </thead>\n",
       "  <tbody>\n",
       "    <tr>\n",
       "      <th>0</th>\n",
       "      <td>7</td>\n",
       "      <td>additive</td>\n",
       "      <td>True</td>\n",
       "      <td>multiplicative</td>\n",
       "    </tr>\n",
       "    <tr>\n",
       "      <th>1</th>\n",
       "      <td>7</td>\n",
       "      <td>multiplicative</td>\n",
       "      <td>True</td>\n",
       "      <td>multiplicative</td>\n",
       "    </tr>\n",
       "    <tr>\n",
       "      <th>2</th>\n",
       "      <td>14</td>\n",
       "      <td>additive</td>\n",
       "      <td>True</td>\n",
       "      <td>additive</td>\n",
       "    </tr>\n",
       "    <tr>\n",
       "      <th>3</th>\n",
       "      <td>4</td>\n",
       "      <td>multiplicative</td>\n",
       "      <td>False</td>\n",
       "      <td>multiplicative</td>\n",
       "    </tr>\n",
       "    <tr>\n",
       "      <th>4</th>\n",
       "      <td>10</td>\n",
       "      <td>multiplicative</td>\n",
       "      <td>False</td>\n",
       "      <td>additive</td>\n",
       "    </tr>\n",
       "  </tbody>\n",
       "</table>\n",
       "</div>"
      ],
      "text/plain": [
       "   seasonal_periods           trend  damped        seasonal\n",
       "0                 7        additive    True  multiplicative\n",
       "1                 7  multiplicative    True  multiplicative\n",
       "2                14        additive    True        additive\n",
       "3                 4  multiplicative   False  multiplicative\n",
       "4                10  multiplicative   False        additive"
      ]
     },
     "execution_count": 32,
     "metadata": {},
     "output_type": "execute_result"
    }
   ],
   "source": [
    "metadata_hpt_df = pd.DataFrame(metadata_df['hpt_res'].map(lambda x: x['holtwinters'][0]).tolist())\n",
    "metadata_hpt_df.head()"
   ]
  },
  {
   "cell_type": "markdown",
   "metadata": {},
   "source": [
    "The arguments for `MetaLearnHPT` are:\n",
    "* **data_x**: pd.DataFrame; A DataFrame with the TsFeatures.  Required unless `load_model=True`.\n",
    "* **data_y**: pd.DataFrame; A DataFrame with the best hyperparameters.  Required unless `load_model=True`.\n",
    "* **default_model**: string; The name of the forecast model whose default settings will be used. Supported options are 'arima', 'sarima', 'theta', 'prophet', 'holtwinters', 'stlf' and None.  Default is None, in which case we instantiate a custom model and use `categorical_idx` and `numerical_idx` to get the names of the hyperparameters.\n",
    "* **categorical_idx**: A list of strings of the names of the categorical hyper-parameters.  Required only when `default_model` is `None` and there are categorical hyper-parameters.\n",
    "* **numerical_idx**: Optional; A list of strings of the names of the numerical hyper-parameters.  Required only when `default_model` is `None` and there are numerical hyper-parameters.\n",
    "    If None, then a customized model will be initiated.\n",
    "* **load_model**: Boolean; whether or not to load a trained model. Default is False.\n",
    "\n",
    "\n",
    "We can initialize the `MetaLearnHPT` model using a `default_model` as follows."
   ]
  },
  {
   "cell_type": "code",
   "execution_count": 33,
   "metadata": {},
   "outputs": [],
   "source": [
    "from kats.models.metalearner.metalearner_hpt import MetaLearnHPT\n",
    "\n",
    "mlhpt_holtwinters = MetaLearnHPT(\n",
    "    data_x=metadata_features_df,\n",
    "    data_y=metadata_hpt_df,\n",
    "    default_model='holtwinters'\n",
    ")"
   ]
  },
  {
   "cell_type": "raw",
   "metadata": {},
   "source": [
    "We can also initialize this as a custom model by specifying the names of the parameters rather than the name of the model.  The main difference between these formulations is as follows:\n",
    "\n",
    "* When using a default model, you need to use the default neural network structure \n",
    "* When using a custom model, you need to specify the neural network parameters.\n",
    "\n",
    "We will show an example of each of these"
   ]
  },
  {
   "cell_type": "code",
   "execution_count": 34,
   "metadata": {},
   "outputs": [],
   "source": [
    "mlhpt_holtwinters2=MetaLearnHPT(\n",
    "    data_x=metadata_features_df,\n",
    "    data_y=metadata_hpt_df,\t\n",
    "    categorical_idx = [\"trend\",\"damped\",\"seasonal\"],\n",
    "    numerical_idx = [\"seasonal_periods\"]\n",
    ")"
   ]
  },
  {
   "cell_type": "markdown",
   "metadata": {},
   "source": [
    "### 4.2 `MetaLearnHPT` with Default Neural Network Model Structure\n",
    "\n",
    "When using a default model like we did when initializing `mlhpt_holtwinters`, `MetaLearnHPT` builds a neural network with the default neural network model structure.  This means we call the `build_network` function with no parameters."
   ]
  },
  {
   "cell_type": "code",
   "execution_count": 35,
   "metadata": {},
   "outputs": [
    {
     "name": "stdout",
     "output_type": "stream",
     "text": [
      "Multi-task neural network structure:\n",
      "MultitaskNet(\n",
      "  (shared_layer): ModuleList(\n",
      "    (0): Linear(in_features=40, out_features=20, bias=True)\n",
      "  )\n",
      "  (cat_layer_combo): ModuleList(\n",
      "    (0): ModuleList(\n",
      "      (0): Linear(in_features=20, out_features=2, bias=True)\n",
      "      (1): Linear(in_features=2, out_features=2, bias=True)\n",
      "    )\n",
      "    (1): ModuleList(\n",
      "      (0): Linear(in_features=20, out_features=3, bias=True)\n",
      "      (1): Linear(in_features=3, out_features=2, bias=True)\n",
      "    )\n",
      "    (2): ModuleList(\n",
      "      (0): Linear(in_features=20, out_features=5, bias=True)\n",
      "      (1): Linear(in_features=5, out_features=2, bias=True)\n",
      "    )\n",
      "    (3): ModuleList(\n",
      "      (0): Linear(in_features=20, out_features=3, bias=True)\n",
      "      (1): Linear(in_features=3, out_features=6, bias=True)\n",
      "    )\n",
      "  )\n",
      "  (num_layer): ModuleList()\n",
      ")\n"
     ]
    }
   ],
   "source": [
    "mlhpt_holtwinters.build_network()"
   ]
  },
  {
   "cell_type": "markdown",
   "metadata": {},
   "source": [
    "We use the `train` function to train the neural network."
   ]
  },
  {
   "cell_type": "code",
   "execution_count": 36,
   "metadata": {},
   "outputs": [],
   "source": [
    "mlhpt_holtwinters.train(lr=0.001, batch_size=20)"
   ]
  },
  {
   "cell_type": "markdown",
   "metadata": {},
   "source": [
    "Let's look at the training curves for this model."
   ]
  },
  {
   "cell_type": "code",
   "execution_count": 37,
   "metadata": {},
   "outputs": [
    {
     "data": {
      "image/png": "[encoded data removed]",
      "text/plain": [
       "<Figure size 1080x504 with 2 Axes>"
      ]
     },
     "metadata": {
      "needs_background": "light"
     },
     "output_type": "display_data"
    }
   ],
   "source": [
    "mlhpt_holtwinters.plot()"
   ]
  },
  {
   "cell_type": "markdown",
   "metadata": {},
   "source": [
    "Now let's use our trained model to predict the best Holt-Winters parameters for the `air_passengers` time series.  The `pred` function returns a `DataFrame` and the predicted parameters are in the `parameters` column."
   ]
  },
  {
   "cell_type": "code",
   "execution_count": 38,
   "metadata": {},
   "outputs": [
    {
     "name": "stderr",
     "output_type": "stream",
     "text": [
      "WARNING:root:Time series features contain NaNs!Time series features are {'length': 144, 'mean': 0.45064085387638453, 'var': 0.03694123647244219, 'entropy': 0.4287365561752448, 'lumpiness': 2.0317879601323604e-05, 'stability': 0.03180185085604344, 'flat_spots': 2, 'hurst': -0.08023291030513345, 'std1st_der': 0.043740012626144645, 'crossing_points': 7, 'binarize_mean': 0.4444444444444444, 'unitroot_kpss': 0.1284750818014943, 'heterogeneity': 126.06450625819339, 'histogram_mode': 0.2504823151125402, 'linearity': 0.8536381656031872, 'trend_strength': 0.9383301875692747, 'seasonality_strength': 0.3299338017939567, 'spikiness': 7.462446542148283e-10, 'peak': 6, 'trough': 3, 'level_shift_idx': 118, 'level_shift_size': 0.025080385852090048, 'y_acf1': 0.9480473407524915, 'y_acf5': 3.392072131604335, 'diff1y_acf1': 0.3028552581521692, 'diff1y_acf5': 0.25945910659994703, 'diff2y_acf1': -0.19100586757092758, 'diff2y_acf5': 0.13420736423784568, 'y_pacf5': 1.003288249401527, 'diff1y_pacf5': 0.21941234780081384, 'diff2y_pacf5': 0.26101034286994845, 'seas_acf1': 0.6629043863684491, 'seas_pacf1': 0.156169552555893, 'firstmin_ac': 8, 'firstzero_ac': 52, 'holt_alpha': 0.9999999850988388, 'holt_beta': nan, 'hw_alpha': 0.9999999850988388, 'hw_beta': nan, 'hw_gamma': nan}. Fill in NaNs with 0.\n"
     ]
    },
    {
     "data": {
      "text/plain": [
       "{'trend': 'additive',\n",
       " 'damped': False,\n",
       " 'seasonal': 'multiplicative',\n",
       " 'seasonal_periods': 24}"
      ]
     },
     "execution_count": 38,
     "metadata": {},
     "output_type": "execute_result"
    }
   ],
   "source": [
    "pred=mlhpt_holtwinters.pred(air_passengers_ts)\n",
    "pred['parameters'].iloc[0]"
   ]
  },
  {
   "cell_type": "markdown",
   "metadata": {},
   "source": [
    "Let's save the model we trained to a file."
   ]
  },
  {
   "cell_type": "code",
   "execution_count": 39,
   "metadata": {},
   "outputs": [],
   "source": [
    "mlhpt_holtwinters.save_model(\"mlhpt_hw.pkl\")"
   ]
  },
  {
   "cell_type": "markdown",
   "metadata": {},
   "source": [
    "Now let's re-load our saved model into a new `MetaLearnHPT` object."
   ]
  },
  {
   "cell_type": "code",
   "execution_count": 40,
   "metadata": {},
   "outputs": [],
   "source": [
    "mlhpt_holtwinters3=MetaLearnHPT(load_model=True)\n",
    "mlhpt_holtwinters3.load_model(\"mlhpt_hw.pkl\")"
   ]
  },
  {
   "cell_type": "markdown",
   "metadata": {},
   "source": [
    "Let's use our newly loaded model to repeat the prediction we did on the `air_passenger` data set."
   ]
  },
  {
   "cell_type": "code",
   "execution_count": 41,
   "metadata": {},
   "outputs": [
    {
     "name": "stderr",
     "output_type": "stream",
     "text": [
      "WARNING:root:Time series features contain NaNs!Time series features are {'length': 144, 'mean': 0.45064085387638453, 'var': 0.03694123647244219, 'entropy': 0.4287365561752448, 'lumpiness': 2.0317879601323604e-05, 'stability': 0.03180185085604344, 'flat_spots': 2, 'hurst': -0.08023291030513345, 'std1st_der': 0.043740012626144645, 'crossing_points': 7, 'binarize_mean': 0.4444444444444444, 'unitroot_kpss': 0.1284750818014943, 'heterogeneity': 126.06450625819339, 'histogram_mode': 0.2504823151125402, 'linearity': 0.8536381656031872, 'trend_strength': 0.9383301875692747, 'seasonality_strength': 0.3299338017939567, 'spikiness': 7.462446542148283e-10, 'peak': 6, 'trough': 3, 'level_shift_idx': 118, 'level_shift_size': 0.025080385852090048, 'y_acf1': 0.9480473407524915, 'y_acf5': 3.392072131604335, 'diff1y_acf1': 0.3028552581521692, 'diff1y_acf5': 0.25945910659994703, 'diff2y_acf1': -0.19100586757092758, 'diff2y_acf5': 0.13420736423784568, 'y_pacf5': 1.003288249401527, 'diff1y_pacf5': 0.21941234780081384, 'diff2y_pacf5': 0.26101034286994845, 'seas_acf1': 0.6629043863684491, 'seas_pacf1': 0.156169552555893, 'firstmin_ac': 8, 'firstzero_ac': 52, 'holt_alpha': 0.9999999850988388, 'holt_beta': nan, 'hw_alpha': 0.9999999850988388, 'hw_beta': nan, 'hw_gamma': nan}. Fill in NaNs with 0.\n"
     ]
    },
    {
     "data": {
      "text/plain": [
       "{'trend': 'additive',\n",
       " 'damped': False,\n",
       " 'seasonal': 'multiplicative',\n",
       " 'seasonal_periods': 24}"
      ]
     },
     "execution_count": 41,
     "metadata": {},
     "output_type": "execute_result"
    }
   ],
   "source": [
    "pred=mlhpt_holtwinters3.pred(air_passengers_ts)\n",
    "pred['parameters'].iloc[0]"
   ]
  },
  {
   "cell_type": "markdown",
   "metadata": {},
   "source": [
    "### 4.3 `MetaLearnHPT` with Custom Neural Network Model Structure\n",
    "\n",
    "When using a custom model like we did when initializing `mlhpt_holtwinters2`, you need to specify the model structure by providing the parameters for the neural network to the `build_network` function. \n",
    "\n",
    "Here's how we can do that."
   ]
  },
  {
   "cell_type": "code",
   "execution_count": 42,
   "metadata": {},
   "outputs": [
    {
     "name": "stdout",
     "output_type": "stream",
     "text": [
      "Multi-task neural network structure:\n",
      "MultitaskNet(\n",
      "  (shared_layer): ModuleList(\n",
      "    (0): Linear(in_features=40, out_features=50, bias=True)\n",
      "  )\n",
      "  (cat_layer_combo): ModuleList(\n",
      "    (0): ModuleList(\n",
      "      (0): Linear(in_features=50, out_features=20, bias=True)\n",
      "      (1): Linear(in_features=20, out_features=10, bias=True)\n",
      "      (2): Linear(in_features=10, out_features=2, bias=True)\n",
      "    )\n",
      "    (1): ModuleList(\n",
      "      (0): Linear(in_features=50, out_features=20, bias=True)\n",
      "      (1): Linear(in_features=20, out_features=10, bias=True)\n",
      "      (2): Linear(in_features=10, out_features=2, bias=True)\n",
      "    )\n",
      "    (2): ModuleList(\n",
      "      (0): Linear(in_features=50, out_features=20, bias=True)\n",
      "      (1): Linear(in_features=20, out_features=2, bias=True)\n",
      "    )\n",
      "  )\n",
      "  (num_layer): ModuleList(\n",
      "    (0): Linear(in_features=50, out_features=30, bias=True)\n",
      "    (1): Linear(in_features=30, out_features=1, bias=True)\n",
      "  )\n",
      ")\n"
     ]
    }
   ],
   "source": [
    "mlhpt_holtwinters2.build_network(\n",
    "    #One shared one-layer NN with 50 neurons.\n",
    "    n_hidden_shared=[50],\n",
    "    #Each classification task has its own task-specific NN. In this example, \"trend\" and \"dampled\" both have a two-layer NN respectively\n",
    "    #and \"seasonal\" has a one-layer NN.\n",
    "    n_hidden_cat_combo=[[20, 10], [20, 10], [20]], \n",
    "    #One task-specific one-layer NN with 30 neurons for regression task.\n",
    "    n_hidden_num=[30]\n",
    ")"
   ]
  },
  {
   "cell_type": "markdown",
   "metadata": {},
   "source": [
    "Now let's use the `train` function to train the model.  We include some of the extra parameters here to specify how to train the neural network model."
   ]
  },
  {
   "cell_type": "code",
   "execution_count": 43,
   "metadata": {},
   "outputs": [],
   "source": [
    "#train the customized NN\n",
    "mlhpt_holtwinters2.train(    \n",
    "    #loss_scale is used to balance 2 types of losses: cross-entropy for classification tasks and MSE for regression tasks\n",
    "    loss_scale=30,\n",
    "    #learning rate\n",
    "    lr=0.005,\n",
    "    n_epochs=2000,\n",
    "    batch_size=16,\n",
    "    #supports ADAM and SGD\n",
    "    method='SGD',\n",
    "    #momentum in SGD.\n",
    "    momentum=0,\n",
    "    #early stop option.\n",
    "    n_epochs_stop=50,)"
   ]
  },
  {
   "cell_type": "markdown",
   "metadata": {},
   "source": [
    "Let's look at the training curves for this model."
   ]
  },
  {
   "cell_type": "code",
   "execution_count": 44,
   "metadata": {},
   "outputs": [
    {
     "data": {
      "image/png": "[encoded data removed]",
      "text/plain": [
       "<Figure size 1080x504 with 2 Axes>"
      ]
     },
     "metadata": {
      "needs_background": "light"
     },
     "output_type": "display_data"
    }
   ],
   "source": [
    "mlhpt_holtwinters2.plot()"
   ]
  },
  {
   "cell_type": "markdown",
   "metadata": {},
   "source": [
    "Let's use our trained model to predict the best parameters for the `air_passengers` time series. "
   ]
  },
  {
   "cell_type": "code",
   "execution_count": 45,
   "metadata": {},
   "outputs": [
    {
     "name": "stderr",
     "output_type": "stream",
     "text": [
      "WARNING:root:Time series features contain NaNs!Time series features are {'length': 144, 'mean': 0.45064085387638453, 'var': 0.03694123647244219, 'entropy': 0.4287365561752448, 'lumpiness': 2.0317879601323604e-05, 'stability': 0.03180185085604344, 'flat_spots': 2, 'hurst': -0.08023291030513345, 'std1st_der': 0.043740012626144645, 'crossing_points': 7, 'binarize_mean': 0.4444444444444444, 'unitroot_kpss': 0.1284750818014943, 'heterogeneity': 126.06450625819339, 'histogram_mode': 0.2504823151125402, 'linearity': 0.8536381656031872, 'trend_strength': 0.9383301875692747, 'seasonality_strength': 0.3299338017939567, 'spikiness': 7.462446542148283e-10, 'peak': 6, 'trough': 3, 'level_shift_idx': 118, 'level_shift_size': 0.025080385852090048, 'y_acf1': 0.9480473407524915, 'y_acf5': 3.392072131604335, 'diff1y_acf1': 0.3028552581521692, 'diff1y_acf5': 0.25945910659994703, 'diff2y_acf1': -0.19100586757092758, 'diff2y_acf5': 0.13420736423784568, 'y_pacf5': 1.003288249401527, 'diff1y_pacf5': 0.21941234780081384, 'diff2y_pacf5': 0.26101034286994845, 'seas_acf1': 0.6629043863684491, 'seas_pacf1': 0.156169552555893, 'firstmin_ac': 8, 'firstzero_ac': 52, 'holt_alpha': 0.9999999850988388, 'holt_beta': nan, 'hw_alpha': 0.9999999850988388, 'hw_beta': nan, 'hw_gamma': nan}. Fill in NaNs with 0.\n"
     ]
    },
    {
     "data": {
      "text/plain": [
       "{'trend': 'additive',\n",
       " 'damped': False,\n",
       " 'seasonal': 'multiplicative',\n",
       " 'seasonal_periods': 134.79474}"
      ]
     },
     "execution_count": 45,
     "metadata": {},
     "output_type": "execute_result"
    }
   ],
   "source": [
    "pred=mlhpt_holtwinters2.pred(air_passengers_ts)\n",
    "pred['parameters'].iloc[0]"
   ]
  },
  {
   "cell_type": "code",
   "execution_count": null,
   "metadata": {},
   "outputs": [],
   "source": []
  }
 ],
 "metadata": {
  "kernelspec": {
   "display_name": "Python 3",
   "language": "python",
   "name": "python3"
  },
  "language_info": {
   "codemirror_mode": {
    "name": "ipython",
    "version": 3
   },
   "file_extension": ".py",
   "mimetype": "text/x-python",
   "name": "python",
   "nbconvert_exporter": "python",
   "pygments_lexer": "ipython3",
   "version": "3.7.10"
  },
  "metadata": {
   "interpreter": {
    "hash": "5b6e8fba36db23bc4d54e0302cd75fdd75c29d9edcbab68d6cfc74e7e4b30305"
   }
  }
 },
 "nbformat": 4,
 "nbformat_minor": 2
}
